{
 "cells": [
  {
   "cell_type": "markdown",
   "metadata": {},
   "source": [
    "# Prévalence du Listeria dans le lait cru"
   ]
  },
  {
   "cell_type": "code",
   "execution_count": 1,
   "metadata": {},
   "outputs": [
    {
     "name": "stdout",
     "output_type": "stream",
     "text": [
      "README.md                 listeria.txt              projets2021.pdf\r\n",
      "exploratoire_claire.ipynb mcmc.ipynb\r\n"
     ]
    }
   ],
   "source": [
    "!ls"
   ]
  },
  {
   "cell_type": "code",
   "execution_count": 50,
   "metadata": {},
   "outputs": [],
   "source": [
    "import numpy as np\n",
    "import matplotlib.pyplot as plt\n",
    "import seaborn as sns\n",
    "import pandas as pd\n",
    "import random as rd"
   ]
  },
  {
   "cell_type": "code",
   "execution_count": 32,
   "metadata": {},
   "outputs": [],
   "source": [
    "data = pd.read_csv('listeria.txt', sep=',')\n",
    "data.columns = ['nb_pos', 'nb_test']\n",
    "new_row = {'nb_pos':0, 'nb_test':600}\n",
    "data = data.append(new_row, ignore_index=True)"
   ]
  },
  {
   "cell_type": "code",
   "execution_count": 46,
   "metadata": {
    "scrolled": true
   },
   "outputs": [],
   "source": [
    "data['prob']=data[\"nb_pos\"]/data['nb_test']\n",
    "proba_constante = sum(data['nb_pos'])/sum(data['nb_test'])"
   ]
  },
  {
   "cell_type": "code",
   "execution_count": 47,
   "metadata": {},
   "outputs": [
    {
     "data": {
      "text/plain": [
       "0.0010564383073439964"
      ]
     },
     "execution_count": 47,
     "metadata": {},
     "output_type": "execute_result"
    }
   ],
   "source": [
    "proba_constante"
   ]
  },
  {
   "cell_type": "markdown",
   "metadata": {},
   "source": [
    "# Question 1 : détermination de la loi a posteriori"
   ]
  },
  {
   "cell_type": "markdown",
   "metadata": {},
   "source": [
    "On suppose dans un premier temps que la probabilité de présence de listeria dans toutes les études est constante. \n",
    "\n",
    "Modèle binomial : $r_i \\sim \\mathcal{B}(n_i,p)$ de fdr $f(r_i, p) = p^r_i (1-p)^{n_i-r_i}$ \n",
    "\n",
    "Loi a priori : $p \\sim \\mathcal{B}eta(\\alpha,\\beta)$ avec $\\alpha, \\beta = 1$ ce qui revient à avoir $p \\propto \\mathcal{U}([0,1])$ \n",
    "\n",
    "Loi a posteriori : $\\pi(p|r_i) \\propto f(r_i,p) \\mathbb{1}_{[0,1]}(r_i) \\propto p^{(r_i+1)-1} (1-p)^{(n_i-r_i+1) -1} \\sim \\mathcal{B}eta(r_i+1, n_i-r_i+1)$"
   ]
  },
  {
   "cell_type": "markdown",
   "metadata": {},
   "source": [
    "On suppose dans un second temps que la probabilité de présence de listeria est variable selon les études.  \n",
    "\n",
    "Modèle binomial : $r_i \\sim \\mathcal{B}(n_i,p_i)$ de fdr $f(r_i, p_i) = p_i^{r_i} (1-p_i)^{n_i-r_i}$ \n",
    "\n",
    "Loi a priori : $p_i \\sim \\mathcal{B}eta(\\alpha,\\beta)$ \n",
    "\n",
    "Paramétrisation : $\\alpha, \\beta$ tels que $\\mu = \\alpha/(\\alpha+\\beta) \\sim \\mathcal{U}([0,1])$ et $\\kappa = \\alpha + \\beta \\sim \\mathcal{E}(0.1)$\n",
    "\n",
    "Loi a posteriori : \n",
    "$\\pi(p_i|r_i) \\propto f(r_i,p_i) p_i^{\\alpha -1} (1-p_i)^{\\beta -1} $\n",
    "\n",
    "$\\pi(p_i|r_i) \\propto p_i^{r_i} (1-p_i)^{n_i-r_i} p_i^{\\alpha -1} (1-p_i)^{\\beta -1} $\n",
    "\n",
    "$\\pi(p_i|r_i) \\propto p_i^{r_i+\\alpha-1} (1-p_i)^{n_i-r_i+\\beta -1 }  $\n",
    "\n",
    "D'où $\\pi(p_i|r_i) \\sim \\mathcal{B}eta(\\alpha+r_i, \\beta - n_i +r_i)$"
   ]
  },
  {
   "cell_type": "code",
   "execution_count": null,
   "metadata": {},
   "outputs": [],
   "source": [
    "donnees = []"
   ]
  },
  {
   "cell_type": "code",
   "execution_count": 42,
   "metadata": {
    "scrolled": false
   },
   "outputs": [
    {
     "data": {
      "text/plain": [
       "<AxesSubplot:xlabel='prob', ylabel='Count'>"
      ]
     },
     "execution_count": 42,
     "metadata": {},
     "output_type": "execute_result"
    },
    {
     "data": {
      "image/png": "[encoded data removed]",
      "text/plain": [
       "<Figure size 432x288 with 1 Axes>"
      ]
     },
     "metadata": {
      "needs_background": "light"
     },
     "output_type": "display_data"
    }
   ],
   "source": [
    "sns.histplot(data, x=\"prob\")"
   ]
  },
  {
   "cell_type": "markdown",
   "metadata": {},
   "source": [
    "### Loi exponentielle \n",
    "\n"
   ]
  },
  {
   "cell_type": "code",
   "execution_count": 43,
   "metadata": {},
   "outputs": [],
   "source": [
    "def gen_exp(theta):\n",
    "    u = rd.random()\n",
    "    return -1/theta*np.log(1-u)"
   ]
  },
  {
   "cell_type": "markdown",
   "metadata": {},
   "source": [
    "### Loi Gamma \n",
    "Remarque : sommer les cas/les études pour un gros échantillon\n",
    "Simuler une loi beta(alpha, beta) à l'aide de simulation de lois gammas. \n",
    "\n",
    "------------\n",
    "Soient $X$ et $Y$ deux variables independantes distribuees suivant des lois  $\\Gamma(a,1)$ et $\\Gamma(b,1)$\n",
    "\n",
    "Alors $U = X+Y$ et $V = X/(X+Y)$ sont deux variables independantes distribuees suivant des lois $\\Gamma(a+b,1)$ et $\\mathcal{B}eta(a,b)$.\n",
    "\n",
    "\n",
    "\n"
   ]
  },
  {
   "cell_type": "code",
   "execution_count": 63,
   "metadata": {},
   "outputs": [],
   "source": [
    "def gamma(x):\n",
    "    l = [gen_exp(x) for i in range(10000)]\n",
    "    return mean(l)\n",
    "        \n",
    "def f(x, a, b):\n",
    "    return b**a*x**(a-1)*exp(-bx)/gamma(a)\n"
   ]
  },
  {
   "cell_type": "code",
   "execution_count": 64,
   "metadata": {},
   "outputs": [],
   "source": [
    "def gen_gamma(a,b):\n",
    "    # si alpha = 1, cela revient à avoir une loi exponentielle de paramètre beta\n",
    "    if a == 1:\n",
    "        return gen_exp(b)\n",
    "    # si alpha est un entier non nul, gamma coïncide avec une somme de alpha va exponentielles\n",
    "    # de paramètre beta indépendantes\n",
    "    elif a == int(a) and a > 1 : \n",
    "        return sum([gen_exp(b) for i in range(a)])\n",
    "    # sinon, on va utiliser une méthode de rejet \n",
    "    else : \n",
    "        while True : \n",
    "            # on va utiliser une loi de gamma de paramètres entiers pour g\n",
    "            x = gen_gamma(int(a), b+1)\n",
    "            # constante calculée dans la photo sur messenger\n",
    "            c = b**a/((b+1)**int(a))*gamma(int(a))/gamma(a)*(a-int(a))**(a-int(a))*exp(-int(a)+a)\n",
    "            u = rd.random()\n",
    "            if u <= c*f(x, a, b)/g(x, int(a), b+1):\n",
    "                return x \n",
    "        \n",
    "        "
   ]
  },
  {
   "cell_type": "code",
   "execution_count": 81,
   "metadata": {},
   "outputs": [],
   "source": [
    "def gen_beta(alpha, beta):\n",
    "    X = gen_gamma(alpha, 1)\n",
    "    Y = gen_gamma(beta,1)\n",
    "    return X/(X+Y)"
   ]
  },
  {
   "cell_type": "code",
   "execution_count": 71,
   "metadata": {},
   "outputs": [],
   "source": [
    "def gen_binomiale(n,p):\n",
    "    l=[]\n",
    "    for i in range(n):\n",
    "        r = rd.random()\n",
    "        if r <= p:\n",
    "            l.append(1)\n",
    "    return sum(l)"
   ]
  },
  {
   "cell_type": "code",
   "execution_count": 90,
   "metadata": {},
   "outputs": [],
   "source": [
    "def gen_bernoulli(p):\n",
    "    if rd.random() <= p :\n",
    "        return 1\n",
    "    return 0"
   ]
  },
  {
   "cell_type": "code",
   "execution_count": 95,
   "metadata": {},
   "outputs": [],
   "source": [
    "list_n = data['nb_test'].tolist()\n",
    "r_list = []\n",
    "for elem in list_n:\n",
    "    p = gen_bernoulli(proba_constante)\n",
    "    r_list.append(gen_binomiale(elem,p)) "
   ]
  },
  {
   "cell_type": "code",
   "execution_count": 96,
   "metadata": {},
   "outputs": [
    {
     "data": {
      "text/plain": [
       "<AxesSubplot:ylabel='Count'>"
      ]
     },
     "execution_count": 96,
     "metadata": {},
     "output_type": "execute_result"
    },
    {
     "data": {
      "image/png": "[encoded data removed]",
      "text/plain": [
       "<Figure size 432x288 with 1 Axes>"
      ]
     },
     "metadata": {
      "needs_background": "light"
     },
     "output_type": "display_data"
    }
   ],
   "source": [
    "sns.histplot([gen_beta(r_list[i]+1,list_n[i]-r_list[i]+1) for i in range(len(list_n))])"
   ]
  },
  {
   "cell_type": "code",
   "execution_count": 79,
   "metadata": {},
   "outputs": [
    {
     "data": {
      "text/plain": [
       "<AxesSubplot:xlabel='prob', ylabel='Count'>"
      ]
     },
     "execution_count": 79,
     "metadata": {},
     "output_type": "execute_result"
    },
    {
     "data": {
      "image/png": "[encoded data removed]",
      "text/plain": [
       "<Figure size 432x288 with 1 Axes>"
      ]
     },
     "metadata": {
      "needs_background": "light"
     },
     "output_type": "display_data"
    }
   ],
   "source": [
    "sns.histplot(data['prob'])"
   ]
  },
  {
   "cell_type": "code",
   "execution_count": null,
   "metadata": {},
   "outputs": [],
   "source": []
  }
 ],
 "metadata": {
  "kernelspec": {
   "display_name": "Python 3",
   "language": "python",
   "name": "python3"
  },
  "language_info": {
   "codemirror_mode": {
    "name": "ipython",
    "version": 3
   },
   "file_extension": ".py",
   "mimetype": "text/x-python",
   "name": "python",
   "nbconvert_exporter": "python",
   "pygments_lexer": "ipython3",
   "version": "3.8.5"
  }
 },
 "nbformat": 4,
 "nbformat_minor": 4
}
