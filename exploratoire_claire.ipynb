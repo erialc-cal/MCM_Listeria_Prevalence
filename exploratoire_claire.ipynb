{
 "cells": [
  {
   "cell_type": "markdown",
   "metadata": {},
   "source": [
    "# Prévalence du Listeria dans le lait cru"
   ]
  },
  {
   "cell_type": "code",
   "execution_count": 1,
   "metadata": {},
   "outputs": [
    {
     "name": "stdout",
     "output_type": "stream",
     "text": [
      "README.md                 listeria.txt              projets2021.pdf\r\n",
      "exploratoire_claire.ipynb mcmc.ipynb\r\n"
     ]
    }
   ],
   "source": [
    "!ls"
   ]
  },
  {
   "cell_type": "code",
   "execution_count": 2,
   "metadata": {},
   "outputs": [],
   "source": [
    "import numpy as np\n",
    "import matplotlib.pyplot as plt\n",
    "import seaborn as sns\n",
    "import pandas as pd\n",
    "import random as rd"
   ]
  },
  {
   "cell_type": "code",
   "execution_count": 3,
   "metadata": {},
   "outputs": [],
   "source": [
    "data = pd.read_csv('listeria.txt', sep=',')\n",
    "data.columns = ['nb_pos', 'nb_test']\n",
    "new_row = {'nb_pos':0, 'nb_test':600}\n",
    "data = data.append(new_row, ignore_index=True)"
   ]
  },
  {
   "cell_type": "code",
   "execution_count": 84,
   "metadata": {},
   "outputs": [
    {
     "name": "stdout",
     "output_type": "stream",
     "text": [
      "1257054\n"
     ]
    }
   ],
   "source": [
    "print(sum(data['nb_test']))"
   ]
  },
  {
   "cell_type": "code",
   "execution_count": 41,
   "metadata": {
    "scrolled": true
   },
   "outputs": [],
   "source": [
    "data['prob']=data[\"nb_pos\"]/data['nb_test']\n",
    "proba_constante = sum(data['nb_pos'])/sum(data['nb_test'])"
   ]
  },
  {
   "cell_type": "markdown",
   "metadata": {},
   "source": [
    "- `data.nb_pos[i]` : nombre de personnes testées positives sur l'échantillon i \n",
    "- `data.nb_test[i]`: nombre de personnes testées dans l'échantillon i \n",
    "- `data.prob[i]`: probabilité empirique d'être positif sur l'étude i\n",
    "- `proba_constante`: probabilité empirique d'être positif. "
   ]
  },
  {
   "cell_type": "code",
   "execution_count": 103,
   "metadata": {},
   "outputs": [
    {
     "data": {
      "text/plain": [
       "<AxesSubplot:xlabel='nb_test', ylabel='Count'>"
      ]
     },
     "execution_count": 103,
     "metadata": {},
     "output_type": "execute_result"
    },
    {
     "data": {
      "image/png": "[encoded data removed]",
      "text/plain": [
       "<Figure size 432x288 with 2 Axes>"
      ]
     },
     "metadata": {},
     "output_type": "display_data"
    }
   ],
   "source": [
    "fig, ax = plt.subplots(2,1)\n",
    "sns.histplot(data['nb_pos'], ax=ax[0])\n",
    "sns.histplot(np.log(data['nb_test']), ax=ax[1])"
   ]
  },
  {
   "cell_type": "markdown",
   "metadata": {},
   "source": [
    "# Question 1 : détermination de la loi a posteriori dans un cas simple"
   ]
  },
  {
   "cell_type": "markdown",
   "metadata": {},
   "source": [
    "## Calculs théoriques \n",
    "On suppose dans un premier temps que la probabilité de présence de listeria dans toutes les études est constante $p$.\n",
    "\n",
    "\n",
    "Modèle binomial : $r_i \\sim \\mathcal{B}(n_i,p)$, de fonction de masse $f(r_i, p) = \\binom{n_i}{r_i} p^{r_i} (1-p)^{n_i-r_i}$ \n",
    "\n",
    "Loi a priori : $p \\sim \\mathcal{B}eta(\\alpha,\\beta)$ avec $\\alpha, \\beta = 1$ ce qui revient à avoir $p \\propto \\mathcal{U}([0,1])$ donc de densité $\\mathbb{1}_{[0,1]}(p)$\n",
    "\n",
    "La densité de la loi a posteriori est alors ($n$=91 est le nombre d'études) : \n",
    "\n",
    "$\\pi(p|r_1,\\dots, r_n) \\propto \\prod_{i=1}^{n}f(r_i,p) \\mathbb{1}_{[0,1]}(p) \n",
    "\\\\  \\;\\;\\;\\;\\;\\;\\;\\;\\;\\;\\;\\;\\;\\;\\;\\;\\;\\,\\,  \\propto \\prod_{i=1}^{n} p^{r_i} (1-p)^{(n_i-r_i)}  \n",
    "\\\\  \\;\\;\\;\\;\\;\\;\\;\\;\\;\\;\\;\\;\\;\\;\\;\\;\\;\\,\\,  \\propto p^{\\sum_{i=1}^{n}r_i} (1-p)^{\\sum_{i=1}^{n}(n_i-r_i)}  \\sim \\mathcal{B}eta(\\sum_{i=1}^{n}r_i +1, \\sum_{i=1}^{n}(n_i-r_i)+1)$\n",
    "\n",
    "Les observations nous permettent alors de calculer les deux paramètres de cette loi Bêta :\n"
   ]
  },
  {
   "cell_type": "code",
   "execution_count": 105,
   "metadata": {},
   "outputs": [
    {
     "name": "stdout",
     "output_type": "stream",
     "text": [
      "premier paramètre = 1329\n",
      "deuxième paramètre = 1255727\n"
     ]
    }
   ],
   "source": [
    "print(\"premier paramètre =\",sum(data['nb_pos'])+1)\n",
    "print(\"deuxième paramètre =\",sum(data['nb_test'])-sum(data['nb_pos'])+1)"
   ]
  },
  {
   "cell_type": "markdown",
   "metadata": {},
   "source": [
    "Finalement, la loi a posteriori de $p$ est une $\\boxed{\\mathcal{B}eta(1329,1255727)}$"
   ]
  },
  {
   "cell_type": "markdown",
   "metadata": {},
   "source": [
    "## Génération de lois utiles"
   ]
  },
  {
   "cell_type": "markdown",
   "metadata": {},
   "source": [
    "### Loi exponentielle \n",
    "\n"
   ]
  },
  {
   "cell_type": "code",
   "execution_count": 106,
   "metadata": {},
   "outputs": [],
   "source": [
    "def gen_exp(theta):\n",
    "    u = rd.random()\n",
    "    return -1/theta*np.log(1-u)"
   ]
  },
  {
   "cell_type": "markdown",
   "metadata": {},
   "source": [
    "### Loi Gamma \n",
    "Remarque : sommer les cas/les études pour un gros échantillon\n",
    "Simuler une loi beta(alpha, beta) à l'aide de simulation de lois gammas. \n",
    "\n",
    "------------\n",
    "**Lemme.** \n",
    "\n",
    "  > Soient $X$ et $Y$ deux variables independantes distribuees suivant des lois  $\\Gamma(a,1)$ et $\\Gamma(b,1)$\n",
    "    Alors $U = X+Y$ et $V = X/(X+Y)$ sont deux variables independantes distribuees suivant des lois $\\Gamma(a+b,1)$ et $\\mathcal{B}eta(a,b)$.\n",
    "\n",
    "\n",
    "\n"
   ]
  },
  {
   "cell_type": "code",
   "execution_count": 223,
   "metadata": {},
   "outputs": [],
   "source": [
    "#def gamma(x):\n",
    "#    \"\"\"\n",
    "#    Calcul de l'intégrale de Gamma de paramètre x par Monte Carlo\n",
    "#    \"\"\"\n",
    "#    l = [gen_exp(x) for i in range(1000)]\n",
    "#    return np.mean(l)\n",
    "from math import gamma \n",
    "\n",
    "def f(x, a, b):\n",
    "    \"\"\" \n",
    "    densité de la loi Gamma(a,b) en x \n",
    "    \"\"\"\n",
    "    return b**a*x**(a-1)*np.exp(-b*x)/gamma(a)\n"
   ]
  },
  {
   "cell_type": "code",
   "execution_count": 224,
   "metadata": {},
   "outputs": [],
   "source": [
    "def gen_gamma(a,b):\n",
    "    \"\"\" \n",
    "    Algorithme de génération d'une distribution Gamma(a,b)\n",
    "    \"\"\"\n",
    "    # si alpha = 1, cela revient à avoir une loi exponentielle de paramètre beta\n",
    "    if a == 1:\n",
    "        return gen_exp(b)\n",
    "    # si alpha est un entier non nul, gamma coïncide avec une somme de alpha va exponentielles\n",
    "    # de paramètre beta indépendantes\n",
    "    elif a == int(a) and a > 1 : \n",
    "        return sum([gen_exp(b) for i in range(a)])\n",
    "    # sinon, on va utiliser une méthode de rejet \n",
    "    else : \n",
    "        while True : \n",
    "            x = gen_gamma(int(a), b+1)\n",
    "            # constante calculée dans la photo sur messenger\n",
    "            c = b**a/((b+1)**int(a))*gamma(int(a))/gamma(a)*(a-int(a))**(a-int(a))*np.exp(-int(a)+a)\n",
    "            u = rd.random()\n",
    "            # on va utiliser une loi de gamma de paramètres entiers pour g\n",
    "            if u <= c*f(x, a, b)/f(x, int(a), b+1):\n",
    "                return x \n",
    "        \n",
    "        "
   ]
  },
  {
   "cell_type": "code",
   "execution_count": 225,
   "metadata": {},
   "outputs": [],
   "source": [
    "def gen_beta(alpha, beta):\n",
    "    \"\"\"\n",
    "    Algorithme de génération de loi Beta(alpha, beta) à partir du lemme \n",
    "    \"\"\"\n",
    "    X = gen_gamma(alpha, 1)\n",
    "    Y = gen_gamma(beta,1)\n",
    "    return X/(X+Y)"
   ]
  },
  {
   "cell_type": "code",
   "execution_count": 226,
   "metadata": {},
   "outputs": [],
   "source": [
    "def gen_bernoulli(p):\n",
    "    if rd.random() <= p :\n",
    "        return 1\n",
    "    return 0"
   ]
  },
  {
   "cell_type": "code",
   "execution_count": 227,
   "metadata": {},
   "outputs": [],
   "source": [
    "def gen_binomiale(n,p):\n",
    "    return sum([gen_bernoulli(p) for i in range(n)])\n"
   ]
  },
  {
   "cell_type": "markdown",
   "metadata": {},
   "source": [
    "Représentation graphique \n",
    "\n",
    "\n",
    "Loi a posteriori : $\\pi(p|r_1,\\dots,r_n) \\sim \\mathcal{B}eta(\\sum_i^n r_i+1, \\sum_i^n n_i-r_i+1)$"
   ]
  },
  {
   "cell_type": "code",
   "execution_count": 115,
   "metadata": {},
   "outputs": [
    {
     "data": {
      "text/plain": [
       "(1266, 1255790)"
      ]
     },
     "execution_count": 115,
     "metadata": {},
     "output_type": "execute_result"
    }
   ],
   "source": [
    "#Rééchantillonnage inutile...\n",
    "#list_n = data['nb_test'].tolist()\n",
    "#r_list = []\n",
    "#for elem in list_n:\n",
    "#    r_list.append(gen_binomiale(elem,pb)) \n",
    "#R = sum(r_list)+1\n",
    "#N = sum(list_n)-sum(r_list)+1 \n",
    "#R,N"
   ]
  },
  {
   "cell_type": "markdown",
   "metadata": {},
   "source": [
    "----- En fait c'est inutile de relancer les Bernoullis, c'est la loi *a posteriori* donc on prend juste les données et on génère la loi Beta avec les paramètres calculés -----\n",
    "\n",
    "       En rééchantillonnant les `nb_pos`ie $r_i$, on génère une a posteriori $\\mathcal{B}eta(1266, 1255790)$. \n",
    "    \n",
    "\n",
    "On génère $\\mathcal{B}eta(1329,1255727)$ déduite de l'étude. "
   ]
  },
  {
   "cell_type": "code",
   "execution_count": 319,
   "metadata": {},
   "outputs": [
    {
     "name": "stderr",
     "output_type": "stream",
     "text": [
      "100%|██████████| 500/500 [1:08:00<00:00,  8.16s/it]\n"
     ]
    }
   ],
   "source": [
    "d_etude = [gen_beta(1329, 1255727) for i in tqdm(range(500))]"
   ]
  },
  {
   "cell_type": "code",
   "execution_count": 321,
   "metadata": {},
   "outputs": [
    {
     "data": {
      "text/plain": [
       "<matplotlib.legend.Legend at 0x7f956205c280>"
      ]
     },
     "execution_count": 321,
     "metadata": {},
     "output_type": "execute_result"
    },
    {
     "data": {
      "image/png": "[encoded data removed]",
      "text/plain": [
       "<Figure size 432x288 with 1 Axes>"
      ]
     },
     "metadata": {},
     "output_type": "display_data"
    }
   ],
   "source": [
    "sns.set(style=\"darkgrid\")\n",
    "#sns.histplot(distr, kde=True, col=\"blue\", label='reechantillonnage', alpha=0.7)\n",
    "plt.axvline(proba_constante, color='red', label='paramètre')\n",
    "sns.histplot(d_etude, kde = True, color='cornflowerblue', label='etudes')\n",
    "p_esp = sum(d_etude)/len(d_etude)\n",
    "plt.axvline(p_esp, color=\"green\", label='espérance de la distribution')\n",
    "plt.title(\"Distribution de la loi a posteriori\")\n",
    "plt.legend(['paramètre', 'distribution', 'espérance'])"
   ]
  },
  {
   "cell_type": "markdown",
   "metadata": {},
   "source": [
    "Le modèle n'approche pas très bien la probabilité agrégée de la présence de listeria (c'est-à-dire celle prise en agrégant l'ensemble des études).\n",
    "Comme le montre le graphique ci-dessous, les études affichent des probabilités empiriques de présence de listeria assez variées. Il paraît donc plus judicieux de considérer des probabilités de présence de listeria $p_i$ qui varient avec l'étude $i$.$\\newline$C'est l'objet de la deuxième question."
   ]
  },
  {
   "cell_type": "code",
   "execution_count": 78,
   "metadata": {
    "scrolled": true
   },
   "outputs": [
    {
     "data": {
      "text/plain": [
       "Text(0.5, 1.0, 'Distribution des probas a priori empiriques')"
      ]
     },
     "execution_count": 78,
     "metadata": {},
     "output_type": "execute_result"
    },
    {
     "data": {
      "image/png": "[encoded data removed]",
      "text/plain": [
       "<Figure size 432x288 with 1 Axes>"
      ]
     },
     "metadata": {},
     "output_type": "display_data"
    }
   ],
   "source": [
    "sns.histplot(data['prob'])\n",
    "plt.title(\"Distribution des probas a priori empiriques\")"
   ]
  },
  {
   "cell_type": "markdown",
   "metadata": {},
   "source": [
    "# Question 2 : loi a posteriori avec reparamétrisation"
   ]
  },
  {
   "cell_type": "markdown",
   "metadata": {},
   "source": [
    "## Calculs théoriques"
   ]
  },
  {
   "cell_type": "markdown",
   "metadata": {},
   "source": [
    "On suppose dans un second temps que la probabilité de présence de listeria est variable selon les études.  \n",
    "\n",
    "Modèle binomial : $r_i \\sim \\mathcal{B}(n_i,p_i)$, de fonction de masse $f(r_i, p_i) = \\binom{n_i}{r_i} p_i^{r_i} (1-p_i)^{n_i-r_i}$\n",
    "\n",
    "Loi a priori : $ \\forall i, p_i \\sim \\mathcal{B}eta(\\alpha,\\beta)$, de densité $\\displaystyle{\\frac{\\Gamma(\\alpha + \\beta)}{\\Gamma(\\alpha)\\Gamma(\\beta)}}p_i^{\\alpha-1}(1-p_i)^{\\beta-1}\\mathbb{1}_{[0,1]}(p_i)$\n",
    "\n",
    "L'énoncé propose la reparamétrisation suivante : $\\mu = \\alpha/(\\alpha+\\beta) \\sim \\mathcal{U}([0,1])$ et $\\kappa = \\alpha + \\beta \\sim \\mathcal{E}(0.1)$\n",
    "\n",
    "On supposera que : $\\textbf{$\\kappa$ et $\\mu$ sont indépendantes}$ \n",
    "\n",
    "Donc on aura la densité jointe de $(\\mu,\\kappa)$ suivante : $p(\\mu,\\kappa)$ = $0.1 e^{-0.1\\kappa}\\mathbb{1}_{[0,1]}(\\kappa)$\n",
    "     \n",
    "En inversant : $\\alpha = \\kappa \\mu $ et $\\beta = \\kappa (1-\\mu)$\n",
    "\n",
    "Et donc $p_i$ a pour densité (sachant $\\mu$ et $\\kappa$) : $p(p_i|\\mu,\\kappa)$  = $\\displaystyle{\\frac{\\Gamma(\\kappa)}{\\Gamma(\\kappa \\mu)\\Gamma(\\kappa (1-\\mu))}}p_i^{\\kappa \\mu-1}(1-p_i)^{\\kappa(1-\\mu)-1}\\mathbb{1}_{[0,1]}(p_i)$\n",
    "\n",
    "La densité de la loi a posteriori est alors : \n",
    "\n",
    "$\\pi(\\mu,\\kappa,p_1,...,p_n|r_1,\\dots, r_n) \\propto \\prod_{i=1}^{n}f(r_i,p_i)p(p_i|\\mu,\\kappa)p(\\mu,\\kappa)\n",
    "\\\\    \\;\\;\\;\\;\\;\\;\\;\\;\\;\\;\\;\\;\\;\\;\\;\\;\\;\\;\\;\\;\\;\\;\\;\\;\\;\\;\\;\\;\\;\\;\\;\\;\\;\\;\\;\\,\\,  \\propto \\prod_{i=1}^{n} p_i^{r_i} (1-p_i)^{(n_i-r_i)}\\displaystyle{\\frac{\\Gamma(\\kappa)}{\\Gamma(\\kappa \\mu)\\Gamma(\\kappa (1-\\mu))}}p_i^{\\kappa \\mu-1}(1-p_i)^{\\kappa(1-\\mu)-1}e^{-0.1\\kappa}  \n",
    "\\\\    \\;\\;\\;\\;\\;\\;\\;\\;\\;\\;\\;\\;\\;\\;\\;\\;\\;\\;\\;\\;\\;\\;\\;\\;\\;\\;\\;\\;\\;\\;\\;\\;\\;\\;\\;\\,\\,  \\propto e^{-0.1n\\kappa}\\left(\\displaystyle{\\frac{\\Gamma(\\kappa)}{\\Gamma(\\kappa \\mu)\\Gamma(\\kappa (1-\\mu))}}\\right)^n\\prod_{i=1}^{n} p_i^{r_i+\\kappa \\mu -1} (1-p_i)^{(n_i-r_i)+\\kappa(1-\\mu)-1}$ \n",
    "\n",
    "Contrairement au cas précédent, la loi a posteriori ne correspond pas à une loi usuelle connue. \n",
    "On va alors mettre en oeuvre un algorithme de $\\textbf{Metropolis within Gibbs}$ pour simuler cette loi a posteriori, en s'appuyant sur les différentes lois (connues) de nos paramètres $(p_i)_i,\\kappa$ et $\\mu$.\n",
    "\n",
    "Pour mettre en oeuvre l'algorithme de Gibbs-sampling, il nous faut simuler les lois marginales suivantes. "
   ]
  },
  {
   "cell_type": "markdown",
   "metadata": {},
   "source": [
    "On note $r = (r_1, \\dots, r_n)$, $p = (p_1, \\dots, p_n)$ et $\\forall k \\in \\{1,\\dots, n\\}, \\ p_{-k} = (p_1, \\dots, p_{k-1}, p_{k+1}, \\dots, p_n)$. \n",
    "\n",
    "On s'appuie sur les lois marginales proportionnelles à la loi a posteriori $\\pi$ : \n",
    "- $\\forall k, \\ \\pi(p_k | \\mu, \\kappa, r, p_{-k})  \\propto \\pi(\\mu,\\kappa, p|r) \\\\ \\;\\;\\;\\;\\;\\;\\;\\;\\;\\;\\;\\;\\;\\;\\;\\;\\;\\;\\;\\;\\;\\,\\,  \\propto p_k^{r_k + \\kappa \\mu - 1} (1-p_k)^{n_k - r_k + \\kappa(1-\\mu) - 1} \\\\\n",
    "\\;\\;\\;\\;\\;\\;\\;\\;\\;\\;\\;\\;\\;\\;\\;\\;\\;\\;\\;\\;\\;\\,\\,  \\sim \\mathcal{B}eta(n_k-1+\\kappa, r_k + \\kappa\\mu)$\n",
    "\n",
    "- $\\pi(\\kappa| \\mu, r, p)  \\propto \\pi(\\mu,\\kappa, p|r) \\\\ \\;\\;\\;\\;\\;\\;\\;\\;\\;\\;\\;\\;\\;\\;\\;\\;\\;\\;\\;\\;\\;\\,\\,  \\propto \\frac{e^{-0.1 \\kappa} \\Gamma(\\kappa)}{\\Gamma(\\kappa\\mu) \\Gamma((1-\\mu)\\kappa)} (\\prod_i p_i)^{\\kappa\\mu -1} ( \\prod_i (1-p_i))^{\\kappa(1-\\mu) -1} $\n",
    "Loi non connue : on va utiliser un algorithme de Metropolis-Hastings pour la simuler. A priori cette loi n'est **pas indépendante** de $(\\mu, r, p)$ donc on utilisera un MH random walk. \n",
    "\n",
    "- $\\pi(\\mu| \\kappa, r, p)  \\propto \\pi(\\mu,\\kappa, p|r) \\\\ \\;\\;\\;\\;\\;\\;\\;\\;\\;\\;\\;\\;\\;\\;\\;\\;\\;\\;\\;\\;\\;\\,\\,  \\propto \\frac{\\Gamma(\\kappa)}{\\Gamma(\\kappa\\mu) \\Gamma((1-\\mu)\\kappa)} (\\prod_i (\\frac{ p_i}{1-p_i})^{\\kappa})^{\\mu}  \\mathbb{1}_{[0,1]}(\\mu) $\n",
    "Loi également non connue : on va utiliser à nouveau un algorithme de MH. A priori cette loi n'est **pas indépendante** de $(\\mu, r, p)$ donc on utilisera un MH random walk. "
   ]
  },
  {
   "cell_type": "markdown",
   "metadata": {},
   "source": [
    "## Génération de la loi conditionnelle des $p_i$ \n",
    "Les $p_k \\sim \\mathcal{B}eta(n_k-1+\\kappa, r_k+\\kappa \\mu)$. On va supposer que l'on génère $\\kappa$ et $\\mu$ via une chaîne de Markov avec les états précédents. "
   ]
  },
  {
   "cell_type": "code",
   "execution_count": 233,
   "metadata": {},
   "outputs": [],
   "source": [
    "def gen_cond_p(n,kappa, r, mu):\n",
    "    \"\"\" \n",
    "    Prend en entrée n, r entiers, kappa et mu paramètres \n",
    "    \"\"\"\n",
    "    return gen_beta(n-1+kappa, r+kappa*mu)"
   ]
  },
  {
   "cell_type": "markdown",
   "metadata": {},
   "source": [
    "## Génération de la loi marginale associée à $\\mu$\n"
   ]
  },
  {
   "cell_type": "code",
   "execution_count": 234,
   "metadata": {},
   "outputs": [],
   "source": [
    "def cond_loi_mu(kappa, mu, p):\n",
    "    \"\"\"\n",
    "    Retourne la densité de la loi conditionnelle associée à mu :\n",
    "        prend en entrée les paramètres kappa, mu et le vecteur p associée aux observations p_i \n",
    "    \"\"\"\n",
    "    prod=1\n",
    "    for i in range(len(p)):\n",
    "        prod*= (p[i]/(1-p[i]))**kappa\n",
    "    return 1/(gamma(kappa*mu)*gamma(kappa*(1-mu))) * prod**mu\n",
    "    \n",
    "\n",
    "def log_pi(x, mu): \n",
    "    # loi de proposition : loi normale centrée en mu \n",
    "    return -0.5 * (x-mu)**2\n",
    "\n",
    "def metropolis_mu(x, sig,mu, kappa): \n",
    "    \"\"\" Algorithme de Metropolis Hastings pour une marche aléatoire avec moyenne mu\n",
    "    \"\"\"\n",
    "    y = x + sig * np.random.randn()  # random walk proposal \n",
    "    r = min(1, cond_loi_mu(kappa, mu, y)/cond_loi_mu(kappa, mu, x))\n",
    "    if np.random.rand() < r:  # if u < r\n",
    "        return y, r\n",
    "    else:\n",
    "        return x, r"
   ]
  },
  {
   "cell_type": "markdown",
   "metadata": {},
   "source": [
    "## Génération de la loi conditionnelle $\\kappa$\n",
    "\n",
    "On utilise la même procédure que pour $\\mu$ mais en remplaçant la loi conditionnelle liée au seuil de rejet. "
   ]
  },
  {
   "cell_type": "code",
   "execution_count": 235,
   "metadata": {},
   "outputs": [],
   "source": [
    "def cond_loi_kappa(kappa, mu, p):\n",
    "    \"\"\"\n",
    "    Retourne la densité de la loi conditionnelle associée à kappa :\n",
    "        prend en entrée les paramètres kappa, mu et le vecteur p associée aux observations p_i \n",
    "    \"\"\"\n",
    "    prod1=1\n",
    "    prod2=1\n",
    "    c = gamma(kappa)*np.exp(-0.1*kappa)/(gamma(kappa*mu)*gamma(kappa*(1-mu))) \n",
    "    for i in range(len(p)):\n",
    "        prod1 *= p[i]**(kappa*mu -1)\n",
    "        prod2 *= (1-p[i])**((1-mu)*kappa -1)\n",
    "    return c*prod1*prod2\n",
    "\n",
    "\n",
    "def metropolis_kappa(x, sig,mu, kappa): \n",
    "    \"\"\" Algorithme de Metropolis Hastings pour une marche aléatoire avec moyenne mu\n",
    "    \"\"\"\n",
    "    y = x + sig * np.random.randn()  # random walk proposal \n",
    "    r = min(1,cond_loi_kappa(kappa, mu, y)/cond_loi_kappa(kappa, mu, x))\n",
    "    if np.random.rand() < r : # if u < r\n",
    "        return y, r\n",
    "    else:\n",
    "        return x, r"
   ]
  },
  {
   "cell_type": "code",
   "execution_count": null,
   "metadata": {},
   "outputs": [],
   "source": []
  },
  {
   "cell_type": "markdown",
   "metadata": {},
   "source": [
    "## Chaine de Markov Monte Carlo : "
   ]
  },
  {
   "cell_type": "markdown",
   "metadata": {},
   "source": [
    "Il nous reste à \"construire\" la chaîne de Markov. "
   ]
  },
  {
   "cell_type": "markdown",
   "metadata": {},
   "source": [
    "Il faut à présent \"calibrer\" $\\sigma^2$ pour les deux algorithmes de Metropolis. "
   ]
  },
  {
   "cell_type": "markdown",
   "metadata": {},
   "source": [
    "### Metropolis pour $\\mu$"
   ]
  },
  {
   "cell_type": "code",
   "execution_count": 239,
   "metadata": {},
   "outputs": [
    {
     "name": "stderr",
     "output_type": "stream",
     "text": [
      "<ipython-input-234-f86e9dc2288d>:8: RuntimeWarning: invalid value encountered in double_scalars\n",
      "  prod*= (p[i]/(1-p[i]))**kappa\n",
      "<ipython-input-234-f86e9dc2288d>:8: RuntimeWarning: overflow encountered in double_scalars\n",
      "  prod*= (p[i]/(1-p[i]))**kappa\n"
     ]
    }
   ],
   "source": [
    "df = pd.DataFrame()\n",
    "rate, sigma = [],[]\n",
    "n_sample =100\n",
    "for j in range(1,10):#np.linspace(5,6,10):\n",
    "    p = np.empty((n_sample, len(data['prob'])))\n",
    "    r = np.empty(n_sample)\n",
    "    p[0]=data['prob']\n",
    "    mu = rd.random()\n",
    "    kappa = gen_exp(0.1)\n",
    "    for n in range(1,n_sample):\n",
    "        p[n], r[n] =metropolis_mu(p[n-1], j, mu, kappa)\n",
    "        #print(p[n], r[n])\n",
    "    rate.append(np.mean(r)),sigma.append(j)\n",
    "df['sigma**2']= sigma\n",
    "df['rate']= rate"
   ]
  },
  {
   "cell_type": "code",
   "execution_count": 240,
   "metadata": {
    "scrolled": false
   },
   "outputs": [
    {
     "data": {
      "text/html": [
       "<div>\n",
       "<style scoped>\n",
       "    .dataframe tbody tr th:only-of-type {\n",
       "        vertical-align: middle;\n",
       "    }\n",
       "\n",
       "    .dataframe tbody tr th {\n",
       "        vertical-align: top;\n",
       "    }\n",
       "\n",
       "    .dataframe thead th {\n",
       "        text-align: right;\n",
       "    }\n",
       "</style>\n",
       "<table border=\"1\" class=\"dataframe\">\n",
       "  <thead>\n",
       "    <tr style=\"text-align: right;\">\n",
       "      <th></th>\n",
       "      <th>sigma**2</th>\n",
       "      <th>rate</th>\n",
       "    </tr>\n",
       "  </thead>\n",
       "  <tbody>\n",
       "    <tr>\n",
       "      <th>0</th>\n",
       "      <td>1</td>\n",
       "      <td>0.990000</td>\n",
       "    </tr>\n",
       "    <tr>\n",
       "      <th>1</th>\n",
       "      <td>2</td>\n",
       "      <td>0.990011</td>\n",
       "    </tr>\n",
       "    <tr>\n",
       "      <th>2</th>\n",
       "      <td>3</td>\n",
       "      <td>0.990000</td>\n",
       "    </tr>\n",
       "    <tr>\n",
       "      <th>3</th>\n",
       "      <td>4</td>\n",
       "      <td>0.990011</td>\n",
       "    </tr>\n",
       "    <tr>\n",
       "      <th>4</th>\n",
       "      <td>5</td>\n",
       "      <td>0.990000</td>\n",
       "    </tr>\n",
       "    <tr>\n",
       "      <th>5</th>\n",
       "      <td>6</td>\n",
       "      <td>0.990011</td>\n",
       "    </tr>\n",
       "    <tr>\n",
       "      <th>6</th>\n",
       "      <td>7</td>\n",
       "      <td>0.990000</td>\n",
       "    </tr>\n",
       "    <tr>\n",
       "      <th>7</th>\n",
       "      <td>8</td>\n",
       "      <td>0.990011</td>\n",
       "    </tr>\n",
       "    <tr>\n",
       "      <th>8</th>\n",
       "      <td>9</td>\n",
       "      <td>0.990000</td>\n",
       "    </tr>\n",
       "  </tbody>\n",
       "</table>\n",
       "</div>"
      ],
      "text/plain": [
       "   sigma**2      rate\n",
       "0         1  0.990000\n",
       "1         2  0.990011\n",
       "2         3  0.990000\n",
       "3         4  0.990011\n",
       "4         5  0.990000\n",
       "5         6  0.990011\n",
       "6         7  0.990000\n",
       "7         8  0.990011\n",
       "8         9  0.990000"
      ]
     },
     "execution_count": 240,
     "metadata": {},
     "output_type": "execute_result"
    }
   ],
   "source": [
    "df"
   ]
  },
  {
   "cell_type": "markdown",
   "metadata": {},
   "source": [
    "On choisit `sig = 5.11` pour avoir un ration d'acceptance de 0.44. "
   ]
  },
  {
   "cell_type": "code",
   "execution_count": 208,
   "metadata": {},
   "outputs": [],
   "source": [
    "p = np.empty(1000)\n",
    "r = np.empty(1000)\n",
    "p[0]=data['prob'][0]\n",
    "mu = rd.random()\n",
    "kappa = gen_exp(0.1)\n",
    "for n in range(1,1000):\n",
    "    p[n], r[n] =metropolis(p[n-1], sig=5.11)"
   ]
  },
  {
   "cell_type": "code",
   "execution_count": 209,
   "metadata": {
    "scrolled": false
   },
   "outputs": [
    {
     "data": {
      "text/plain": [
       "Text(0.5, 1.0, 'MCMC avec sigma = 5.33')"
      ]
     },
     "execution_count": 209,
     "metadata": {},
     "output_type": "execute_result"
    },
    {
     "data": {
      "image/png": "[encoded data removed]",
      "text/plain": [
       "<Figure size 864x432 with 1 Axes>"
      ]
     },
     "metadata": {},
     "output_type": "display_data"
    }
   ],
   "source": [
    "plt.figure(figsize=(12,6))\n",
    "plt.plot(p)\n",
    "plt.title('MCMC avec sigma = 5.33')"
   ]
  },
  {
   "cell_type": "markdown",
   "metadata": {},
   "source": [
    "### Metropolis poiur $\\kappa$"
   ]
  },
  {
   "cell_type": "code",
   "execution_count": null,
   "metadata": {},
   "outputs": [],
   "source": [
    "df = pd.DataFrame()\n",
    "rate, sigma = [],[]\n",
    "for j in np.linspace(5,6,10):\n",
    "    p = np.empty(1000)\n",
    "    r = np.empty(1000)\n",
    "    p[0]=data['prob'][0]\n",
    "    mu = rd.random()\n",
    "    kappa = gen_exp(0.1)\n",
    "    for n in range(1,1000):\n",
    "        p[n], r[n] =metropolis_kappa(p[n-1], sig=j)\n",
    "    rate.append(np.mean(r)),sigma.append(j)\n",
    "df['sigma**2']= sigma\n",
    "df['rate']= rate"
   ]
  },
  {
   "cell_type": "markdown",
   "metadata": {},
   "source": [
    "## Gibbs sampling\n",
    "\n",
    "On suppose qu'on dispose d'une chaîne de Markov (simulée ci-précédemment) et des distributions conditionnelles. \n",
    "\n"
   ]
  },
  {
   "cell_type": "code",
   "execution_count": 210,
   "metadata": {},
   "outputs": [
    {
     "ename": "SyntaxError",
     "evalue": "invalid syntax (<ipython-input-210-c6c4703cdbae>, line 25)",
     "output_type": "error",
     "traceback": [
      "\u001b[0;36m  File \u001b[0;32m\"<ipython-input-210-c6c4703cdbae>\"\u001b[0;36m, line \u001b[0;32m25\u001b[0m\n\u001b[0;31m    kappa_0 =\u001b[0m\n\u001b[0m              ^\u001b[0m\n\u001b[0;31mSyntaxError\u001b[0m\u001b[0;31m:\u001b[0m invalid syntax\n"
     ]
    }
   ],
   "source": [
    "n_sample = 1000\n",
    "mu_0 = rd.random()\n",
    "kappa_0 = gen_exp(0.1)\n",
    "    \n",
    "def gibbs_sampling(n,r, n_sample, kappa_0, mu_0):\n",
    "    \"\"\" \n",
    "    Gibbs sampler \n",
    "            Input : \n",
    "                n : liste des nombres de personnes testées\n",
    "                r : liste des nombres de personnes positives\n",
    "                n_sample : la taille de l'échantillonnage voulu\n",
    "                & autres paramètres d'initialisation.\n",
    "            Output : \n",
    "            \n",
    "    \"\"\"\n",
    "    p = np.empty(n_sample)\n",
    "    samples = np.empty([n_sample+1, 3])  #sampled points\n",
    "    samples[0] = [mu_0, kappa_0, p]\n",
    "\n",
    "    for i in range(n_sample):\n",
    "\n",
    "        # Sample from p(x_0|x_1)\n",
    "        p = [gen_cond_p(n[j], kappa_0, r[j], mu_0) for j in range(len(n))]\n",
    "\n",
    "        # Sample from p(x_1|x_0)\n",
    "        mu_0 = [metropolis_mu(x, sig, mu, kappa)]\n",
    "          \n",
    "        kappa_0 = \n",
    "        \n",
    "        samples[i+1] = [p_0, mu_0, kappa_0]\n",
    "\n",
    "    return samples"
   ]
  },
  {
   "cell_type": "code",
   "execution_count": null,
   "metadata": {},
   "outputs": [],
   "source": []
  }
 ],
 "metadata": {
  "kernelspec": {
   "display_name": "Python 3",
   "language": "python",
   "name": "python3"
  },
  "language_info": {
   "codemirror_mode": {
    "name": "ipython",
    "version": 3
   },
   "file_extension": ".py",
   "mimetype": "text/x-python",
   "name": "python",
   "nbconvert_exporter": "python",
   "pygments_lexer": "ipython3",
   "version": "3.8.5"
  }
 },
 "nbformat": 4,
 "nbformat_minor": 4
}
