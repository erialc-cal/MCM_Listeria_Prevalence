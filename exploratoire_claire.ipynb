{
 "cells": [
  {
   "cell_type": "markdown",
   "metadata": {},
   "source": [
    "# Prévalence du Listeria dans le lait cru"
   ]
  },
  {
   "cell_type": "code",
   "execution_count": 1,
   "metadata": {},
   "outputs": [
    {
     "name": "stdout",
     "output_type": "stream",
     "text": [
      "README.md                 listeria.txt              projets2021.pdf\r\n",
      "exploratoire_claire.ipynb mcmc.ipynb\r\n"
     ]
    }
   ],
   "source": [
    "!ls"
   ]
  },
  {
   "cell_type": "code",
   "execution_count": 2,
   "metadata": {},
   "outputs": [],
   "source": [
    "import numpy as np\n",
    "import matplotlib.pyplot as plt\n",
    "import seaborn as sns\n",
    "import pandas as pd\n",
    "import random as rd"
   ]
  },
  {
   "cell_type": "code",
   "execution_count": 3,
   "metadata": {},
   "outputs": [],
   "source": [
    "data = pd.read_csv('listeria.txt', sep=',')\n",
    "data.columns = ['nb_pos', 'nb_test']\n",
    "new_row = {'nb_pos':0, 'nb_test':600}\n",
    "data = data.append(new_row, ignore_index=True)"
   ]
  },
  {
   "cell_type": "code",
   "execution_count": 84,
   "metadata": {},
   "outputs": [
    {
     "name": "stdout",
     "output_type": "stream",
     "text": [
      "1257054\n"
     ]
    }
   ],
   "source": [
    "print(sum(data['nb_test']))"
   ]
  },
  {
   "cell_type": "code",
   "execution_count": 41,
   "metadata": {
    "scrolled": true
   },
   "outputs": [],
   "source": [
    "data['prob']=data[\"nb_pos\"]/data['nb_test']\n",
    "proba_constante = sum(data['nb_pos'])/sum(data['nb_test'])"
   ]
  },
  {
   "cell_type": "markdown",
   "metadata": {},
   "source": [
    "- `data.nb_pos[i]` : nombre de personnes testées positives sur l'échantillon i \n",
    "- `data.nb_test[i]`: nombre de personnes testées dans l'échantillon i \n",
    "- `data.prob[i]`: probabilité empirique d'être positif sur l'étude i\n",
    "- `proba_constante`: probabilité empirique d'être positif. "
   ]
  },
  {
   "cell_type": "code",
   "execution_count": 103,
   "metadata": {},
   "outputs": [
    {
     "data": {
      "text/plain": [
       "<AxesSubplot:xlabel='nb_test', ylabel='Count'>"
      ]
     },
     "execution_count": 103,
     "metadata": {},
     "output_type": "execute_result"
    },
    {
     "data": {
      "image/png": "[encoded data removed]",
      "text/plain": [
       "<Figure size 432x288 with 2 Axes>"
      ]
     },
     "metadata": {},
     "output_type": "display_data"
    }
   ],
   "source": [
    "fig, ax = plt.subplots(2,1)\n",
    "sns.histplot(data['nb_pos'], ax=ax[0])\n",
    "sns.histplot(np.log(data['nb_test']), ax=ax[1])"
   ]
  },
  {
   "cell_type": "markdown",
   "metadata": {},
   "source": [
    "# Question 1 : détermination de la loi a posteriori dans un cas simple"
   ]
  },
  {
   "cell_type": "markdown",
   "metadata": {},
   "source": [
    "## Calculs théoriques \n",
    "On suppose dans un premier temps que la probabilité de présence de listeria dans toutes les études est constante $p$.\n",
    "\n",
    "\n",
    "Modèle binomial : $r_i \\sim \\mathcal{B}(n_i,p)$, de fonction de masse $f(r_i, p) = \\binom{n_i}{r_i} p^{r_i} (1-p)^{n_i-r_i}$ \n",
    "\n",
    "Loi a priori : $p \\sim \\mathcal{B}eta(\\alpha,\\beta)$ avec $\\alpha, \\beta = 1$ ce qui revient à avoir $p \\propto \\mathcal{U}([0,1])$ donc de densité $\\mathbb{1}_{[0,1]}(p)$\n",
    "\n",
    "La densité de la loi a posteriori est alors ($n$=91 est le nombre d'études) : \n",
    "\n",
    "$\\pi(p|r_1,\\dots, r_n) \\propto \\prod_{i=1}^{n}f(r_i,p) \\mathbb{1}_{[0,1]}(p) \n",
    "\\\\  \\;\\;\\;\\;\\;\\;\\;\\;\\;\\;\\;\\;\\;\\;\\;\\;\\;\\,\\,  \\propto \\prod_{i=1}^{n} p^{r_i} (1-p)^{(n_i-r_i)}  \n",
    "\\\\  \\;\\;\\;\\;\\;\\;\\;\\;\\;\\;\\;\\;\\;\\;\\;\\;\\;\\,\\,  \\propto p^{\\sum_{i=1}^{n}r_i} (1-p)^{\\sum_{i=1}^{n}(n_i-r_i)}  \\sim \\mathcal{B}eta(\\sum_{i=1}^{n}r_i +1, \\sum_{i=1}^{n}(n_i-r_i)+1)$\n",
    "\n",
    "Les observations nous permettent alors de calculer les deux paramètres de cette loi Bêta :\n"
   ]
  },
  {
   "cell_type": "code",
   "execution_count": 105,
   "metadata": {},
   "outputs": [
    {
     "name": "stdout",
     "output_type": "stream",
     "text": [
      "premier paramètre = 1329\n",
      "deuxième paramètre = 1255727\n"
     ]
    }
   ],
   "source": [
    "print(\"premier paramètre =\",sum(data['nb_pos'])+1)\n",
    "print(\"deuxième paramètre =\",sum(data['nb_test'])-sum(data['nb_pos'])+1)"
   ]
  },
  {
   "cell_type": "markdown",
   "metadata": {},
   "source": [
    "Finalement, la loi a posteriori de $p$ est une $\\boxed{\\mathcal{B}eta(1329,1255727)}$"
   ]
  },
  {
   "cell_type": "markdown",
   "metadata": {},
   "source": [
    "## Génération de lois utiles"
   ]
  },
  {
   "cell_type": "markdown",
   "metadata": {},
   "source": [
    "### Loi exponentielle \n",
    "\n"
   ]
  },
  {
   "cell_type": "code",
   "execution_count": 106,
   "metadata": {},
   "outputs": [],
   "source": [
    "def gen_exp(theta):\n",
    "    u = rd.random()\n",
    "    return -1/theta*np.log(1-u)"
   ]
  },
  {
   "cell_type": "markdown",
   "metadata": {},
   "source": [
    "### Loi Gamma \n",
    "Remarque : sommer les cas/les études pour un gros échantillon\n",
    "Simuler une loi beta(alpha, beta) à l'aide de simulation de lois gammas. \n",
    "\n",
    "------------\n",
    "**Lemme.** \n",
    "\n",
    "  > Soient $X$ et $Y$ deux variables independantes distribuees suivant des lois  $\\Gamma(a,1)$ et $\\Gamma(b,1)$\n",
    "    Alors $U = X+Y$ et $V = X/(X+Y)$ sont deux variables independantes distribuees suivant des lois $\\Gamma(a+b,1)$ et $\\mathcal{B}eta(a,b)$.\n",
    "\n",
    "\n",
    "\n"
   ]
  },
  {
   "cell_type": "code",
   "execution_count": 139,
   "metadata": {},
   "outputs": [],
   "source": [
    "def gamma(x):\n",
    "    \"\"\"\n",
    "    Calcul de l'intégrale de Gamma de paramètre x par Monte Carlo\n",
    "    \"\"\"\n",
    "    l = [gen_exp(x) for i in range(1000)]\n",
    "    return np.mean(l)\n",
    "        \n",
    "def f(x, a, b):\n",
    "    \"\"\" \n",
    "    densité de la loi Gamma(a,b) en x \n",
    "    \"\"\"\n",
    "    return b**a*x**(a-1)*np.exp(-b*x)/gamma(a)\n"
   ]
  },
  {
   "cell_type": "code",
   "execution_count": 108,
   "metadata": {},
   "outputs": [],
   "source": [
    "def gen_gamma(a,b):\n",
    "    \"\"\" \n",
    "    Algorithme de génération d'une distribution Gamma(a,b)\n",
    "    \"\"\"\n",
    "    # si alpha = 1, cela revient à avoir une loi exponentielle de paramètre beta\n",
    "    if a == 1:\n",
    "        return gen_exp(b)\n",
    "    # si alpha est un entier non nul, gamma coïncide avec une somme de alpha va exponentielles\n",
    "    # de paramètre beta indépendantes\n",
    "    elif a == int(a) and a > 1 : \n",
    "        return sum([gen_exp(b) for i in range(a)])\n",
    "    # sinon, on va utiliser une méthode de rejet \n",
    "    else : \n",
    "        while True : \n",
    "            x = gen_gamma(int(a), b+1)\n",
    "            # constante calculée dans la photo sur messenger\n",
    "            c = b**a/((b+1)**int(a))*gamma(int(a))/gamma(a)*(a-int(a))**(a-int(a))*np.exp(-int(a)+a)\n",
    "            u = rd.random()\n",
    "            # on va utiliser une loi de gamma de paramètres entiers pour g\n",
    "            if u <= c*f(x, a, b)/f(x, int(a), b+1):\n",
    "                return x \n",
    "        \n",
    "        "
   ]
  },
  {
   "cell_type": "code",
   "execution_count": 109,
   "metadata": {},
   "outputs": [],
   "source": [
    "def gen_beta(alpha, beta):\n",
    "    \"\"\"\n",
    "    Algorithme de génération de loi Beta(alpha, beta) à partir du lemme \n",
    "    \"\"\"\n",
    "    X = gen_gamma(alpha, 1)\n",
    "    Y = gen_gamma(beta,1)\n",
    "    return X/(X+Y)"
   ]
  },
  {
   "cell_type": "code",
   "execution_count": 110,
   "metadata": {},
   "outputs": [],
   "source": [
    "def gen_bernoulli(p):\n",
    "    if rd.random() <= p :\n",
    "        return 1\n",
    "    return 0"
   ]
  },
  {
   "cell_type": "code",
   "execution_count": 111,
   "metadata": {},
   "outputs": [],
   "source": [
    "def gen_binomiale(n,p):\n",
    "    return sum([gen_bernoulli(p) for i in range(n)])\n"
   ]
  },
  {
   "cell_type": "markdown",
   "metadata": {},
   "source": [
    "Représentation graphique \n",
    "\n",
    "\n",
    "Loi a posteriori : $\\pi(p|r_1,\\dots,r_n) \\sim \\mathcal{B}eta(\\sum_i^n r_i+1, \\sum_i^n n_i-r_i+1)$"
   ]
  },
  {
   "cell_type": "code",
   "execution_count": 115,
   "metadata": {},
   "outputs": [
    {
     "data": {
      "text/plain": [
       "(1266, 1255790)"
      ]
     },
     "execution_count": 115,
     "metadata": {},
     "output_type": "execute_result"
    }
   ],
   "source": [
    "#Rééchantillonnage inutile...\n",
    "#list_n = data['nb_test'].tolist()\n",
    "#r_list = []\n",
    "#for elem in list_n:\n",
    "#    r_list.append(gen_binomiale(elem,pb)) \n",
    "#R = sum(r_list)+1\n",
    "#N = sum(list_n)-sum(r_list)+1 \n",
    "#R,N"
   ]
  },
  {
   "cell_type": "markdown",
   "metadata": {},
   "source": [
    "----- En fait c'est inutile de relancer les Bernoullis, c'est la loi *a posteriori* donc on prend juste les données et on génère la loi Beta avec les paramètres calculés -----\n",
    "\n",
    "    En rééchantillonnant les `nb_pos`ie $r_i$, on génère une a posteriori $\\mathcal{B}eta(1266, 1255790)$. \n",
    "    \n",
    "\n",
    "On génère $\\mathcal{B}eta(1329,1255727)$ déduite de l'étude. "
   ]
  },
  {
   "cell_type": "code",
   "execution_count": 118,
   "metadata": {},
   "outputs": [],
   "source": [
    "d_etude = [gen_beta(1329, 1255727) for i in range(200)]"
   ]
  },
  {
   "cell_type": "code",
   "execution_count": 137,
   "metadata": {},
   "outputs": [
    {
     "data": {
      "text/plain": [
       "<matplotlib.legend.Legend at 0x7f958633ea90>"
      ]
     },
     "execution_count": 137,
     "metadata": {},
     "output_type": "execute_result"
    },
    {
     "data": {
      "image/png": "[encoded data removed]",
      "text/plain": [
       "<Figure size 432x288 with 1 Axes>"
      ]
     },
     "metadata": {},
     "output_type": "display_data"
    }
   ],
   "source": [
    "sns.set(style=\"darkgrid\")\n",
    "#sns.histplot(distr, kde=True, col=\"blue\", label='reechantillonnage', alpha=0.7)\n",
    "plt.axvline(proba_constante, color='red', label='paramètre')\n",
    "sns.histplot(d_etude, kde = True, color='cornflowerblue', label='etudes')\n",
    "p_esp = sum(d_etude)/len(d_etude)\n",
    "plt.axvline(p_esp, color=\"steelblue\", label='espérance de la distribution')\n",
    "plt.title(\"Distribution de la loi a posteriori\")\n",
    "plt.legend(['paramètre', 'distribution', 'espérance'])"
   ]
  },
  {
   "cell_type": "markdown",
   "metadata": {},
   "source": [
    "Le modèle n'approche pas très bien la probabilité agrégée de la présence de listeria (c'est-à-dire celle prise en agrégant l'ensemble des études).\n",
    "Comme le montre le graphique ci-dessous, les études affichent des probabilités empiriques de présence de listeria assez variées. Il paraît donc plus judicieux de considérer des probabilités de présence de listeria $p_i$ qui varient avec l'étude $i$.$\\newline$C'est l'objet de la deuxième question."
   ]
  },
  {
   "cell_type": "code",
   "execution_count": 78,
   "metadata": {
    "scrolled": true
   },
   "outputs": [
    {
     "data": {
      "text/plain": [
       "Text(0.5, 1.0, 'Distribution des probas a priori empiriques')"
      ]
     },
     "execution_count": 78,
     "metadata": {},
     "output_type": "execute_result"
    },
    {
     "data": {
      "image/png": "[encoded data removed]",
      "text/plain": [
       "<Figure size 432x288 with 1 Axes>"
      ]
     },
     "metadata": {},
     "output_type": "display_data"
    }
   ],
   "source": [
    "sns.histplot(data['prob'])\n",
    "plt.title(\"Distribution des probas a priori empiriques\")"
   ]
  },
  {
   "cell_type": "markdown",
   "metadata": {},
   "source": [
    "# Question 2 : loi a posteriori avec reparamétrisation"
   ]
  },
  {
   "cell_type": "markdown",
   "metadata": {},
   "source": [
    "## Calculs théoriques"
   ]
  },
  {
   "cell_type": "markdown",
   "metadata": {},
   "source": [
    "On suppose dans un second temps que la probabilité de présence de listeria est variable selon les études.  \n",
    "\n",
    "Modèle binomial : $r_i \\sim \\mathcal{B}(n_i,p_i)$, de fonction de masse $f(r_i, p_i) = \\binom{n_i}{r_i} p_i^{r_i} (1-p_i)^{n_i-r_i}$\n",
    "\n",
    "Loi a priori : $ \\forall i, p_i \\sim \\mathcal{B}eta(\\alpha,\\beta)$, de densité $\\displaystyle{\\frac{\\Gamma(\\alpha + \\beta)}{\\Gamma(\\alpha)\\Gamma(\\beta)}}p_i^{\\alpha-1}(1-p_i)^{\\beta-1}\\mathbb{1}_{[0,1]}(p_i)$\n",
    "\n",
    "L'énoncé propose la reparamétrisation suivante : $\\mu = \\alpha/(\\alpha+\\beta) \\sim \\mathcal{U}([0,1])$ et $\\kappa = \\alpha + \\beta \\sim \\mathcal{E}(0.1)$\n",
    "\n",
    "On supposera que : $\\textbf{$\\kappa$ et $\\mu$ sont indépendantes}$ \n",
    "\n",
    "Donc on aura la densité jointe de $(\\mu,\\kappa)$ suivante : $p(\\mu,\\kappa)$ = $0.1 e^{-0.1\\kappa}\\mathbb{1}_{[0,1]}(\\kappa)$\n",
    "     \n",
    "En inversant : $\\alpha = \\kappa \\mu $ et $\\beta = \\kappa (1-\\mu)$\n",
    "\n",
    "Et donc $p_i$ a pour densité (sachant $\\mu$ et $\\kappa$) : $p(p_i|\\mu,\\kappa)$  = $\\displaystyle{\\frac{\\Gamma(\\kappa)}{\\Gamma(\\kappa \\mu)\\Gamma(\\kappa (1-\\mu))}}p_i^{\\kappa \\mu-1}(1-p_i)^{\\kappa(1-\\mu)-1}\\mathbb{1}_{[0,1]}(p_i)$\n",
    "\n",
    "La densité de la loi a posteriori est alors : \n",
    "\n",
    "$\\pi(\\mu,\\kappa,p_1,...,p_n|r_1,\\dots, r_n) \\propto \\prod_{i=1}^{n}f(r_i,p_i)p(p_i|\\mu,\\kappa)p(\\mu,\\kappa)\n",
    "\\\\    \\;\\;\\;\\;\\;\\;\\;\\;\\;\\;\\;\\;\\;\\;\\;\\;\\;\\;\\;\\;\\;\\;\\;\\;\\;\\;\\;\\;\\;\\;\\;\\;\\;\\;\\;\\,\\,  \\propto \\prod_{i=1}^{n} p_i^{r_i} (1-p_i)^{(n_i-r_i)}\\displaystyle{\\frac{\\Gamma(\\kappa)}{\\Gamma(\\kappa \\mu)\\Gamma(\\kappa (1-\\mu))}}p_i^{\\kappa \\mu-1}(1-p_i)^{\\kappa(1-\\mu)-1}e^{-0.1\\kappa}  \n",
    "\\\\    \\;\\;\\;\\;\\;\\;\\;\\;\\;\\;\\;\\;\\;\\;\\;\\;\\;\\;\\;\\;\\;\\;\\;\\;\\;\\;\\;\\;\\;\\;\\;\\;\\;\\;\\;\\,\\,  \\propto e^{-0.1n\\kappa}\\left(\\displaystyle{\\frac{\\Gamma(\\kappa)}{\\Gamma(\\kappa \\mu)\\Gamma(\\kappa (1-\\mu))}}\\right)^n\\prod_{i=1}^{n} p_i^{r_i+\\kappa \\mu -1} (1-p_i)^{(n_i-r_i)+\\kappa(1-\\mu)-1}$ \n",
    "\n",
    "Contrairement au cas précédent, la loi a posteriori ne correspond pas à une loi usuelle connue. \n",
    "On va alors mettre en oeuvre un algorithme de $\\textbf{Metropolis within Gibbs}$ pour simuler cette loi a posteriori, en s'appuyant sur les différentes lois (connues) de nos paramètres $(p_i)_i,\\kappa$ et $\\mu$.\n",
    "\n",
    "Pour mettre en oeuvre l'algorithme de Gibbs-sampling, il nous faut simuler les lois marginales suivantes. "
   ]
  },
  {
   "cell_type": "markdown",
   "metadata": {},
   "source": [
    "On note $r = (r_1, \\dots, r_n)$, $p = (p_1, \\dots, p_n)$ et $\\forall k \\in \\{1,\\dots, n\\}, \\ p_{-k} = (p_1, \\dots, p_{k-1}, p_{k+1}, \\dots, p_n)$. \n",
    "\n",
    "On s'appuie sur les lois marginales proportionnelles à la loi a posteriori $\\pi$ : \n",
    "- $\\forall k, \\ \\pi(p_k | \\mu, \\kappa, r, p_{-k})  \\propto \\pi(\\mu,\\kappa, p|r) \\\\ \\;\\;\\;\\;\\;\\;\\;\\;\\;\\;\\;\\;\\;\\;\\;\\;\\;\\;\\;\\;\\;\\,\\,  \\propto p_k^{r_k + \\kappa \\mu - 1} (1-p_k)^{n_k - r_k + \\kappa(1-\\mu) - 1} \\\\\n",
    "\\;\\;\\;\\;\\;\\;\\;\\;\\;\\;\\;\\;\\;\\;\\;\\;\\;\\;\\;\\;\\;\\,\\,  \\sim \\mathcal{B}eta(n_k-1+\\kappa, r_k + \\kappa\\mu)$\n",
    "\n",
    "- $\\pi(\\kappa| \\mu, r, p)  \\propto \\pi(\\mu,\\kappa, p|r) \\\\ \\;\\;\\;\\;\\;\\;\\;\\;\\;\\;\\;\\;\\;\\;\\;\\;\\;\\;\\;\\;\\;\\,\\,  \\propto \\frac{e^{-0.1 \\kappa} \\Gamma(\\kappa)}{\\Gamma(\\kappa\\mu) \\Gamma((1-\\mu)\\kappa)} (\\prod_i p_i)^{\\kappa\\mu -1} ( \\prod_i (1-p_i))^{\\kappa(1-\\mu) -1} $\n",
    "Loi non connue : on va utiliser un algorithme de Metropolis-Hastings pour la simuler. A priori cette loi n'est **pas indépendante** de $(\\mu, r, p)$ donc on utilisera un MH random walk. \n",
    "\n",
    "- $\\pi(\\mu| \\kappa, r, p)  \\propto \\pi(\\mu,\\kappa, p|r) \\\\ \\;\\;\\;\\;\\;\\;\\;\\;\\;\\;\\;\\;\\;\\;\\;\\;\\;\\;\\;\\;\\;\\,\\,  \\propto \\frac{\\Gamma(\\kappa)}{\\Gamma(\\kappa\\mu) \\Gamma((1-\\mu)\\kappa)} (\\prod_i (\\frac{ p_i}{1-p_i})^{\\kappa})^{\\mu}  \\mathbb{1}_{[0,1]}(\\mu) $\n",
    "Loi également non connue : on va utiliser à nouveau un algorithme de MH. A priori cette loi n'est **pas indépendante** de $(\\mu, r, p)$ donc on utilisera un MH random walk. "
   ]
  },
  {
   "cell_type": "markdown",
   "metadata": {},
   "source": [
    "## Génération de la loi conditionnelle des $p_i$ \n",
    "Les $p_k \\sim \\mathcal{B}eta(n_k-1+\\kappa, r_k+\\kappa \\mu)$. On va supposer que l'on génère $\\kappa$ et $\\mu$ via une chaîne de Markov avec les états précédents. "
   ]
  },
  {
   "cell_type": "code",
   "execution_count": 140,
   "metadata": {},
   "outputs": [],
   "source": [
    "def cond_loi_p(n,kappa, r, mu):\n",
    "    return gen_beta(n-1+kappa, r+kappa*mu)"
   ]
  },
  {
   "cell_type": "code",
   "execution_count": 119,
   "metadata": {},
   "outputs": [],
   "source": [
    "sample_kappa = [gen_exp(0.1) for i in range(1000)] \n",
    "sample_mu = [rd.random() for i in range(1000)]"
   ]
  },
  {
   "cell_type": "markdown",
   "metadata": {},
   "source": [
    "## Génération de la loi marginale associée à $\\mu$\n",
    "\n",
    "On prend pour loi de proposition une loi normale de paramètres $\\mu$ et $\\sigma^2$ que l'on calibrera. "
   ]
  },
  {
   "cell_type": "code",
   "execution_count": 151,
   "metadata": {},
   "outputs": [],
   "source": [
    "def cond_loi_mu(kappa, mu, p):\n",
    "    \"\"\"\n",
    "    Retourne la densité de la loi conditionnelle associée à mu :\n",
    "        prend en entrée les paramètres kappa, mu et le vecteur p associée aux observations p_i \n",
    "    \"\"\"\n",
    "    prod=1\n",
    "    for i in range(len(p)):\n",
    "        prod*= (p[i]/(1-p[i]))**kappa\n",
    "    return 1/(gamma(kappa*mu)*gamma(kappa*(1-mu))) * prod**mu\n",
    "    \n",
    "\n",
    "def log_pi(x, mu): \n",
    "    # loi de proposition : loi normale centrée en mu \n",
    "    return -0.5 * (x-mu)**2\n",
    "\n",
    "def metropolis(x, sig): \n",
    "    \"\"\" Algorithme de Metropolis Hastings pour une marche aléatoire avec moyenne mu\n",
    "    \"\"\"\n",
    "    y = x + sig * np.random.randn()  # random walk proposal \n",
    "    log_r = log_pi(y, mu) - log_pi(x,mu)\n",
    "    if np.log(np.random.rand()) < log_r:  # if u < r\n",
    "        return y\n",
    "    else:\n",
    "        return x"
   ]
  },
  {
   "cell_type": "markdown",
   "metadata": {},
   "source": [
    "## Génération de la loi conditionnelle $\\kappa$\n",
    "\n",
    "On utilise la même procédure que pour $\\mu$ mais en remplaçant la loi conditionnelle liée au seuil de rejet. "
   ]
  },
  {
   "cell_type": "code",
   "execution_count": 146,
   "metadata": {},
   "outputs": [],
   "source": [
    "def cond_loi_kappa(kappa, mu, p):\n",
    "    \"\"\"\n",
    "    Retourne la densité de la loi conditionnelle associée à kappa :\n",
    "        prend en entrée les paramètres kappa, mu et le vecteur p associée aux observations p_i \n",
    "    \"\"\"\n",
    "    prod1=1\n",
    "    prod2=1\n",
    "    c = gamma(kappa)*np.exp(-0.1*kappa)/(gamma(kappa*mu)*gamma(kappa*(1-mu))) \n",
    "    for i in range(len(p)):\n",
    "        prod1 *= p[i]**(kappa*mu -1)\n",
    "        prod2 *= (1-p[i])**((1-mu)*kappa -1)\n",
    "    return c*prod1*prod2"
   ]
  },
  {
   "cell_type": "markdown",
   "metadata": {},
   "source": [
    "Il nous reste à \"construire\" la chaîne de Markov. "
   ]
  },
  {
   "cell_type": "code",
   "execution_count": 152,
   "metadata": {},
   "outputs": [],
   "source": [
    "p = np.empty(1000)\n",
    "p[0]=data['prob'][0]\n",
    "mu = rd.random()\n",
    "kappa = gen_exp(0.1)\n",
    "for n in range(1,1000):\n",
    "    p[n]=metropolis(p[n-1], sig=2.)"
   ]
  },
  {
   "cell_type": "code",
   "execution_count": 153,
   "metadata": {},
   "outputs": [
    {
     "data": {
      "text/plain": [
       "[<matplotlib.lines.Line2D at 0x7f95881071f0>]"
      ]
     },
     "execution_count": 153,
     "metadata": {},
     "output_type": "execute_result"
    },
    {
     "data": {
      "image/png": "[encoded data removed]",
      "text/plain": [
       "<Figure size 432x288 with 1 Axes>"
      ]
     },
     "metadata": {},
     "output_type": "display_data"
    }
   ],
   "source": [
    "plt.plot(p)"
   ]
  },
  {
   "cell_type": "code",
   "execution_count": 156,
   "metadata": {},
   "outputs": [
    {
     "data": {
      "text/plain": [
       "<seaborn.axisgrid.FacetGrid at 0x7f95883d78b0>"
      ]
     },
     "execution_count": 156,
     "metadata": {},
     "output_type": "execute_result"
    },
    {
     "data": {
      "image/png": "[encoded data removed]",
      "text/plain": [
       "<Figure size 360x360 with 1 Axes>"
      ]
     },
     "metadata": {},
     "output_type": "display_data"
    }
   ],
   "source": []
  },
  {
   "cell_type": "code",
   "execution_count": null,
   "metadata": {},
   "outputs": [],
   "source": []
  }
 ],
 "metadata": {
  "kernelspec": {
   "display_name": "Python 3",
   "language": "python",
   "name": "python3"
  },
  "language_info": {
   "codemirror_mode": {
    "name": "ipython",
    "version": 3
   },
   "file_extension": ".py",
   "mimetype": "text/x-python",
   "name": "python",
   "nbconvert_exporter": "python",
   "pygments_lexer": "ipython3",
   "version": "3.8.5"
  }
 },
 "nbformat": 4,
 "nbformat_minor": 4
}
