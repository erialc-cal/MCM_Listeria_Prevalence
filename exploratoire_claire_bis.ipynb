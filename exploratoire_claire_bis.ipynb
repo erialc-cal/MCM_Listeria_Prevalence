{
 "cells": [
  {
   "cell_type": "markdown",
   "metadata": {},
   "source": [
    "# Prévalence du Listeria dans le lait cru"
   ]
  },
  {
   "cell_type": "code",
   "execution_count": 1,
   "metadata": {},
   "outputs": [
    {
     "name": "stdout",
     "output_type": "stream",
     "text": [
      "README.md                 listeria.txt              projets2021.pdf\r\n",
      "exploratoire_claire.ipynb mcmc.ipynb\r\n"
     ]
    }
   ],
   "source": [
    "!ls"
   ]
  },
  {
   "cell_type": "code",
   "execution_count": 1,
   "metadata": {},
   "outputs": [],
   "source": [
    "import numpy as np\n",
    "import matplotlib.pyplot as plt\n",
    "import seaborn as sns\n",
    "import pandas as pd\n",
    "import random as rd"
   ]
  },
  {
   "cell_type": "code",
   "execution_count": 8,
   "metadata": {},
   "outputs": [],
   "source": [
    "data = pd.read_csv('listeria.txt', sep=',')\n",
    "data.columns = ['nb_pos', 'nb_test']\n",
    "new_row = {'nb_pos':0, 'nb_test':600}\n",
    "data = data.append(new_row, ignore_index=True)"
   ]
  },
  {
   "cell_type": "code",
   "execution_count": 9,
   "metadata": {
    "scrolled": true
   },
   "outputs": [],
   "source": [
    "data['prob']=data[\"nb_pos\"]/data['nb_test']\n",
    "proba_constante = sum(data['nb_pos'])/sum(data['nb_test'])"
   ]
  },
  {
   "cell_type": "code",
   "execution_count": 10,
   "metadata": {},
   "outputs": [
    {
     "data": {
      "text/plain": [
       "0.0010564383073439964"
      ]
     },
     "execution_count": 10,
     "metadata": {},
     "output_type": "execute_result"
    }
   ],
   "source": [
    "proba_constante"
   ]
  },
  {
   "cell_type": "markdown",
   "metadata": {},
   "source": [
    "# Question 1 : détermination de la loi a posteriori"
   ]
  },
  {
   "cell_type": "markdown",
   "metadata": {},
   "source": [
    "On suppose dans un premier temps que la probabilité de présence de listeria dans toutes les études est constante. \n",
    "\n",
    "Modèle binomial : $r_i \\sim \\mathcal{B}(n_i,p)$, de fonction de masse $f(r_i, p) = \\binom{n_i}{r_i} p^{r_i} (1-p)^{n_i-r_i}$ \n",
    "\n",
    "Loi a priori : $p \\sim \\mathcal{B}eta(\\alpha,\\beta)$ avec $\\alpha, \\beta = 1$ ce qui revient à avoir $p \\propto \\mathcal{U}([0,1])$ donc de densité $\\mathbb{1}_{[0,1]}(p)$\n",
    "\n",
    "La densité de la loi a posteriori est alors ($n$=91 est le nombre d'études) : \n",
    "\n",
    "$\\pi(p|r_1,\\dots, r_n) \\propto \\prod_{i=1}^{n}f(r_i,p) \\mathbb{1}_{[0,1]}(p) \n",
    "\\\\  \\;\\;\\;\\;\\;\\;\\;\\;\\;\\;\\;\\;\\;\\;\\;\\;\\;\\,\\,  \\propto \\prod_{i=1}^{n} p^{r_i} (1-p)^{(n_i-r_i)}  \n",
    "\\\\  \\;\\;\\;\\;\\;\\;\\;\\;\\;\\;\\;\\;\\;\\;\\;\\;\\;\\,\\,  \\propto p^{\\sum_{i=1}^{n}r_i} (1-p)^{\\sum_{i=1}^{n}(n_i-r_i)}  \\sim \\mathcal{B}eta(\\sum_{i=1}^{n}r_i +1, \\sum_{i=1}^{n}(n_i-r_i)+1)$\n",
    "\n",
    "Les observations nous permettent alors de calculer les deux paramètres de cette loi Bêta :\n"
   ]
  },
  {
   "cell_type": "code",
   "execution_count": 15,
   "metadata": {},
   "outputs": [
    {
     "name": "stdout",
     "output_type": "stream",
     "text": [
      "premier paramètre = 1329\n",
      "deuxième paramètre = 1255727\n"
     ]
    }
   ],
   "source": [
    "print(\"premier paramètre =\",sum(data['nb_pos'])+1)\n",
    "print(\"deuxième paramètre =\",sum(data['nb_test'])-sum(data['nb_pos'])+1)"
   ]
  },
  {
   "cell_type": "markdown",
   "metadata": {},
   "source": [
    "Finalement, la loi a posteriori de $p$ est une $\\boxed{\\mathcal{B}eta(1329,1255727)}$"
   ]
  },
  {
   "cell_type": "markdown",
   "metadata": {},
   "source": [
    "# Question 2 "
   ]
  },
  {
   "cell_type": "markdown",
   "metadata": {},
   "source": [
    "On suppose dans un second temps que la probabilité de présence de listeria est variable selon les études.  \n",
    "\n",
    "Modèle binomial : $r_i \\sim \\mathcal{B}(n_i,p_i)$, de fonction de masse $f(r_i, p_i) = \\binom{n_i}{r_i} p_i^{r_i} (1-p_i)^{n_i-r_i}$\n",
    "\n",
    "Loi a priori : $ \\forall i, p_i \\sim \\mathcal{B}eta(\\alpha,\\beta)$, de densité $\\displaystyle{\\frac{\\Gamma(\\alpha + \\beta)}{\\Gamma(\\alpha)\\Gamma(\\beta)}}p_i^{\\alpha-1}(1-p_i)^{\\beta-1}\\mathbb{1}_{[0,1]}(p_i)$\n",
    "\n",
    "L'énoncé propose la reparamétrisation suivante : $\\mu = \\alpha/(\\alpha+\\beta) \\sim \\mathcal{U}([0,1])$ et $\\kappa = \\alpha + \\beta \\sim \\mathcal{E}(0.1)$\n",
    "\n",
    "On supposera que : $\\textbf{$\\kappa$ et $\\mu$ sont indépendantes}$ \n",
    "\n",
    "Donc on aura la densité jointe de $(\\mu,\\kappa)$ suivante : $p(\\mu,\\kappa)$ = $0.1 e^{-0.1\\kappa}\\mathbb{1}_{[0,1]}(\\kappa)$\n",
    "     \n",
    "En inversant : $\\alpha = \\kappa \\mu $ et $\\beta = \\kappa (1-\\mu)$\n",
    "\n",
    "Et donc $p_i$ a pour densité (sachant $\\mu$ et $\\kappa$) : $p(p_i|\\mu,\\kappa)$  = $\\displaystyle{\\frac{\\Gamma(\\kappa)}{\\Gamma(\\kappa \\mu)\\Gamma(\\kappa (1-\\mu))}}p_i^{\\kappa \\mu-1}(1-p_i)^{\\kappa(1-\\mu)-1}\\mathbb{1}_{[0,1]}(p_i)$\n",
    "\n",
    "La densité de la loi a posteriori est alors : \n",
    "\n",
    "$\\pi(\\mu,\\kappa,p_1,...,p_n|r_1,\\dots, r_n) \\propto \\prod_{i=1}^{n}f(r_i,p_i)p(p_i|\\mu,\\kappa)p(\\mu,\\kappa)\n",
    "\\\\    \\;\\;\\;\\;\\;\\;\\;\\;\\;\\;\\;\\;\\;\\;\\;\\;\\;\\;\\;\\;\\;\\;\\;\\;\\;\\;\\;\\;\\;\\;\\;\\;\\;\\;\\;\\,\\,  \\propto \\prod_{i=1}^{n} p_i^{r_i} (1-p_i)^{(n_i-r_i)}\\displaystyle{\\frac{\\Gamma(\\kappa)}{\\Gamma(\\kappa \\mu)\\Gamma(\\kappa (1-\\mu))}}p_i^{\\kappa \\mu-1}(1-p_i)^{\\kappa(1-\\mu)-1}e^{-0.1\\kappa}  \n",
    "\\\\    \\;\\;\\;\\;\\;\\;\\;\\;\\;\\;\\;\\;\\;\\;\\;\\;\\;\\;\\;\\;\\;\\;\\;\\;\\;\\;\\;\\;\\;\\;\\;\\;\\;\\;\\;\\,\\,  \\propto e^{-0.1n\\kappa}\\left(\\displaystyle{\\frac{\\Gamma(\\kappa)}{\\Gamma(\\kappa \\mu)\\Gamma(\\kappa (1-\\mu))}}\\right)^n\\prod_{i=1}^{n} p_i^{r_i+\\kappa \\mu -1} (1-p_i)^{(n_i-r_i)+\\kappa(1-\\mu)-1}$ \n",
    "\n",
    "Contrairement au cas précédent, la loi a posteriori ne correspond pas à une loi usuelle connue. \n",
    "On va alors mettre en oeuvre un algorithme de $\\textbf{Metropolis within Gibbs}$ pour simuler cette loi a posteriori, en s'appuyant sur les différentes lois (connues) de nos paramètres $(p_i)_i,\\kappa$ et $\\mu$."
   ]
  },
  {
   "cell_type": "code",
   "execution_count": 6,
   "metadata": {},
   "outputs": [],
   "source": [
    "donnees = []"
   ]
  },
  {
   "cell_type": "code",
   "execution_count": 7,
   "metadata": {
    "scrolled": false
   },
   "outputs": [
    {
     "data": {
      "text/plain": [
       "<AxesSubplot:xlabel='prob', ylabel='Count'>"
      ]
     },
     "execution_count": 7,
     "metadata": {},
     "output_type": "execute_result"
    },
    {
     "data": {
      "image/png": "[encoded data removed]",
      "text/plain": [
       "<Figure size 432x288 with 1 Axes>"
      ]
     },
     "metadata": {
      "needs_background": "light"
     },
     "output_type": "display_data"
    }
   ],
   "source": [
    "sns.histplot(data, x=\"prob\")"
   ]
  },
  {
   "cell_type": "markdown",
   "metadata": {},
   "source": [
    "### Loi exponentielle \n",
    "\n"
   ]
  },
  {
   "cell_type": "code",
   "execution_count": 8,
   "metadata": {},
   "outputs": [],
   "source": [
    "def gen_exp(theta):\n",
    "    u = rd.random()\n",
    "    return -1/theta*np.log(1-u)"
   ]
  },
  {
   "cell_type": "markdown",
   "metadata": {},
   "source": [
    "### Loi Gamma \n",
    "Remarque : sommer les cas/les études pour un gros échantillon\n",
    "Simuler une loi beta(alpha, beta) à l'aide de simulation de lois gammas. \n",
    "\n",
    "------------\n",
    "Soient $X$ et $Y$ deux variables independantes distribuees suivant des lois  $\\Gamma(a,1)$ et $\\Gamma(b,1)$\n",
    "\n",
    "Alors $U = X+Y$ et $V = X/(X+Y)$ sont deux variables independantes distribuees suivant des lois $\\Gamma(a+b,1)$ et $\\mathcal{B}eta(a,b)$.\n",
    "\n",
    "\n",
    "\n"
   ]
  },
  {
   "cell_type": "code",
   "execution_count": 9,
   "metadata": {},
   "outputs": [],
   "source": [
    "def gamma(x):\n",
    "    l = [gen_exp(x) for i in range(10000)]\n",
    "    return mean(l)\n",
    "        \n",
    "def f(x, a, b):\n",
    "    return b**a*x**(a-1)*exp(-bx)/gamma(a)\n"
   ]
  },
  {
   "cell_type": "code",
   "execution_count": 10,
   "metadata": {},
   "outputs": [],
   "source": [
    "def gen_gamma(a,b):\n",
    "    # si alpha = 1, cela revient à avoir une loi exponentielle de paramètre beta\n",
    "    if a == 1:\n",
    "        return gen_exp(b)\n",
    "    # si alpha est un entier non nul, gamma coïncide avec une somme de alpha va exponentielles\n",
    "    # de paramètre beta indépendantes\n",
    "    elif a == int(a) and a > 1 : \n",
    "        return sum([gen_exp(b) for i in range(a)])\n",
    "    # sinon, on va utiliser une méthode de rejet \n",
    "    else : \n",
    "        while True : \n",
    "            # on va utiliser une loi de gamma de paramètres entiers pour g\n",
    "            x = gen_gamma(int(a), b+1)\n",
    "            # constante calculée dans la photo sur messenger\n",
    "            c = b**a/((b+1)**int(a))*gamma(int(a))/gamma(a)*(a-int(a))**(a-int(a))*exp(-int(a)+a)\n",
    "            u = rd.random()\n",
    "            if u <= c*f(x, a, b)/g(x, int(a), b+1):\n",
    "                return x \n",
    "        \n",
    "        "
   ]
  },
  {
   "cell_type": "code",
   "execution_count": 11,
   "metadata": {},
   "outputs": [],
   "source": [
    "def gen_beta(alpha, beta):\n",
    "    X = gen_gamma(alpha, 1)\n",
    "    Y = gen_gamma(beta,1)\n",
    "    return X/(X+Y)"
   ]
  },
  {
   "cell_type": "code",
   "execution_count": 12,
   "metadata": {},
   "outputs": [],
   "source": [
    "def gen_binomiale(n,p):\n",
    "    l=[]\n",
    "    for i in range(n):\n",
    "        r = rd.random()\n",
    "        if r <= p:\n",
    "            l.append(1)\n",
    "    return sum(l)"
   ]
  },
  {
   "cell_type": "code",
   "execution_count": 13,
   "metadata": {},
   "outputs": [],
   "source": [
    "def gen_bernoulli(p):\n",
    "    if rd.random() <= p :\n",
    "        return 1\n",
    "    return 0"
   ]
  },
  {
   "cell_type": "markdown",
   "metadata": {},
   "source": [
    "Représentation graphique \n",
    "\n",
    "\n",
    "Loi a posteriori : $\\pi(p|r_1,\\dots,r_n) \\sim \\mathcal{B}eta(\\sum_i^n r_i+1, \\sum_i^n n_i-r_i+1)$"
   ]
  },
  {
   "cell_type": "code",
   "execution_count": 38,
   "metadata": {},
   "outputs": [],
   "source": [
    "# générateur de la loi a posteriori   \n",
    "def gen_aposte():\n",
    "    list_n = data['nb_test'].tolist()\n",
    "    r_list = []\n",
    "    for elem in list_n:\n",
    "        r_list.append(gen_binomiale(elem,proba_constante)) \n",
    "    p=gen_beta(sum(r_list)+1, sum(list_n)-sum(r_list)+1)\n",
    "    x = rd.random()\n",
    "    if x <= p:\n",
    "        return x"
   ]
  },
  {
   "cell_type": "code",
   "execution_count": null,
   "metadata": {},
   "outputs": [],
   "source": [
    "distr = [gen_aposte() for i in range(1000)]\n",
    "sns.histplot(distr)"
   ]
  },
  {
   "cell_type": "code",
   "execution_count": 27,
   "metadata": {},
   "outputs": [
    {
     "data": {
      "text/html": [
       "<div>\n",
       "<style scoped>\n",
       "    .dataframe tbody tr th:only-of-type {\n",
       "        vertical-align: middle;\n",
       "    }\n",
       "\n",
       "    .dataframe tbody tr th {\n",
       "        vertical-align: top;\n",
       "    }\n",
       "\n",
       "    .dataframe thead th {\n",
       "        text-align: right;\n",
       "    }\n",
       "</style>\n",
       "<table border=\"1\" class=\"dataframe\">\n",
       "  <thead>\n",
       "    <tr style=\"text-align: right;\">\n",
       "      <th></th>\n",
       "      <th>nb_pos</th>\n",
       "      <th>nb_test</th>\n",
       "      <th>prob</th>\n",
       "    </tr>\n",
       "  </thead>\n",
       "  <tbody>\n",
       "    <tr>\n",
       "      <th>0</th>\n",
       "      <td>0</td>\n",
       "      <td>415</td>\n",
       "      <td>0.000000</td>\n",
       "    </tr>\n",
       "    <tr>\n",
       "      <th>1</th>\n",
       "      <td>0</td>\n",
       "      <td>276</td>\n",
       "      <td>0.000000</td>\n",
       "    </tr>\n",
       "    <tr>\n",
       "      <th>2</th>\n",
       "      <td>0</td>\n",
       "      <td>220</td>\n",
       "      <td>0.000000</td>\n",
       "    </tr>\n",
       "    <tr>\n",
       "      <th>3</th>\n",
       "      <td>0</td>\n",
       "      <td>150</td>\n",
       "      <td>0.000000</td>\n",
       "    </tr>\n",
       "    <tr>\n",
       "      <th>4</th>\n",
       "      <td>0</td>\n",
       "      <td>142</td>\n",
       "      <td>0.000000</td>\n",
       "    </tr>\n",
       "    <tr>\n",
       "      <th>...</th>\n",
       "      <td>...</td>\n",
       "      <td>...</td>\n",
       "      <td>...</td>\n",
       "    </tr>\n",
       "    <tr>\n",
       "      <th>86</th>\n",
       "      <td>6</td>\n",
       "      <td>14</td>\n",
       "      <td>0.428571</td>\n",
       "    </tr>\n",
       "    <tr>\n",
       "      <th>87</th>\n",
       "      <td>7</td>\n",
       "      <td>16</td>\n",
       "      <td>0.437500</td>\n",
       "    </tr>\n",
       "    <tr>\n",
       "      <th>88</th>\n",
       "      <td>43</td>\n",
       "      <td>95</td>\n",
       "      <td>0.452632</td>\n",
       "    </tr>\n",
       "    <tr>\n",
       "      <th>89</th>\n",
       "      <td>17</td>\n",
       "      <td>21</td>\n",
       "      <td>0.809524</td>\n",
       "    </tr>\n",
       "    <tr>\n",
       "      <th>90</th>\n",
       "      <td>0</td>\n",
       "      <td>600</td>\n",
       "      <td>0.000000</td>\n",
       "    </tr>\n",
       "  </tbody>\n",
       "</table>\n",
       "<p>91 rows × 3 columns</p>\n",
       "</div>"
      ],
      "text/plain": [
       "    nb_pos  nb_test      prob\n",
       "0        0      415  0.000000\n",
       "1        0      276  0.000000\n",
       "2        0      220  0.000000\n",
       "3        0      150  0.000000\n",
       "4        0      142  0.000000\n",
       "..     ...      ...       ...\n",
       "86       6       14  0.428571\n",
       "87       7       16  0.437500\n",
       "88      43       95  0.452632\n",
       "89      17       21  0.809524\n",
       "90       0      600  0.000000\n",
       "\n",
       "[91 rows x 3 columns]"
      ]
     },
     "execution_count": 27,
     "metadata": {},
     "output_type": "execute_result"
    }
   ],
   "source": [
    "data"
   ]
  },
  {
   "cell_type": "code",
   "execution_count": 31,
   "metadata": {
    "scrolled": true
   },
   "outputs": [
    {
     "data": {
      "text/plain": [
       "<AxesSubplot:xlabel='prob', ylabel='Count'>"
      ]
     },
     "execution_count": 31,
     "metadata": {},
     "output_type": "execute_result"
    },
    {
     "data": {
      "image/png": "[encoded data removed]",
      "text/plain": [
       "<Figure size 432x288 with 1 Axes>"
      ]
     },
     "metadata": {},
     "output_type": "display_data"
    }
   ],
   "source": [
    "sns.set(style=\"darkgrid\")\n",
    "#sns.histplot([gen_beta(r_list[i]+1,list_n[i]-r_list[i]+1) for i in range(len(list_n))],color=\"skyblue\", label=\"model\", )\n",
    "sns.histplot(data['prob'], color=\"red\", label=\"donnees\", alpha=0.5)"
   ]
  },
  {
   "cell_type": "code",
   "execution_count": 19,
   "metadata": {},
   "outputs": [],
   "source": [
    "list_n = data['nb_test'].tolist()\n",
    "r_list = []\n",
    "for elem in list_n:\n",
    "    p = gen_bernoulli(proba_constante)\n",
    "    r_list.append(gen_binomiale(elem,p)) "
   ]
  },
  {
   "cell_type": "code",
   "execution_count": 20,
   "metadata": {},
   "outputs": [
    {
     "data": {
      "text/plain": [
       "<AxesSubplot:xlabel='prob', ylabel='Count'>"
      ]
     },
     "execution_count": 20,
     "metadata": {},
     "output_type": "execute_result"
    },
    {
     "data": {
      "image/png": "[encoded data removed]",
      "text/plain": [
       "<Figure size 432x288 with 1 Axes>"
      ]
     },
     "metadata": {},
     "output_type": "display_data"
    }
   ],
   "source": [
    "sns.histplot(data['prob'])"
   ]
  },
  {
   "cell_type": "code",
   "execution_count": null,
   "metadata": {},
   "outputs": [],
   "source": []
  }
 ],
 "metadata": {
  "kernelspec": {
   "display_name": "Python 3",
   "language": "python",
   "name": "python3"
  },
  "language_info": {
   "codemirror_mode": {
    "name": "ipython",
    "version": 3
   },
   "file_extension": ".py",
   "mimetype": "text/x-python",
   "name": "python",
   "nbconvert_exporter": "python",
   "pygments_lexer": "ipython3",
   "version": "3.8.5"
  }
 },
 "nbformat": 4,
 "nbformat_minor": 4
}
