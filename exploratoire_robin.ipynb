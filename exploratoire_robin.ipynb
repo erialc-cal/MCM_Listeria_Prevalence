{
 "cells": [
  {
   "cell_type": "markdown",
   "metadata": {},
   "source": [
    "# Prévalence du Listeria dans le lait cru"
   ]
  },
  {
   "cell_type": "code",
   "execution_count": 1,
   "metadata": {},
   "outputs": [
    {
     "name": "stdout",
     "output_type": "stream",
     "text": [
      "README.md                 listeria.txt              projets2021.pdf\r\n",
      "exploratoire_claire.ipynb mcmc.ipynb\r\n"
     ]
    }
   ],
   "source": [
    "!ls"
   ]
  },
  {
   "cell_type": "code",
   "execution_count": 1,
   "metadata": {},
   "outputs": [],
   "source": [
    "import numpy as np\n",
    "import matplotlib.pyplot as plt\n",
    "import seaborn as sns\n",
    "import pandas as pd\n",
    "import random as rd\n",
    "import statistics as stats\n",
    "import math\n",
    "from math import gamma\n",
    "from tqdm import tqdm"
   ]
  },
  {
   "cell_type": "markdown",
   "metadata": {},
   "source": [
    "# Exploration rapide des données"
   ]
  },
  {
   "cell_type": "code",
   "execution_count": 2,
   "metadata": {},
   "outputs": [],
   "source": [
    "data = pd.read_csv('listeria.txt', sep=',')\n",
    "data.columns = ['nb_pos', 'nb_test']\n",
    "new_row = {'nb_pos':0, 'nb_test':600}\n",
    "data = data.append(new_row, ignore_index=True)\n",
    "data['prob']=data[\"nb_pos\"]/data['nb_test']\n",
    "proba_constante = sum(data['nb_pos'])/sum(data['nb_test'])"
   ]
  },
  {
   "cell_type": "code",
   "execution_count": 3,
   "metadata": {},
   "outputs": [
    {
     "data": {
      "text/plain": [
       "86         14\n",
       "87         16\n",
       "83         16\n",
       "85         17\n",
       "17         20\n",
       "       ...   \n",
       "40       1720\n",
       "62       2009\n",
       "44       2511\n",
       "20       4046\n",
       "18    1227053\n",
       "Name: nb_test, Length: 91, dtype: int64"
      ]
     },
     "execution_count": 3,
     "metadata": {},
     "output_type": "execute_result"
    }
   ],
   "source": [
    "# distribution du nombre de testés dans chaque étude\n",
    "\n",
    "data['nb_test'].sort_values()"
   ]
  },
  {
   "cell_type": "code",
   "execution_count": 19,
   "metadata": {},
   "outputs": [
    {
     "data": {
      "image/png": "[encoded data removed]",
      "text/plain": [
       "<Figure size 432x432 with 1 Axes>"
      ]
     },
     "metadata": {
      "needs_background": "light"
     },
     "output_type": "display_data"
    }
   ],
   "source": [
    "dg=data['nb_test']\n",
    "plt.figure(figsize=(6,6))\n",
    "plt.hist(dg, density=False,color=\"red\")\n",
    "plt.title(\"Distribution empirique du nombre de testés dans chaque étude\")\n",
    "plt.show()"
   ]
  },
  {
   "cell_type": "markdown",
   "metadata": {},
   "source": [
    "On voit qu'une étude se distingue clairement des autres de par son ampleur. Il s'agit de l'étude 18 qui concerne 1 227 053 personnes !"
   ]
  },
  {
   "cell_type": "code",
   "execution_count": 20,
   "metadata": {},
   "outputs": [
    {
     "data": {
      "text/plain": [
       "0       0\n",
       "17      0\n",
       "16      0\n",
       "15      0\n",
       "14      0\n",
       "     ... \n",
       "44     79\n",
       "69     85\n",
       "79     90\n",
       "62    102\n",
       "18    278\n",
       "Name: nb_pos, Length: 91, dtype: int64"
      ]
     },
     "execution_count": 20,
     "metadata": {},
     "output_type": "execute_result"
    }
   ],
   "source": [
    "# distribution du nombre de positifs dans chaque étude\n",
    "\n",
    "data['nb_pos'].sort_values()"
   ]
  },
  {
   "cell_type": "markdown",
   "metadata": {},
   "source": [
    "Le nombre de positifs a l'air lui plus homogène entre chaque étude. Le plus grand nombre de positifs est pour l'étude 18 (assez cohérent car c'est elle qui a testé le plus de personnes). A priori donc, aucune raison d'enlever cette étude de nos données."
   ]
  },
  {
   "cell_type": "code",
   "execution_count": 9,
   "metadata": {},
   "outputs": [
    {
     "data": {
      "image/png": "[encoded data removed]",
      "text/plain": [
       "<Figure size 864x576 with 1 Axes>"
      ]
     },
     "metadata": {
      "needs_background": "light"
     },
     "output_type": "display_data"
    }
   ],
   "source": [
    "# distribution du nombre de positifs dans chaque étude\n",
    "\n",
    "dg=data['nb_pos']\n",
    "plt.figure(figsize=(12,8))\n",
    "plt.hist(dg, density=True,color=\"red\")\n",
    "plt.title(\"Distribution empirique du nombre de positifs dans chaque étude\")\n",
    "plt.show()"
   ]
  },
  {
   "cell_type": "code",
   "execution_count": 25,
   "metadata": {},
   "outputs": [
    {
     "data": {
      "text/plain": [
       "0     0.000000\n",
       "17    0.000000\n",
       "16    0.000000\n",
       "15    0.000000\n",
       "14    0.000000\n",
       "        ...   \n",
       "85    0.294118\n",
       "86    0.428571\n",
       "87    0.437500\n",
       "88    0.452632\n",
       "89    0.809524\n",
       "Name: prob, Length: 91, dtype: float64"
      ]
     },
     "execution_count": 25,
     "metadata": {},
     "output_type": "execute_result"
    }
   ],
   "source": [
    "# le plus important : distribution empirique de probabilité de positivité dans chaque étude\n",
    "\n",
    "data['prob'].sort_values()"
   ]
  },
  {
   "cell_type": "markdown",
   "metadata": {},
   "source": [
    "L'étude 89 affiche une probabilité empirique assez élevée, de presque $0.81$. On voit clairement que cette probabilité est supérieure à toutes les autres : "
   ]
  },
  {
   "cell_type": "code",
   "execution_count": 26,
   "metadata": {},
   "outputs": [
    {
     "data": {
      "text/plain": [
       "Text(0.5, 1.0, 'Distribution des probas a priori empiriques')"
      ]
     },
     "execution_count": 26,
     "metadata": {},
     "output_type": "execute_result"
    },
    {
     "data": {
      "image/png": "[encoded data removed]",
      "text/plain": [
       "<Figure size 432x288 with 1 Axes>"
      ]
     },
     "metadata": {
      "needs_background": "light"
     },
     "output_type": "display_data"
    }
   ],
   "source": [
    "sns.histplot(data['prob'])\n",
    "plt.title(\"Distribution des probas a priori empiriques\")"
   ]
  },
  {
   "cell_type": "markdown",
   "metadata": {},
   "source": [
    "Il faudra peut-être songer à l'enlever des données..."
   ]
  },
  {
   "cell_type": "code",
   "execution_count": 45,
   "metadata": {},
   "outputs": [
    {
     "data": {
      "text/plain": [
       "0.0010564383073439964"
      ]
     },
     "execution_count": 45,
     "metadata": {},
     "output_type": "execute_result"
    }
   ],
   "source": [
    "proba_constante"
   ]
  },
  {
   "cell_type": "markdown",
   "metadata": {},
   "source": [
    "# Question 1 : détermination de la loi a posteriori"
   ]
  },
  {
   "cell_type": "markdown",
   "metadata": {},
   "source": [
    "On suppose dans un premier temps que la probabilité de présence de listeria dans toutes les études est constante $p$.\n",
    "\n",
    "\n",
    "Modèle binomial : $r_i \\sim \\mathcal{B}(n_i,p)$, de fonction de masse $f(r_i, p) = \\binom{n_i}{r_i} p^{r_i} (1-p)^{n_i-r_i}$ \n",
    "\n",
    "Loi a priori : $p \\sim \\mathcal{B}eta(\\alpha,\\beta)$ avec $\\alpha, \\beta = 1$ ce qui revient à avoir $p \\propto \\mathcal{U}([0,1])$ donc de densité $\\mathbb{1}_{[0,1]}(p)$\n",
    "\n",
    "La densité de la loi a posteriori est alors ($n$=91 est le nombre d'études) : \n",
    "\n",
    "$\\pi(p|r_1,\\dots, r_n) \\propto \\prod_{i=1}^{n}f(r_i,p) \\mathbb{1}_{[0,1]}(p) \n",
    "\\\\  \\;\\;\\;\\;\\;\\;\\;\\;\\;\\;\\;\\;\\;\\;\\;\\;\\;\\,\\,  \\propto \\prod_{i=1}^{n} p^{r_i} (1-p)^{(n_i-r_i)}\\mathbb{1}_{[0,1]}(p)   \\\\  \\;\\;\\;\\;\\;\\;\\;\\;\\;\\;\\;\\;\\;\\;\\;\\;\\;\\,\\,  \\propto p^{\\sum_{i=1}^{n}r_i} (1-p)^{\\sum_{i=1}^{n}(n_i-r_i)}\\mathbb{1}_{[0,1]}(p)   \\sim \\mathcal{B}eta(\\sum_{i=1}^{n}r_i +1, \\sum_{i=1}^{n}(n_i-r_i)+1)$\n",
    "\n",
    "Les observations nous permettent alors de calculer les deux paramètres de cette loi Bêta :\n"
   ]
  },
  {
   "cell_type": "code",
   "execution_count": 4,
   "metadata": {},
   "outputs": [
    {
     "name": "stdout",
     "output_type": "stream",
     "text": [
      "premier paramètre = 1329\n",
      "deuxième paramètre = 1255727\n"
     ]
    }
   ],
   "source": [
    "print(\"premier paramètre =\",sum(data['nb_pos'])+1)\n",
    "print(\"deuxième paramètre =\",sum(data['nb_test'])-sum(data['nb_pos'])+1)"
   ]
  },
  {
   "cell_type": "markdown",
   "metadata": {},
   "source": [
    "Finalement, la loi a posteriori de $p$ est une $\\boxed{\\mathcal{B}eta(1329,1255727)}$"
   ]
  },
  {
   "cell_type": "markdown",
   "metadata": {},
   "source": [
    "On n'utilise pas directement la fonction beta disponible dans le module stats de Python. En effet, du fait de la grande valeur des paramètres, il est préférable de reprogrammer par nous même une fonction gen_beta qui permet de tirer une valeur selon une loi beta"
   ]
  },
  {
   "cell_type": "markdown",
   "metadata": {},
   "source": [
    "### Loi exponentielle \n",
    "\n"
   ]
  },
  {
   "cell_type": "code",
   "execution_count": 10,
   "metadata": {},
   "outputs": [],
   "source": [
    "def gen_exp(theta):\n",
    "    u = rd.random()\n",
    "    return -1/theta*np.log(1-u)"
   ]
  },
  {
   "cell_type": "markdown",
   "metadata": {},
   "source": [
    "### Loi gamma\n",
    "\n",
    "------------\n",
    "Soient $X$ et $Y$ deux variables independantes distribuees suivant des lois  $\\Gamma(a,1)$ et $\\Gamma(b,1)$\n",
    "\n",
    "Alors $U = X+Y$ et $V = X/(X+Y)$ sont deux variables independantes distribuees suivant des lois $\\Gamma(a+b,1)$ et $\\mathcal{B}eta(a,b)$.\n",
    "\n",
    "\n",
    "\n"
   ]
  },
  {
   "cell_type": "code",
   "execution_count": 28,
   "metadata": {},
   "outputs": [],
   "source": [
    "def gama(x):\n",
    "    l = [gen_exp(x) for i in range(10000)]\n",
    "    return mean(l)\n",
    "        \n",
    "def f(x, a, b):\n",
    "    return b**a*x**(a-1)*exp(-bx)/gamma(a)"
   ]
  },
  {
   "cell_type": "code",
   "execution_count": 77,
   "metadata": {},
   "outputs": [],
   "source": [
    "def gen_gamma(a,b):\n",
    "    # si alpha = 1, cela revient à avoir une loi exponentielle de paramètre beta\n",
    "    if a == 1:\n",
    "        return gen_exp(b)\n",
    "    # si alpha est un entier non nul, gamma coïncide avec une somme de alpha va exponentielles\n",
    "    # de paramètre beta indépendantes\n",
    "    elif a == int(a) and a > 1 : \n",
    "        return sum([gen_exp(b) for i in range(a)])\n",
    "    # sinon, on va utiliser une méthode de rejet \n",
    "    else : \n",
    "        while True : \n",
    "            # on va utiliser une loi de gamma de paramètres entiers pour g\n",
    "            x = gen_gamma(int(a), b+1)\n",
    "            # constante calculée dans la photo sur messenger\n",
    "            c = b**a/((b+1)**int(a))*gama(int(a))/gama(a)*(a-int(a))**(a-int(a))*exp(-int(a)+a)\n",
    "            u = rd.random()\n",
    "            if u <= c*f(x, a, b)/g(x, int(a), b+1):\n",
    "                return x \n",
    "        \n",
    "        "
   ]
  },
  {
   "cell_type": "markdown",
   "metadata": {},
   "source": [
    "### Loi Beta"
   ]
  },
  {
   "cell_type": "code",
   "execution_count": 78,
   "metadata": {},
   "outputs": [],
   "source": [
    "def gen_beta(alpha, beta):\n",
    "    X = gen_gamma(alpha, 1)\n",
    "    Y = gen_gamma(beta,1)\n",
    "    return X/(X+Y)"
   ]
  },
  {
   "cell_type": "code",
   "execution_count": 32,
   "metadata": {},
   "outputs": [],
   "source": [
    "# on genere désormais notre beta(1329,1255727)\n",
    "\n",
    "distr = [gen_beta(1329,1255727) for i in range(1000)]\n"
   ]
  },
  {
   "cell_type": "code",
   "execution_count": 27,
   "metadata": {},
   "outputs": [
    {
     "data": {
      "text/plain": [
       "0.0010564383073439964"
      ]
     },
     "execution_count": 27,
     "metadata": {},
     "output_type": "execute_result"
    }
   ],
   "source": [
    "# probabiliré agrégeé dans nos données, qu'on va comparer avec la distribution de notre loi a posteriori\n",
    "\n",
    "proba_constante = sum(data['nb_pos'])/sum(data['nb_test'])\n",
    "proba_constante"
   ]
  },
  {
   "cell_type": "code",
   "execution_count": 33,
   "metadata": {},
   "outputs": [
    {
     "name": "stderr",
     "output_type": "stream",
     "text": [
      "/home/guillot/anaconda3/lib/python3.8/site-packages/seaborn/distributions.py:305: UserWarning: Dataset has 0 variance; skipping density estimate.\n",
      "  warnings.warn(msg, UserWarning)\n"
     ]
    },
    {
     "data": {
      "text/plain": [
       "Text(0.5, 1.0, 'Distribution de la loi a posteriori')"
      ]
     },
     "execution_count": 33,
     "metadata": {},
     "output_type": "execute_result"
    },
    {
     "data": {
      "image/png": "[encoded data removed]",
      "text/plain": [
       "<Figure size 432x288 with 1 Axes>"
      ]
     },
     "metadata": {},
     "output_type": "display_data"
    }
   ],
   "source": [
    "sns.set(style=\"darkgrid\")\n",
    "sns.histplot(distr, kde=True)\n",
    "plt.axvline(proba_constante, color='red',label=\"probabilité agrégée trouvée dans les données\")\n",
    "p_esp = sum(distr)/len(distr)\n",
    "plt.axvline(p_esp, color=\"green\",label=\"probabilité agrégée trouvée dans la loi a posteriori\")\n",
    "plt.legend()\n",
    "plt.title(\"Distribution de la loi a posteriori\")"
   ]
  },
  {
   "cell_type": "markdown",
   "metadata": {},
   "source": [
    "Le modèle n'approche pas très bien la probabilité agrégée de la présence de listeria (c'est-à-dire celle prise en agrégant l'ensemble des études).\n",
    "De plus, on a vu que les études affichent des probabilités empiriques de présence de listeria assez variées. Il paraît donc plus judicieux de considérer des probabilités de présence de listeria $p_i$ qui varient avec l'étude $i$.$\\newline$C'est l'objet de la deuxième question."
   ]
  },
  {
   "cell_type": "markdown",
   "metadata": {},
   "source": [
    "## Question 2 : "
   ]
  },
  {
   "cell_type": "markdown",
   "metadata": {},
   "source": [
    "On suppose dans un second temps que la probabilité de présence de listeria est variable selon les études.  \n",
    "\n",
    "Modèle binomial : $r_i \\sim \\mathcal{B}(n_i,p_i)$, de fonction de masse $f(r_i, p_i) = \\binom{n_i}{r_i} p_i^{r_i} (1-p_i)^{n_i-r_i}$\n",
    "\n",
    "Loi a priori : $ \\forall i, p_i \\sim \\mathcal{B}eta(\\alpha,\\beta)$, de densité $\\displaystyle{\\frac{\\Gamma(\\alpha + \\beta)}{\\Gamma(\\alpha)\\Gamma(\\beta)}}p_i^{\\alpha-1}(1-p_i)^{\\beta-1}\\mathbb{1}_{[0,1]}(p_i)$\n",
    "\n",
    "L'énoncé propose la reparamétrisation suivante : $\\mu = \\alpha/(\\alpha+\\beta) \\sim \\mathcal{U}([0,1])$ et $\\kappa = \\alpha + \\beta \\sim \\mathcal{E}(0.1)$\n",
    "\n",
    "On supposera que : $\\textbf{$\\kappa$ et $\\mu$ sont indépendantes}$ \n",
    "\n",
    "Donc on aura la densité jointe de $(\\mu,\\kappa)$ suivante : $p(\\mu,\\kappa)$ = $0.1 e^{-0.1\\kappa}\\mathbb{1}_{[0 ; \\infty[}(\\kappa)\\mathbb{1}_{[0,1]}(\\mu)$\n",
    "     \n",
    "En inversant : $\\alpha = \\kappa \\mu $ et $\\beta = \\kappa (1-\\mu)$\n",
    "\n",
    "Et donc $p_i$ a pour densité (sachant $\\mu$ et $\\kappa$) : $p(p_i|\\mu,\\kappa)$  = $\\displaystyle{\\frac{\\Gamma(\\kappa)}{\\Gamma(\\kappa \\mu)\\Gamma(\\kappa (1-\\mu))}}p_i^{\\kappa \\mu-1}(1-p_i)^{\\kappa(1-\\mu)-1}\\mathbb{1}_{[0,1]}(p_i)$\n",
    "\n",
    "La densité de la loi a posteriori est alors : \n",
    "\n",
    "$\\pi(\\mu,\\kappa,p_1,...,p_n|r_1,\\dots, r_n) \\propto \\left(\\prod_{i=1}^{n}f(r_i,p_i)p(p_i|\\mu,\\kappa)\\right)p(\\mu,\\kappa)\n",
    "\\\\    \\;\\;\\;\\;\\;\\;\\;\\;\\;\\;\\;\\;\\;\\;\\;\\;\\;\\;\\;\\;\\;\\;\\;\\;\\;\\;\\;\\;\\;\\;\\;\\;\\;\\;\\;\\,\\,  \\propto \\left(\\prod_{i=1}^{n} p_i^{r_i} (1-p_i)^{(n_i-r_i)}\\displaystyle{\\frac{\\Gamma(\\kappa)}{\\Gamma(\\kappa \\mu)\\Gamma(\\kappa (1-\\mu))}}p_i^{\\kappa \\mu-1}(1-p_i)^{\\kappa(1-\\mu)-1}\\mathbb{1}_{[0,1]}(p_i)\\right)e^{-0.1\\kappa}\\mathbb{1}_{[0 ; \\infty[}(\\kappa)\\mathbb{1}_{[0,1]}(\\mu)  \n",
    "\\\\    \\;\\;\\;\\;\\;\\;\\;\\;\\;\\;\\;\\;\\;\\;\\;\\;\\;\\;\\;\\;\\;\\;\\;\\;\\;\\;\\;\\;\\;\\;\\;\\;\\;\\;\\;\\,\\,  \\propto e^{-0.1\\kappa}\\left(\\displaystyle{\\frac{\\Gamma(\\kappa)}{\\Gamma(\\kappa \\mu)\\Gamma(\\kappa (1-\\mu))}}\\right)^n\\left(\\prod_{i=1}^{n} p_i^{r_i+\\kappa \\mu -1} (1-p_i)^{(n_i-r_i)+\\kappa(1-\\mu)-1}\\mathbb{1}_{[0,1]}(p_i)\\right)\\mathbb{1}_{[0 ; \\infty[}(\\kappa)\\mathbb{1}_{[0,1]}(\\mu)$ \n",
    "\n",
    "Contrairement au cas précédent, la loi a posteriori ne correspond pas à une loi usuelle connue. \n",
    "On va alors mettre en oeuvre un algorithme de $\\textbf{Metropolis within Gibbs}$ pour simuler cette loi a posteriori, en s'appuyant sur les différentes lois (connues) de nos paramètres $(p_i)_i,\\kappa$ et $\\mu$."
   ]
  },
  {
   "cell_type": "code",
   "execution_count": 3,
   "metadata": {},
   "outputs": [],
   "source": [
    "def indicatrice1(x):\n",
    "    if x <1 and x>0:\n",
    "        return 1\n",
    "    else:\n",
    "        return 0\n",
    "\n",
    "def indicatrice2(x):\n",
    "    if x >=0:\n",
    "        return 1\n",
    "    else:\n",
    "        return 0\n"
   ]
  },
  {
   "cell_type": "code",
   "execution_count": 201,
   "metadata": {},
   "outputs": [],
   "source": [
    "def metropolis_within_gibbs(x,sigma_1,sigma_2):\n",
    "    mu=x[91]      # valeur précédente de mu\n",
    "    kap=x[92]     # valeur précédente de kappa\n",
    "    \n",
    "    y=np.zeros(93)  #initialisation d'un vecteur y qui contiendra les valeurs à l'étape suivante\n",
    "    \n",
    "    for i in range(0,91):\n",
    "        a = mu*kap+data['nb_pos'][i]\n",
    "        b = data['nb_test'][i]-data['nb_pos'][i]+kap*(1-mu)\n",
    "        y[i]=np.random.beta(a,b)\n",
    "    \n",
    "    z = mu + sigma_1 * np.random.randn()       # proposition pour la prochaine valeur de mu \n",
    "    \n",
    "    if indicatrice1(z)==0:\n",
    "        seuil=0\n",
    "    else:\n",
    "        quantite_1=((1/gamma(kap*z))*(1/gamma(kap*(1-z))))**91\n",
    "        quantite_2=((1/gamma(kap*mu))*(1/gamma(kap*(1-mu))))**91\n",
    "        quantite_3=(math.prod([y[i]/(1-y[i]) for i in range(0,91)]))**(kap*(z-mu))\n",
    "        seuil=min(1,(quantite_1*quantite_3)/quantite_2)\n",
    "                                                                   \n",
    "    if np.random.rand() < seuil:             # on accepte z comme nouvelle valeur de mu\n",
    "        y[91]=z\n",
    "    \n",
    "    else:\n",
    "        y[91]=mu                             # on garde l'ancienne valeur de mu\n",
    "    \n",
    "    \n",
    "    w = kap + sigma_2 * np.random.randn()         # proposition pour la prochaine valeur de kappa\n",
    "    \n",
    "    if indicatrice2(w)==0:\n",
    "        seuil=0\n",
    "    else:\n",
    "        quantite_1=np.exp(-0.1*(w-kap))\n",
    "        quantite_2=((gamma(w)/gamma(w*y[91]))*(1/gamma(w*(1-y[91]))))**91\n",
    "        quantite_3=((gamma(kap)/gamma(kap*y[91]))*(1/gamma(kap*(1-y[91]))))**91\n",
    "        quantite_4=(math.prod([y[i]/(1-y[i]) for i in range(0,91)]))**(y[91]*(w-kap))\n",
    "        quantite_5=(math.prod([(1-y[i]) for i in range(0,91)]))**(w-kap)\n",
    "        seuil=min(1,(quantite_1*quantite_2*quantite_4*quantite_5)/quantite_3)\n",
    "        \n",
    "    if np.random.rand() < seuil:             # on accepte w comme nouvelle valeur de kappa\n",
    "        y[92]=w\n",
    "    \n",
    "    else:\n",
    "        y[92]=kap                            # on garde l'ancienne valeur de kappa  \n",
    "\n",
    "    \n",
    "    return y      # on retourne le vecteur des nouvelles valeurs"
   ]
  },
  {
   "cell_type": "code",
   "execution_count": 202,
   "metadata": {},
   "outputs": [
    {
     "name": "stderr",
     "output_type": "stream",
     "text": [
      "100%|██████████| 9999/9999 [00:41<00:00, 243.39it/s]\n"
     ]
    }
   ],
   "source": [
    "# initialisation de notre vecteur y qui contiendra les valeurs successives de nos 93 paramètres (les 91 p_i + mu + kappa)\n",
    "\n",
    "N = 10000\n",
    "y = np.zeros((N, 93))\n",
    "\n",
    "for i in range (0,91):\n",
    "    y[0,i]=data['prob'][i]           # on prend les probas empiriques comme probas initiales\n",
    "    \n",
    "y[0,91]=0.5         # valeur initiale pour mu car mu suit une uniforme sur [0,1]\n",
    "y[0,92]=10          # valeur initiale pour kappa car kappa suit une exp(0.1) donc est de moyenne 10\n",
    "\n",
    "\n",
    "# generate chain\n",
    "\n",
    "for n in tqdm(range(1, 10000)):\n",
    "    y[n] = metropolis_within_gibbs(y[n-1],sigma_1=0.3,sigma_2=0.5)"
   ]
  },
  {
   "cell_type": "code",
   "execution_count": 203,
   "metadata": {},
   "outputs": [
    {
     "data": {
      "text/plain": [
       "[<matplotlib.lines.Line2D at 0x7fb5458f15e0>]"
      ]
     },
     "execution_count": 203,
     "metadata": {},
     "output_type": "execute_result"
    },
    {
     "data": {
      "image/png": "[encoded data removed]",
      "text/plain": [
       "<Figure size 432x288 with 1 Axes>"
      ]
     },
     "metadata": {
      "needs_background": "light"
     },
     "output_type": "display_data"
    }
   ],
   "source": [
    "plt.plot(y[:,91])\n",
    "\n",
    "# MCMC trace pour mu"
   ]
  },
  {
   "cell_type": "markdown",
   "metadata": {},
   "source": [
    "On est censés tomber sur une loi uniforme au bout d'un moment, oscillant entre 0 et 1. Là ce n'est clairement pas le cas ! L'algo oscille plutôt entre 0 et 0.2, car la faible valeur de sigma_1 ne lui a pas permis d'explorer beaucoup de valeurs potentielles pour notre distribution mu (et notamment les valeurs de la plage supérieure entre 0.5 et 1)."
   ]
  },
  {
   "cell_type": "code",
   "execution_count": 204,
   "metadata": {},
   "outputs": [
    {
     "data": {
      "text/plain": [
       "[<matplotlib.lines.Line2D at 0x7fb5451b1070>]"
      ]
     },
     "execution_count": 204,
     "metadata": {},
     "output_type": "execute_result"
    },
    {
     "data": {
      "image/png": "[encoded data removed]",
      "text/plain": [
       "<Figure size 432x288 with 1 Axes>"
      ]
     },
     "metadata": {
      "needs_background": "light"
     },
     "output_type": "display_data"
    }
   ],
   "source": [
    "plt.plot(y[:,92])\n",
    "\n",
    "# MCMC trace pour kappa"
   ]
  },
  {
   "cell_type": "markdown",
   "metadata": {},
   "source": [
    "Idem : on est censés tomber sur une loi exponentielle au bout d'un moment, de moyenne 10. Là ce n'est clairement pas le cas ! L'algo est systématiquement en-dessous de 4. La faible valeur de sigma_2 ne lui a pas permis d'explorer beaucoup de valeurs potentielles pour notre distribution kappa (et notamment les valeurs supérieures à 10)."
   ]
  },
  {
   "cell_type": "markdown",
   "metadata": {},
   "source": [
    "Solution : il faut augmenter les valeurs de sigma_1 et sigma_2 (par exemple à 0.3 et 10) mais quand on le fait, il y a une erreur numérique (le calcul d'une quantité mobilise trop de place). Illustration : "
   ]
  },
  {
   "cell_type": "code",
   "execution_count": 205,
   "metadata": {},
   "outputs": [
    {
     "name": "stderr",
     "output_type": "stream",
     "text": [
      "  0%|          | 0/999 [00:00<?, ?it/s]<ipython-input-201-fbf65cd40e52>:39: RuntimeWarning: overflow encountered in double_scalars\n",
      "  seuil=min(1,(quantite_1*quantite_2*quantite_4*quantite_5)/quantite_3)\n",
      "<ipython-input-201-fbf65cd40e52>:37: RuntimeWarning: overflow encountered in double_scalars\n",
      "  quantite_4=(math.prod([y[i]/(1-y[i]) for i in range(0,91)]))**(y[91]*(w-kap))\n",
      "  0%|          | 3/999 [00:00<00:05, 175.02it/s]\n"
     ]
    },
    {
     "ename": "OverflowError",
     "evalue": "(34, 'Numerical result out of range')",
     "output_type": "error",
     "traceback": [
      "\u001b[0;31m---------------------------------------------------------------------------\u001b[0m",
      "\u001b[0;31mOverflowError\u001b[0m                             Traceback (most recent call last)",
      "\u001b[0;32m<ipython-input-205-ca8044c6e893>\u001b[0m in \u001b[0;36m<module>\u001b[0;34m\u001b[0m\n\u001b[1;32m     11\u001b[0m \u001b[0;34m\u001b[0m\u001b[0m\n\u001b[1;32m     12\u001b[0m \u001b[0;32mfor\u001b[0m \u001b[0mn\u001b[0m \u001b[0;32min\u001b[0m \u001b[0mtqdm\u001b[0m\u001b[0;34m(\u001b[0m\u001b[0mrange\u001b[0m\u001b[0;34m(\u001b[0m\u001b[0;36m1\u001b[0m\u001b[0;34m,\u001b[0m \u001b[0;36m1000\u001b[0m\u001b[0;34m)\u001b[0m\u001b[0;34m)\u001b[0m\u001b[0;34m:\u001b[0m\u001b[0;34m\u001b[0m\u001b[0;34m\u001b[0m\u001b[0m\n\u001b[0;32m---> 13\u001b[0;31m     \u001b[0my\u001b[0m\u001b[0;34m[\u001b[0m\u001b[0mn\u001b[0m\u001b[0;34m]\u001b[0m \u001b[0;34m=\u001b[0m \u001b[0mmetropolis_within_gibbs\u001b[0m\u001b[0;34m(\u001b[0m\u001b[0my\u001b[0m\u001b[0;34m[\u001b[0m\u001b[0mn\u001b[0m\u001b[0;34m-\u001b[0m\u001b[0;36m1\u001b[0m\u001b[0;34m]\u001b[0m\u001b[0;34m,\u001b[0m\u001b[0msigma_1\u001b[0m\u001b[0;34m=\u001b[0m\u001b[0;36m0.3\u001b[0m\u001b[0;34m,\u001b[0m\u001b[0msigma_2\u001b[0m\u001b[0;34m=\u001b[0m\u001b[0;36m10\u001b[0m\u001b[0;34m)\u001b[0m\u001b[0;34m\u001b[0m\u001b[0;34m\u001b[0m\u001b[0m\n\u001b[0m",
      "\u001b[0;32m<ipython-input-201-fbf65cd40e52>\u001b[0m in \u001b[0;36mmetropolis_within_gibbs\u001b[0;34m(x, sigma_1, sigma_2)\u001b[0m\n\u001b[1;32m     33\u001b[0m     \u001b[0;32melse\u001b[0m\u001b[0;34m:\u001b[0m\u001b[0;34m\u001b[0m\u001b[0;34m\u001b[0m\u001b[0m\n\u001b[1;32m     34\u001b[0m         \u001b[0mquantite_1\u001b[0m\u001b[0;34m=\u001b[0m\u001b[0mnp\u001b[0m\u001b[0;34m.\u001b[0m\u001b[0mexp\u001b[0m\u001b[0;34m(\u001b[0m\u001b[0;34m-\u001b[0m\u001b[0;36m0.1\u001b[0m\u001b[0;34m*\u001b[0m\u001b[0;36m91\u001b[0m\u001b[0;34m*\u001b[0m\u001b[0;34m(\u001b[0m\u001b[0mw\u001b[0m\u001b[0;34m-\u001b[0m\u001b[0mkap\u001b[0m\u001b[0;34m)\u001b[0m\u001b[0;34m)\u001b[0m\u001b[0;34m\u001b[0m\u001b[0;34m\u001b[0m\u001b[0m\n\u001b[0;32m---> 35\u001b[0;31m         \u001b[0mquantite_2\u001b[0m\u001b[0;34m=\u001b[0m\u001b[0;34m(\u001b[0m\u001b[0;34m(\u001b[0m\u001b[0mgamma\u001b[0m\u001b[0;34m(\u001b[0m\u001b[0mw\u001b[0m\u001b[0;34m)\u001b[0m\u001b[0;34m/\u001b[0m\u001b[0mgamma\u001b[0m\u001b[0;34m(\u001b[0m\u001b[0mw\u001b[0m\u001b[0;34m*\u001b[0m\u001b[0my\u001b[0m\u001b[0;34m[\u001b[0m\u001b[0;36m91\u001b[0m\u001b[0;34m]\u001b[0m\u001b[0;34m)\u001b[0m\u001b[0;34m)\u001b[0m\u001b[0;34m*\u001b[0m\u001b[0;34m(\u001b[0m\u001b[0;36m1\u001b[0m\u001b[0;34m/\u001b[0m\u001b[0mgamma\u001b[0m\u001b[0;34m(\u001b[0m\u001b[0mw\u001b[0m\u001b[0;34m*\u001b[0m\u001b[0;34m(\u001b[0m\u001b[0;36m1\u001b[0m\u001b[0;34m-\u001b[0m\u001b[0my\u001b[0m\u001b[0;34m[\u001b[0m\u001b[0;36m91\u001b[0m\u001b[0;34m]\u001b[0m\u001b[0;34m)\u001b[0m\u001b[0;34m)\u001b[0m\u001b[0;34m)\u001b[0m\u001b[0;34m)\u001b[0m\u001b[0;34m**\u001b[0m\u001b[0;36m91\u001b[0m\u001b[0;34m\u001b[0m\u001b[0;34m\u001b[0m\u001b[0m\n\u001b[0m\u001b[1;32m     36\u001b[0m         \u001b[0mquantite_3\u001b[0m\u001b[0;34m=\u001b[0m\u001b[0;34m(\u001b[0m\u001b[0;34m(\u001b[0m\u001b[0mgamma\u001b[0m\u001b[0;34m(\u001b[0m\u001b[0mkap\u001b[0m\u001b[0;34m)\u001b[0m\u001b[0;34m/\u001b[0m\u001b[0mgamma\u001b[0m\u001b[0;34m(\u001b[0m\u001b[0mkap\u001b[0m\u001b[0;34m*\u001b[0m\u001b[0my\u001b[0m\u001b[0;34m[\u001b[0m\u001b[0;36m91\u001b[0m\u001b[0;34m]\u001b[0m\u001b[0;34m)\u001b[0m\u001b[0;34m)\u001b[0m\u001b[0;34m*\u001b[0m\u001b[0;34m(\u001b[0m\u001b[0;36m1\u001b[0m\u001b[0;34m/\u001b[0m\u001b[0mgamma\u001b[0m\u001b[0;34m(\u001b[0m\u001b[0mkap\u001b[0m\u001b[0;34m*\u001b[0m\u001b[0;34m(\u001b[0m\u001b[0;36m1\u001b[0m\u001b[0;34m-\u001b[0m\u001b[0my\u001b[0m\u001b[0;34m[\u001b[0m\u001b[0;36m91\u001b[0m\u001b[0;34m]\u001b[0m\u001b[0;34m)\u001b[0m\u001b[0;34m)\u001b[0m\u001b[0;34m)\u001b[0m\u001b[0;34m)\u001b[0m\u001b[0;34m**\u001b[0m\u001b[0;36m91\u001b[0m\u001b[0;34m\u001b[0m\u001b[0;34m\u001b[0m\u001b[0m\n\u001b[1;32m     37\u001b[0m         \u001b[0mquantite_4\u001b[0m\u001b[0;34m=\u001b[0m\u001b[0;34m(\u001b[0m\u001b[0mmath\u001b[0m\u001b[0;34m.\u001b[0m\u001b[0mprod\u001b[0m\u001b[0;34m(\u001b[0m\u001b[0;34m[\u001b[0m\u001b[0my\u001b[0m\u001b[0;34m[\u001b[0m\u001b[0mi\u001b[0m\u001b[0;34m]\u001b[0m\u001b[0;34m/\u001b[0m\u001b[0;34m(\u001b[0m\u001b[0;36m1\u001b[0m\u001b[0;34m-\u001b[0m\u001b[0my\u001b[0m\u001b[0;34m[\u001b[0m\u001b[0mi\u001b[0m\u001b[0;34m]\u001b[0m\u001b[0;34m)\u001b[0m \u001b[0;32mfor\u001b[0m \u001b[0mi\u001b[0m \u001b[0;32min\u001b[0m \u001b[0mrange\u001b[0m\u001b[0;34m(\u001b[0m\u001b[0;36m0\u001b[0m\u001b[0;34m,\u001b[0m\u001b[0;36m91\u001b[0m\u001b[0;34m)\u001b[0m\u001b[0;34m]\u001b[0m\u001b[0;34m)\u001b[0m\u001b[0;34m)\u001b[0m\u001b[0;34m**\u001b[0m\u001b[0;34m(\u001b[0m\u001b[0my\u001b[0m\u001b[0;34m[\u001b[0m\u001b[0;36m91\u001b[0m\u001b[0;34m]\u001b[0m\u001b[0;34m*\u001b[0m\u001b[0;34m(\u001b[0m\u001b[0mw\u001b[0m\u001b[0;34m-\u001b[0m\u001b[0mkap\u001b[0m\u001b[0;34m)\u001b[0m\u001b[0;34m)\u001b[0m\u001b[0;34m\u001b[0m\u001b[0;34m\u001b[0m\u001b[0m\n",
      "\u001b[0;31mOverflowError\u001b[0m: (34, 'Numerical result out of range')"
     ]
    }
   ],
   "source": [
    "# réinitialisation de y\n",
    "\n",
    "N = 1000\n",
    "y = np.empty((N, 93))\n",
    "\n",
    "for i in range (0,91):\n",
    "    y[0,i]=data['prob'][i]\n",
    "y[0,91]=0.5\n",
    "y[0,92]=10\n",
    "\n",
    "\n",
    "for n in tqdm(range(1, 1000)):\n",
    "    y[n] = metropolis_within_gibbs(y[n-1],sigma_1=0.3,sigma_2=10)"
   ]
  },
  {
   "cell_type": "markdown",
   "metadata": {},
   "source": [
    "Solution : reprogrammer la fonction gamma de Python car celle-ci tient trop de place + passer l'évaluation des seuils en log : "
   ]
  },
  {
   "cell_type": "markdown",
   "metadata": {},
   "source": [
    "# DEBUT"
   ]
  },
  {
   "cell_type": "code",
   "execution_count": 6,
   "metadata": {},
   "outputs": [],
   "source": [
    "def gammar(x):\n",
    "    if x>1:\n",
    "        return (x-1)*gammar(x-1)\n",
    "    else:\n",
    "        return gamma(x)"
   ]
  },
  {
   "cell_type": "code",
   "execution_count": 56,
   "metadata": {},
   "outputs": [],
   "source": [
    "def metropolis_within_gibbs_bis(x,sigma_1,sigma_2):\n",
    "    mu=x[91]      # valeur précédente de mu\n",
    "    kap=x[92]     # valeur précédente de kappa\n",
    "    \n",
    "    y=np.zeros(93)  #initialisation d'un vecteur y qui contiendra les valeurs à l'étape suivante\n",
    "    \n",
    "    for i in range(0,91):\n",
    "        a = mu*kap+data['nb_pos'][i]\n",
    "        b = data['nb_test'][i]-data['nb_pos'][i]+kap*(1-mu)\n",
    "        y[i]=np.random.beta(a,b)\n",
    "    \n",
    "    z = mu + sigma_1 * np.random.randn()       # proposition pour la prochaine valeur de mu \n",
    "    \n",
    "    if indicatrice1(z)==0:\n",
    "        seuil=-np.inf\n",
    "    else:\n",
    "        quantite_1=-91*np.log(gammar(kap*z)*gammar(kap*(1-z)))\n",
    "        quantite_2=-91*np.log(gammar(kap*mu)*gammar(kap*(1-mu)))\n",
    "        quantite_3=(kap*(z-mu))*(sum([np.log(y[i]/(1-y[i])) for i in range(0,91)]))\n",
    "        seuil=min(0,quantite_1+quantite_3-quantite_2)\n",
    "                                                                   \n",
    "    if np.log(np.random.rand()) < seuil:             # on accepte z comme nouvelle valeur de mu\n",
    "        y[91]=z\n",
    "    \n",
    "    else:\n",
    "        y[91]=mu                             # on garde l'ancienne valeur de mu\n",
    "    \n",
    "    \n",
    "    w = kap + sigma_2 * np.random.randn()         # proposition pour la prochaine valeur de kappa\n",
    "    \n",
    "    if indicatrice2(w)==0:\n",
    "        seuil=-np.inf\n",
    "    else:\n",
    "        quantite_1=-0.1*(w-kap)\n",
    "        quantite_2=91*np.log(gammar(w)/(gammar(w*y[91])*gammar(w*(1-y[91]))))\n",
    "        quantite_3=91*np.log(gammar(kap)/(gammar(kap*y[91])*gammar(kap*(1-y[91]))))\n",
    "        quantite_4=(y[91]*(w-kap))*(sum([np.log(y[i]/(1-y[i])) for i in range(0,91)]))\n",
    "        quantite_5=(w-kap)*(sum([np.log(1-y[i]) for i in range(0,91)]))\n",
    "        seuil=min(0,(quantite_1+quantite_2+quantite_4+quantite_5)-quantite_3)\n",
    "        \n",
    "    if np.log(np.random.rand()) < seuil:             # on accepte w comme nouvelle valeur de kappa\n",
    "        y[92]=w\n",
    "    \n",
    "    else:\n",
    "        y[92]=kap                            # on garde l'ancienne valeur de kappa  \n",
    "\n",
    "    \n",
    "    return y      # on retourne le vecteur des nouvelles valeurs"
   ]
  },
  {
   "cell_type": "code",
   "execution_count": 61,
   "metadata": {},
   "outputs": [
    {
     "name": "stderr",
     "output_type": "stream",
     "text": [
      "100%|██████████| 9999/9999 [01:01<00:00, 161.82it/s]\n"
     ]
    }
   ],
   "source": [
    "# réinitialisation de notre vecteur y \n",
    "\n",
    "N = 10000\n",
    "y = np.zeros((N, 93))\n",
    "\n",
    "for i in range (0,91):\n",
    "    y[0,i]=data['prob'][i]\n",
    "y[0,91]=0.5\n",
    "y[0,92]=10\n",
    "\n",
    "w=np.zeros(N)\n",
    "kap=np.zeros(N)\n",
    "z=np.zeros(N)\n",
    "\n",
    "for n in tqdm(range(1, 10000)):\n",
    "    y[n] = metropolis_within_gibbs_bis(y[n-1],sigma_1=0.5,sigma_2=2)"
   ]
  },
  {
   "cell_type": "code",
   "execution_count": 62,
   "metadata": {},
   "outputs": [
    {
     "data": {
      "text/plain": [
       "[<matplotlib.lines.Line2D at 0x7fa65394e8b0>]"
      ]
     },
     "execution_count": 62,
     "metadata": {},
     "output_type": "execute_result"
    },
    {
     "data": {
      "image/png": "[encoded data removed]",
      "text/plain": [
       "<Figure size 432x288 with 1 Axes>"
      ]
     },
     "metadata": {
      "needs_background": "light"
     },
     "output_type": "display_data"
    }
   ],
   "source": [
    "plt.plot(y[:,91])\n",
    "\n",
    "# MCMC trace pour mu"
   ]
  },
  {
   "cell_type": "code",
   "execution_count": 63,
   "metadata": {},
   "outputs": [
    {
     "data": {
      "text/plain": [
       "[<matplotlib.lines.Line2D at 0x7fa653cdd400>]"
      ]
     },
     "execution_count": 63,
     "metadata": {},
     "output_type": "execute_result"
    },
    {
     "data": {
      "image/png": "[encoded data removed]",
      "text/plain": [
       "<Figure size 432x288 with 1 Axes>"
      ]
     },
     "metadata": {
      "needs_background": "light"
     },
     "output_type": "display_data"
    }
   ],
   "source": [
    "plt.plot(y[:,92])\n",
    "\n",
    "# MCMC trace pour kappa"
   ]
  },
  {
   "cell_type": "markdown",
   "metadata": {},
   "source": [
    "# STOP"
   ]
  },
  {
   "cell_type": "markdown",
   "metadata": {},
   "source": [
    "Les résultats sont meilleurs ici : à partir de la 8000ème itération, la distribution ressemble à celle d'une uniforme (oscillations entre 0 et 1).\n",
    "Concentrons-nous sur cette zone et comparons-là à celle d'une distribution uniforme :"
   ]
  },
  {
   "cell_type": "code",
   "execution_count": 216,
   "metadata": {},
   "outputs": [
    {
     "data": {
      "text/plain": [
       "[<matplotlib.lines.Line2D at 0x7fb54735f4c0>]"
      ]
     },
     "execution_count": 216,
     "metadata": {},
     "output_type": "execute_result"
    },
    {
     "data": {
      "image/png": "[encoded data removed]",
      "text/plain": [
       "<Figure size 432x288 with 1 Axes>"
      ]
     },
     "metadata": {
      "needs_background": "light"
     },
     "output_type": "display_data"
    }
   ],
   "source": [
    "plt.plot(y[8000:,91])"
   ]
  },
  {
   "cell_type": "code",
   "execution_count": 217,
   "metadata": {},
   "outputs": [
    {
     "name": "stdout",
     "output_type": "stream",
     "text": [
      "moyenne = 0.510061956324882\n",
      "variance = 0.08796453814091781\n"
     ]
    }
   ],
   "source": [
    "print(\"moyenne =\",np.mean(y[8000:,91]))          #  doit être \"proche\" de 0.5\n",
    "print(\"variance =\",np.var(y[8000:,91]))          # doit être \"proche\" de 1/12 = 0.083"
   ]
  },
  {
   "cell_type": "code",
   "execution_count": 218,
   "metadata": {},
   "outputs": [
    {
     "data": {
      "image/png": "[encoded data removed]",
      "text/plain": [
       "<Figure size 432x288 with 1 Axes>"
      ]
     },
     "metadata": {
      "needs_background": "light"
     },
     "output_type": "display_data"
    },
    {
     "data": {
      "image/png": "[encoded data removed]",
      "text/plain": [
       "<Figure size 432x288 with 1 Axes>"
      ]
     },
     "metadata": {
      "needs_background": "light"
     },
     "output_type": "display_data"
    }
   ],
   "source": [
    "# Visulaisation de l'adéquation à la loi uniforme :\n",
    "\n",
    "X=y[8000:,91]\n",
    "plt.hist(X, range = (0, 1), bins = 100, color = 'red',edgecolor = 'black')\n",
    "plt.xlabel('Valeurs')\n",
    "plt.ylabel('Effectifs par tranches')\n",
    "plt.title('Histogramme pour échantillon obtenu par notre algo')\n",
    "plt.show()\n",
    "\n",
    "Y=[rd.uniform(0,1) for i in range(8000,10000)]\n",
    "plt.hist(Y, range = (0, 1), bins = 100, color = 'red',edgecolor = 'black')\n",
    "plt.xlabel('Valeurs')\n",
    "plt.ylabel('Effectifs par tranches')\n",
    "plt.title(\"Histogramme pour un échantillon tiré selon le générateur Python\")\n",
    "plt.show()"
   ]
  },
  {
   "cell_type": "markdown",
   "metadata": {},
   "source": [
    "Observations : pas trop de différences sur ce critère là entre notre distribution et celle d'une uniforme"
   ]
  },
  {
   "cell_type": "code",
   "execution_count": 219,
   "metadata": {},
   "outputs": [
    {
     "name": "stdout",
     "output_type": "stream",
     "text": [
      "D1= 0.02992864928857708\n",
      "p-valeur_1= 0.05447348842863864\n",
      "D2= 0.01226787619415115\n",
      "p-valeur_2= 0.9204836971348564\n"
     ]
    }
   ],
   "source": [
    "# Test de Kolmogorov-Smirnov\n",
    "\n",
    "import scipy.stats as statis\n",
    "\n",
    "X=y[8000:,91]\n",
    "Y=[rd.uniform(0,1) for i in range(8000,10000)]\n",
    "D1,p1=statis.kstest(X, 'uniform', (0,1))\n",
    "D2,p2=statis.kstest(Y, 'uniform', (0,1))\n",
    "\n",
    "print(\"D1=\",D1)\n",
    "print(\"p-valeur_1=\",p1)\n",
    "print(\"D2=\",D2)\n",
    "print(\"p-valeur_2=\",p2)"
   ]
  },
  {
   "cell_type": "markdown",
   "metadata": {},
   "source": [
    "La p-valeur est petite pour notre échantillon X : on rejette l'hypothèse selon laquelle les données ont été générées selon une loi uniforme sur [0,1] ! \n",
    "\n",
    "Bilan : c'est un bon début mais il faut certainement prendre plus que 10000 itérations pour être sûr de sélectionner une zone où l'algo a déjà convergé.\n",
    "\n",
    "d'autant que pour kappa, on n'obtient pas encore vraiment de distribution exponentielle (à l'itération 8000, on a encore des valeur aberrantes autour de 1000) : "
   ]
  },
  {
   "cell_type": "code",
   "execution_count": 220,
   "metadata": {},
   "outputs": [
    {
     "data": {
      "text/plain": [
       "[<matplotlib.lines.Line2D at 0x7fb54edc8e80>]"
      ]
     },
     "execution_count": 220,
     "metadata": {},
     "output_type": "execute_result"
    },
    {
     "data": {
      "image/png": "[encoded data removed]",
      "text/plain": [
       "<Figure size 432x288 with 1 Axes>"
      ]
     },
     "metadata": {
      "needs_background": "light"
     },
     "output_type": "display_data"
    }
   ],
   "source": [
    "plt.plot(y[:,92])\n",
    "\n",
    "# MCMC trace pour kappa"
   ]
  },
  {
   "cell_type": "code",
   "execution_count": 221,
   "metadata": {},
   "outputs": [
    {
     "name": "stderr",
     "output_type": "stream",
     "text": [
      "  0%|          | 0/19999 [00:00<?, ?it/s]<ipython-input-207-c9998b5ebc04>:35: RuntimeWarning: overflow encountered in double_scalars\n",
      "  quantite_2=((gammar(w)/gammar(w*y[91]))*(1/gammar(w*(1-y[91]))))**91\n",
      "<ipython-input-207-c9998b5ebc04>:39: RuntimeWarning: invalid value encountered in double_scalars\n",
      "  seuil=min(1,(quantite_1*quantite_2*quantite_4*quantite_5)/quantite_3)\n",
      "<ipython-input-207-c9998b5ebc04>:36: RuntimeWarning: overflow encountered in double_scalars\n",
      "  quantite_3=((gammar(kap)/gammar(kap*y[91]))*(1/gammar(kap*(1-y[91]))))**91\n",
      "<ipython-input-207-c9998b5ebc04>:20: RuntimeWarning: invalid value encountered in double_scalars\n",
      "  seuil=min(1,(quantite_1*quantite_3)/quantite_2)\n",
      "<ipython-input-207-c9998b5ebc04>:37: RuntimeWarning: overflow encountered in double_scalars\n",
      "  quantite_4=(math.prod([y[i]/(1-y[i]) for i in range(0,91)]))**(y[91]*(w-kap))\n",
      "<ipython-input-207-c9998b5ebc04>:19: RuntimeWarning: overflow encountered in double_scalars\n",
      "  quantite_3=(math.prod([y[i]/(1-y[i]) for i in range(0,91)]))**(kap*(z-mu))\n",
      "  1%|          | 171/19999 [00:00<01:22, 240.00it/s]<ipython-input-207-c9998b5ebc04>:39: RuntimeWarning: overflow encountered in double_scalars\n",
      "  seuil=min(1,(quantite_1*quantite_2*quantite_4*quantite_5)/quantite_3)\n",
      "  1%|▏         | 294/19999 [00:01<01:24, 232.69it/s]<ipython-input-207-c9998b5ebc04>:38: RuntimeWarning: overflow encountered in double_scalars\n",
      "  quantite_5=(math.prod([(1-y[i]) for i in range(0,91)]))**(w-kap)\n",
      "  3%|▎         | 539/19999 [00:02<01:19, 245.93it/s]<ipython-input-207-c9998b5ebc04>:20: RuntimeWarning: overflow encountered in double_scalars\n",
      "  seuil=min(1,(quantite_1*quantite_3)/quantite_2)\n",
      "  3%|▎         | 564/19999 [00:02<01:19, 245.21it/s]<ipython-input-207-c9998b5ebc04>:37: RuntimeWarning: divide by zero encountered in double_scalars\n",
      "  quantite_4=(math.prod([y[i]/(1-y[i]) for i in range(0,91)]))**(y[91]*(w-kap))\n",
      "  4%|▍         | 838/19999 [00:03<01:20, 238.05it/s]<ipython-input-207-c9998b5ebc04>:20: RuntimeWarning: divide by zero encountered in double_scalars\n",
      "  seuil=min(1,(quantite_1*quantite_3)/quantite_2)\n",
      "  7%|▋         | 1466/19999 [00:06<01:38, 187.49it/s]<ipython-input-206-da213bdf7879>:3: RuntimeWarning: overflow encountered in double_scalars\n",
      "  return (x-1)*gammar(x-1)\n",
      "<ipython-input-207-c9998b5ebc04>:35: RuntimeWarning: invalid value encountered in double_scalars\n",
      "  quantite_2=((gammar(w)/gammar(w*y[91]))*(1/gammar(w*(1-y[91]))))**91\n",
      "<ipython-input-207-c9998b5ebc04>:36: RuntimeWarning: invalid value encountered in double_scalars\n",
      "  quantite_3=((gammar(kap)/gammar(kap*y[91]))*(1/gammar(kap*(1-y[91]))))**91\n",
      "  9%|▉         | 1793/19999 [00:08<01:21, 224.69it/s]<ipython-input-207-c9998b5ebc04>:19: RuntimeWarning: divide by zero encountered in double_scalars\n",
      "  quantite_3=(math.prod([y[i]/(1-y[i]) for i in range(0,91)]))**(kap*(z-mu))\n",
      "100%|██████████| 19999/19999 [03:37<00:00, 91.85it/s] \n"
     ]
    }
   ],
   "source": [
    "N = 20000                          # 20 000 itérations cette fois !\n",
    "y = np.zeros((N, 93))\n",
    "\n",
    "for i in range (0,91):\n",
    "    y[0,i]=data['prob'][i]\n",
    "y[0,91]=0.5\n",
    "y[0,92]=5\n",
    "\n",
    "w=np.zeros(N)\n",
    "kap=np.zeros(N)\n",
    "z=np.zeros(N)\n",
    "\n",
    "for n in tqdm(range(1, 20000)):\n",
    "    y[n] = metropolis_within_gibbs_bis(y[n-1],sigma_1=0.3,sigma_2=10)"
   ]
  },
  {
   "cell_type": "code",
   "execution_count": 222,
   "metadata": {},
   "outputs": [
    {
     "data": {
      "text/plain": [
       "[<matplotlib.lines.Line2D at 0x7fb54f5d58b0>]"
      ]
     },
     "execution_count": 222,
     "metadata": {},
     "output_type": "execute_result"
    },
    {
     "data": {
      "image/png": "[encoded data removed]",
      "text/plain": [
       "<Figure size 432x288 with 1 Axes>"
      ]
     },
     "metadata": {
      "needs_background": "light"
     },
     "output_type": "display_data"
    }
   ],
   "source": [
    "plt.plot(y[:,91])\n",
    "\n",
    "# MCMC trace pour mu"
   ]
  },
  {
   "cell_type": "markdown",
   "metadata": {},
   "source": [
    "Rq : paraît très bien !\n",
    "Sélectionnons la zone après la 12500-ème itération : "
   ]
  },
  {
   "cell_type": "code",
   "execution_count": 223,
   "metadata": {},
   "outputs": [
    {
     "data": {
      "text/plain": [
       "[<matplotlib.lines.Line2D at 0x7fb550b6c340>]"
      ]
     },
     "execution_count": 223,
     "metadata": {},
     "output_type": "execute_result"
    },
    {
     "data": {
      "image/png": "[encoded data removed]",
      "text/plain": [
       "<Figure size 432x288 with 1 Axes>"
      ]
     },
     "metadata": {
      "needs_background": "light"
     },
     "output_type": "display_data"
    }
   ],
   "source": [
    "plt.plot(y[12500:,91])"
   ]
  },
  {
   "cell_type": "code",
   "execution_count": 224,
   "metadata": {},
   "outputs": [
    {
     "name": "stdout",
     "output_type": "stream",
     "text": [
      "moyenne = 0.5001679624496013\n",
      "variance = 0.08165667329147024\n"
     ]
    }
   ],
   "source": [
    "print(\"moyenne =\",np.mean(y[12500:,91]))          #  doit être \"proche\" de 0.5\n",
    "print(\"variance =\",np.var(y[12500:,91]))          # doit être \"proche\" de 1/12 = 0.083"
   ]
  },
  {
   "cell_type": "code",
   "execution_count": 225,
   "metadata": {},
   "outputs": [
    {
     "data": {
      "image/png": "[encoded data removed]",
      "text/plain": [
       "<Figure size 432x288 with 1 Axes>"
      ]
     },
     "metadata": {
      "needs_background": "light"
     },
     "output_type": "display_data"
    },
    {
     "data": {
      "image/png": "[encoded data removed]",
      "text/plain": [
       "<Figure size 432x288 with 1 Axes>"
      ]
     },
     "metadata": {
      "needs_background": "light"
     },
     "output_type": "display_data"
    }
   ],
   "source": [
    "# Visualisation de l'adéquation à la loi uniforme :\n",
    "\n",
    "X=y[12500:,91]\n",
    "plt.hist(X, range = (0, 1), bins = 100, color = 'red',edgecolor = 'black')\n",
    "plt.xlabel('Valeurs')\n",
    "plt.ylabel('Effectifs par tranches')\n",
    "plt.title('Histogramme pour échantillon obtenu par notre algo')\n",
    "plt.show()\n",
    "\n",
    "Y=[rd.uniform(0,1) for i in range(12500,20000)]\n",
    "plt.hist(Y, range = (0, 1), bins = 100, color = 'red',edgecolor = 'black')\n",
    "plt.xlabel('Valeurs')\n",
    "plt.ylabel('Effectifs par tranches')\n",
    "plt.title(\"Histogramme pour un échantillon tiré selon le générateur Python\")\n",
    "plt.show()"
   ]
  },
  {
   "cell_type": "markdown",
   "metadata": {},
   "source": [
    "Cette fois, les distributions sont très voisines !"
   ]
  },
  {
   "cell_type": "code",
   "execution_count": 226,
   "metadata": {},
   "outputs": [
    {
     "name": "stdout",
     "output_type": "stream",
     "text": [
      "D1= 0.011824993689348223\n",
      "p-valeur_1= 0.24316769498622903\n",
      "D2= 0.007266105381463994\n",
      "p-valeur_2= 0.6638044236614934\n"
     ]
    }
   ],
   "source": [
    "# Test de Kolmogorov-Smirnov\n",
    "\n",
    "\n",
    "X=y[12500:,91]\n",
    "Y=[rd.uniform(0,1) for i in range(5000,15000)]\n",
    "D1,p1=statis.kstest(X, 'uniform', (0,1))\n",
    "D2,p2=statis.kstest(Y, 'uniform', (0,1))\n",
    "\n",
    "print(\"D1=\",D1)\n",
    "print(\"p-valeur_1=\",p1)\n",
    "print(\"D2=\",D2)\n",
    "print(\"p-valeur_2=\",p2)"
   ]
  },
  {
   "cell_type": "markdown",
   "metadata": {},
   "source": [
    "La p-valeur de notre distribution est cette fois élevée ($0.24$) : on ne rejette pas l'hypothèse selon laquelle nos données ont été génréees selon une loi uniforme !"
   ]
  },
  {
   "cell_type": "code",
   "execution_count": 227,
   "metadata": {},
   "outputs": [
    {
     "data": {
      "text/plain": [
       "[<matplotlib.lines.Line2D at 0x7fb550224dc0>]"
      ]
     },
     "execution_count": 227,
     "metadata": {},
     "output_type": "execute_result"
    },
    {
     "data": {
      "image/png": "[encoded data removed]",
      "text/plain": [
       "<Figure size 432x288 with 1 Axes>"
      ]
     },
     "metadata": {
      "needs_background": "light"
     },
     "output_type": "display_data"
    }
   ],
   "source": [
    "plt.plot(y[:,92])\n",
    "\n",
    "# MCMC trace pour kappa"
   ]
  },
  {
   "cell_type": "markdown",
   "metadata": {},
   "source": [
    "Ici, on n'obtient pas vraiment de distribution exponentielle... Il faut peut-être réduire la variance sigma_2"
   ]
  },
  {
   "cell_type": "code",
   "execution_count": 228,
   "metadata": {},
   "outputs": [
    {
     "name": "stderr",
     "output_type": "stream",
     "text": [
      " 11%|█▏        | 2284/19999 [00:09<01:11, 247.62it/s]<ipython-input-207-c9998b5ebc04>:35: RuntimeWarning: overflow encountered in double_scalars\n",
      "  quantite_2=((gammar(w)/gammar(w*y[91]))*(1/gammar(w*(1-y[91]))))**91\n",
      "<ipython-input-207-c9998b5ebc04>:39: RuntimeWarning: invalid value encountered in double_scalars\n",
      "  seuil=min(1,(quantite_1*quantite_2*quantite_4*quantite_5)/quantite_3)\n",
      "<ipython-input-207-c9998b5ebc04>:20: RuntimeWarning: invalid value encountered in double_scalars\n",
      "  seuil=min(1,(quantite_1*quantite_3)/quantite_2)\n",
      "<ipython-input-207-c9998b5ebc04>:36: RuntimeWarning: overflow encountered in double_scalars\n",
      "  quantite_3=((gammar(kap)/gammar(kap*y[91]))*(1/gammar(kap*(1-y[91]))))**91\n",
      "<ipython-input-207-c9998b5ebc04>:19: RuntimeWarning: overflow encountered in double_scalars\n",
      "  quantite_3=(math.prod([y[i]/(1-y[i]) for i in range(0,91)]))**(kap*(z-mu))\n",
      "<ipython-input-207-c9998b5ebc04>:37: RuntimeWarning: overflow encountered in double_scalars\n",
      "  quantite_4=(math.prod([y[i]/(1-y[i]) for i in range(0,91)]))**(y[91]*(w-kap))\n",
      "<ipython-input-207-c9998b5ebc04>:39: RuntimeWarning: overflow encountered in double_scalars\n",
      "  seuil=min(1,(quantite_1*quantite_2*quantite_4*quantite_5)/quantite_3)\n",
      "100%|██████████| 19999/19999 [01:23<00:00, 238.69it/s]\n"
     ]
    }
   ],
   "source": [
    "N = 20000                          # 20 000 itérations \n",
    "y = np.zeros((N, 93))\n",
    "\n",
    "for i in range (0,91):\n",
    "    y[0,i]=data['prob'][i]\n",
    "y[0,91]=0.5\n",
    "y[0,92]=5\n",
    "\n",
    "w=np.zeros(N)\n",
    "kap=np.zeros(N)\n",
    "z=np.zeros(N)\n",
    "\n",
    "for n in tqdm(range(1, 20000)):\n",
    "    y[n] = metropolis_within_gibbs_bis(y[n-1],sigma_1=0.3,sigma_2=5)            # sigma_2=5 (contre 10 avant)"
   ]
  },
  {
   "cell_type": "code",
   "execution_count": 229,
   "metadata": {},
   "outputs": [
    {
     "data": {
      "text/plain": [
       "[<matplotlib.lines.Line2D at 0x7fb54fd75220>]"
      ]
     },
     "execution_count": 229,
     "metadata": {},
     "output_type": "execute_result"
    },
    {
     "data": {
      "image/png": "[encoded data removed]",
      "text/plain": [
       "<Figure size 432x288 with 1 Axes>"
      ]
     },
     "metadata": {
      "needs_background": "light"
     },
     "output_type": "display_data"
    }
   ],
   "source": [
    "plt.plot(y[:,92])\n",
    "\n",
    "# MCMC trace pour kappa"
   ]
  },
  {
   "cell_type": "code",
   "execution_count": 230,
   "metadata": {},
   "outputs": [
    {
     "name": "stdout",
     "output_type": "stream",
     "text": [
      "moyenne = 2.0752673756661117\n",
      "variance = 0.15489440669660576\n"
     ]
    }
   ],
   "source": [
    "print(\"moyenne =\",np.mean(y[10000:,92]))          #  doit être \"proche\" de 10\n",
    "print(\"variance =\",np.var(y[10000:,92]))          # doit être \"proche\" de 100"
   ]
  },
  {
   "cell_type": "markdown",
   "metadata": {},
   "source": [
    "# Bilan partiel\n",
    "\n",
    "A ce stade : pour mu =aucun souci\n",
    "\n",
    "pour kappa = on arrive pas à trouver notre exponentielle\n",
    "\n",
    "Si on arrive à trouver le pb, on a plus ou moins fini (car l'algo est alors valide, avec les variances optimales sigma_1 et sigma_2 égales à 0.3 et 10 qui sont celles de nos distributions cibles)\n",
    "\n",
    "Et la question 3 reprend strictement la même chose sauf pour un mélange de lois beta\n"
   ]
  },
  {
   "cell_type": "markdown",
   "metadata": {},
   "source": [
    "Supprimons l'étude 89"
   ]
  },
  {
   "cell_type": "code",
   "execution_count": 161,
   "metadata": {},
   "outputs": [],
   "source": [
    "df = data[data['prob']<0.5]\n",
    "df=df.reset_index(drop = True)"
   ]
  },
  {
   "cell_type": "code",
   "execution_count": 162,
   "metadata": {},
   "outputs": [
    {
     "data": {
      "text/html": [
       "<div>\n",
       "<style scoped>\n",
       "    .dataframe tbody tr th:only-of-type {\n",
       "        vertical-align: middle;\n",
       "    }\n",
       "\n",
       "    .dataframe tbody tr th {\n",
       "        vertical-align: top;\n",
       "    }\n",
       "\n",
       "    .dataframe thead th {\n",
       "        text-align: right;\n",
       "    }\n",
       "</style>\n",
       "<table border=\"1\" class=\"dataframe\">\n",
       "  <thead>\n",
       "    <tr style=\"text-align: right;\">\n",
       "      <th></th>\n",
       "      <th>nb_pos</th>\n",
       "      <th>nb_test</th>\n",
       "      <th>prob</th>\n",
       "    </tr>\n",
       "  </thead>\n",
       "  <tbody>\n",
       "    <tr>\n",
       "      <th>0</th>\n",
       "      <td>0</td>\n",
       "      <td>415</td>\n",
       "      <td>0.000000</td>\n",
       "    </tr>\n",
       "    <tr>\n",
       "      <th>1</th>\n",
       "      <td>0</td>\n",
       "      <td>276</td>\n",
       "      <td>0.000000</td>\n",
       "    </tr>\n",
       "    <tr>\n",
       "      <th>2</th>\n",
       "      <td>0</td>\n",
       "      <td>220</td>\n",
       "      <td>0.000000</td>\n",
       "    </tr>\n",
       "    <tr>\n",
       "      <th>3</th>\n",
       "      <td>0</td>\n",
       "      <td>150</td>\n",
       "      <td>0.000000</td>\n",
       "    </tr>\n",
       "    <tr>\n",
       "      <th>4</th>\n",
       "      <td>0</td>\n",
       "      <td>142</td>\n",
       "      <td>0.000000</td>\n",
       "    </tr>\n",
       "    <tr>\n",
       "      <th>...</th>\n",
       "      <td>...</td>\n",
       "      <td>...</td>\n",
       "      <td>...</td>\n",
       "    </tr>\n",
       "    <tr>\n",
       "      <th>85</th>\n",
       "      <td>5</td>\n",
       "      <td>17</td>\n",
       "      <td>0.294118</td>\n",
       "    </tr>\n",
       "    <tr>\n",
       "      <th>86</th>\n",
       "      <td>6</td>\n",
       "      <td>14</td>\n",
       "      <td>0.428571</td>\n",
       "    </tr>\n",
       "    <tr>\n",
       "      <th>87</th>\n",
       "      <td>7</td>\n",
       "      <td>16</td>\n",
       "      <td>0.437500</td>\n",
       "    </tr>\n",
       "    <tr>\n",
       "      <th>88</th>\n",
       "      <td>43</td>\n",
       "      <td>95</td>\n",
       "      <td>0.452632</td>\n",
       "    </tr>\n",
       "    <tr>\n",
       "      <th>89</th>\n",
       "      <td>0</td>\n",
       "      <td>600</td>\n",
       "      <td>0.000000</td>\n",
       "    </tr>\n",
       "  </tbody>\n",
       "</table>\n",
       "<p>90 rows × 3 columns</p>\n",
       "</div>"
      ],
      "text/plain": [
       "    nb_pos  nb_test      prob\n",
       "0        0      415  0.000000\n",
       "1        0      276  0.000000\n",
       "2        0      220  0.000000\n",
       "3        0      150  0.000000\n",
       "4        0      142  0.000000\n",
       "..     ...      ...       ...\n",
       "85       5       17  0.294118\n",
       "86       6       14  0.428571\n",
       "87       7       16  0.437500\n",
       "88      43       95  0.452632\n",
       "89       0      600  0.000000\n",
       "\n",
       "[90 rows x 3 columns]"
      ]
     },
     "execution_count": 162,
     "metadata": {},
     "output_type": "execute_result"
    }
   ],
   "source": [
    "df"
   ]
  },
  {
   "cell_type": "code",
   "execution_count": 163,
   "metadata": {},
   "outputs": [],
   "source": [
    "def metropolis_within_gibbs_4(x,sigma_1,sigma_2):\n",
    "    mu=x[90]      # valeur précédente de mu\n",
    "    kap=x[91]     # valeur précédente de kappa\n",
    "    \n",
    "    y=np.zeros(92)  #initialisation d'un vecteur y qui contiendra les valeurs à l'étape suivante\n",
    "    \n",
    "    for i in range(0,90):\n",
    "        a = mu*kap+df['nb_pos'][i]\n",
    "        b = df['nb_test'][i]-df['nb_pos'][i]+kap*(1-mu)\n",
    "        y[i]=np.random.beta(a,b)\n",
    "    \n",
    "    z = mu + sigma_1 * np.random.randn()       # proposition pour la prochaine valeur de mu \n",
    "    \n",
    "    if indicatrice1(z)==0:\n",
    "        seuil=0\n",
    "    else:\n",
    "        quantite_1=((1/gammar(kap*z))*(1/gammar(kap*(1-z))))**91\n",
    "        quantite_2=((1/gammar(kap*mu))*(1/gammar(kap*(1-mu))))**91\n",
    "        quantite_3=(math.prod([y[i]/(1-y[i]) for i in range(0,90)]))**(kap*(z-mu))\n",
    "        seuil=min(1,(quantite_1*quantite_3)/quantite_2)\n",
    "                                                                   \n",
    "    if np.random.rand() < seuil:             # on accepte z comme nouvelle valeur de mu\n",
    "        y[90]=z\n",
    "    \n",
    "    else:\n",
    "        y[90]=mu                             # on garde l'ancienne valeur de mu\n",
    "    \n",
    "    \n",
    "    w = kap + sigma_2 * np.random.randn()         # proposition pour la prochaine valeur de kappa\n",
    "    \n",
    "    if indicatrice2(w)==0:\n",
    "        seuil=0\n",
    "    else:\n",
    "        quantite_1=np.exp(-0.1*90*(w-kap))\n",
    "        quantite_2=((gammar(w)/gammar(w*y[90]))*(1/gammar(w*(1-y[90]))))**90\n",
    "        quantite_3=((gammar(kap)/gammar(kap*y[90]))*(1/gammar(kap*(1-y[90]))))**90\n",
    "        quantite_4=(math.prod([y[i]/(1-y[i]) for i in range(0,90)]))**(y[90]*(w-kap))\n",
    "        quantite_5=(math.prod([(1-y[i]) for i in range(0,90)]))**(w-kap)\n",
    "        seuil=min(1,(quantite_1*quantite_2*quantite_4*quantite_5)/quantite_3)\n",
    "        \n",
    "    if np.random.rand() < seuil:             # on accepte w comme nouvelle valeur de kappa\n",
    "        y[91]=w\n",
    "    \n",
    "    else:\n",
    "        y[91]=kap                            # on garde l'ancienne valeur de kappa  \n",
    "\n",
    "    \n",
    "    return y      # on retourne le vecteur des nouvelles valeurs"
   ]
  },
  {
   "cell_type": "code",
   "execution_count": 190,
   "metadata": {},
   "outputs": [
    {
     "name": "stderr",
     "output_type": "stream",
     "text": [
      "  0%|          | 0/49999 [00:00<?, ?it/s]<ipython-input-21-da213bdf7879>:3: RuntimeWarning: overflow encountered in double_scalars\n",
      "  return (x-1)*gammar(x-1)\n",
      "<ipython-input-163-d92da9b3db18>:20: RuntimeWarning: invalid value encountered in double_scalars\n",
      "  seuil=min(1,(quantite_1*quantite_3)/quantite_2)\n",
      "<ipython-input-163-d92da9b3db18>:35: RuntimeWarning: invalid value encountered in double_scalars\n",
      "  quantite_2=((gammar(w)/gammar(w*y[90]))*(1/gammar(w*(1-y[90]))))**90\n",
      "<ipython-input-163-d92da9b3db18>:36: RuntimeWarning: invalid value encountered in double_scalars\n",
      "  quantite_3=((gammar(kap)/gammar(kap*y[90]))*(1/gammar(kap*(1-y[90]))))**90\n",
      "<ipython-input-163-d92da9b3db18>:19: RuntimeWarning: overflow encountered in double_scalars\n",
      "  quantite_3=(math.prod([y[i]/(1-y[i]) for i in range(0,90)]))**(kap*(z-mu))\n",
      "  0%|          | 3/49999 [00:00<28:13, 29.52it/s]<ipython-input-163-d92da9b3db18>:38: RuntimeWarning: overflow encountered in double_scalars\n",
      "  quantite_5=(math.prod([(1-y[i]) for i in range(0,90)]))**(w-kap)\n",
      "  0%|          | 130/49999 [00:02<15:17, 54.33it/s]<ipython-input-163-d92da9b3db18>:37: RuntimeWarning: overflow encountered in double_scalars\n",
      "  quantite_4=(math.prod([y[i]/(1-y[i]) for i in range(0,90)]))**(y[90]*(w-kap))\n",
      " 94%|█████████▍| 47091/49999 [15:59<00:26, 109.37it/s]<ipython-input-163-d92da9b3db18>:39: RuntimeWarning: invalid value encountered in double_scalars\n",
      "  seuil=min(1,(quantite_1*quantite_2*quantite_4*quantite_5)/quantite_3)\n",
      " 95%|█████████▍| 47282/49999 [16:00<00:20, 134.63it/s]<ipython-input-163-d92da9b3db18>:35: RuntimeWarning: overflow encountered in double_scalars\n",
      "  quantite_2=((gammar(w)/gammar(w*y[90]))*(1/gammar(w*(1-y[90]))))**90\n",
      "<ipython-input-163-d92da9b3db18>:36: RuntimeWarning: overflow encountered in double_scalars\n",
      "  quantite_3=((gammar(kap)/gammar(kap*y[90]))*(1/gammar(kap*(1-y[90]))))**90\n",
      " 95%|█████████▍| 47297/49999 [16:00<00:19, 138.18it/s]<ipython-input-163-d92da9b3db18>:39: RuntimeWarning: overflow encountered in double_scalars\n",
      "  seuil=min(1,(quantite_1*quantite_2*quantite_4*quantite_5)/quantite_3)\n",
      "100%|██████████| 49999/49999 [16:13<00:00, 51.37it/s] \n"
     ]
    }
   ],
   "source": [
    "N = 50000                          # 50 000 itérations cette fois !\n",
    "y = np.zeros((N, 92))\n",
    "\n",
    "for i in range (0,90):\n",
    "    y[0,i]=df['prob'][i]\n",
    "y[0,90]=0.5\n",
    "y[0,91]=1000\n",
    "\n",
    "w=np.zeros(N)\n",
    "kap=np.zeros(N)\n",
    "z=np.zeros(N)\n",
    "\n",
    "for n in tqdm(range(1, 50000)):\n",
    "    y[n] = metropolis_within_gibbs_4(y[n-1],sigma_1=0.3,sigma_2=7)"
   ]
  },
  {
   "cell_type": "code",
   "execution_count": 189,
   "metadata": {},
   "outputs": [
    {
     "data": {
      "text/plain": [
       "[<matplotlib.lines.Line2D at 0x7f07b0513340>]"
      ]
     },
     "execution_count": 189,
     "metadata": {},
     "output_type": "execute_result"
    },
    {
     "data": {
      "image/png": "[encoded data removed]",
      "text/plain": [
       "<Figure size 432x288 with 1 Axes>"
      ]
     },
     "metadata": {
      "needs_background": "light"
     },
     "output_type": "display_data"
    }
   ],
   "source": [
    "plt.plot(y[:,30])\n",
    "\n",
    "# MCMC trace pour kappa"
   ]
  },
  {
   "cell_type": "code",
   "execution_count": 150,
   "metadata": {},
   "outputs": [
    {
     "data": {
      "text/plain": [
       "29.55877909128595"
      ]
     },
     "execution_count": 150,
     "metadata": {},
     "output_type": "execute_result"
    }
   ],
   "source": [
    "np.mean(y[0:20000,92])"
   ]
  },
  {
   "cell_type": "code",
   "execution_count": 112,
   "metadata": {},
   "outputs": [],
   "source": [
    "def uniforme(a,b):\n",
    "    return(a+(b-a)*rd.random())"
   ]
  },
  {
   "cell_type": "code",
   "execution_count": 129,
   "metadata": {},
   "outputs": [],
   "source": [
    "def metropolis_within_gibbs_ter(x,eps1,eps2):\n",
    "    mu=x[91]      # valeur précédente de mu\n",
    "    kap=x[92]     # valeur précédente de kappa\n",
    "    \n",
    "    y=np.zeros(93)  #initialisation d'un vecteur y qui contiendra les valeurs à l'étape suivante\n",
    "    \n",
    "    for i in range(0,91):\n",
    "        a = mu*kap+data['nb_pos'][i]\n",
    "        b = data['nb_test'][i]-data['nb_pos'][i]+kap*(1-mu)\n",
    "        y[i]=np.random.beta(a,b)\n",
    "    \n",
    "    z = uniforme(mu-eps1,mu+eps1)      # proposition pour la prochaine valeur de mu \n",
    "    \n",
    "    if indicatrice1(z)==0:\n",
    "        seuil=0\n",
    "    else:\n",
    "        quantite_1=((1/gammar(kap*z))*(1/gammar(kap*(1-z))))**91\n",
    "        quantite_2=((1/gammar(kap*mu))*(1/gammar(kap*(1-mu))))**91\n",
    "        quantite_3=(math.prod([y[i]/(1-y[i]) for i in range(0,91)]))**(kap*(z-mu))\n",
    "        seuil=min(1,(quantite_1*quantite_3)/quantite_2)\n",
    "                                                                   \n",
    "    if np.random.rand() < seuil:             # on accepte z comme nouvelle valeur de mu\n",
    "        y[91]=z\n",
    "    \n",
    "    else:\n",
    "        y[91]=mu                             # on garde l'ancienne valeur de mu\n",
    "    \n",
    "    \n",
    "    w = uniforme(kap-eps2,kap+eps2)        # proposition pour la prochaine valeur de kappa\n",
    "    \n",
    "    if indicatrice2(w)==0:\n",
    "        seuil=0\n",
    "    else:\n",
    "        quantite_1=np.exp(-0.1*91*(w-kap))\n",
    "        quantite_2=((gammar(w)/gammar(w*y[91]))*(1/gammar(w*(1-y[91]))))**91\n",
    "        quantite_3=((gammar(kap)/gammar(kap*y[91]))*(1/gammar(kap*(1-y[91]))))**91\n",
    "        quantite_4=(math.prod([y[i]/(1-y[i]) for i in range(0,91)]))**(y[91]*(w-kap))\n",
    "        quantite_5=(math.prod([(1-y[i]) for i in range(0,91)]))**(w-kap)\n",
    "        seuil=min(1,(quantite_1*quantite_2*quantite_4*quantite_5)/quantite_3)\n",
    "        \n",
    "    if np.random.rand() < seuil:             # on accepte w comme nouvelle valeur de kappa\n",
    "        y[92]=w\n",
    "    \n",
    "    else:\n",
    "        y[92]=kap                            # on garde l'ancienne valeur de kappa  \n",
    "\n",
    "    \n",
    "    return y      # on retourne le vecteur des nouvelles valeurs"
   ]
  },
  {
   "cell_type": "code",
   "execution_count": 137,
   "metadata": {},
   "outputs": [
    {
     "name": "stderr",
     "output_type": "stream",
     "text": [
      "100%|██████████| 999/999 [00:05<00:00, 196.07it/s]\n"
     ]
    }
   ],
   "source": [
    "N = 10000                          # 10 000 itérations \n",
    "y = np.zeros((N, 93))\n",
    "\n",
    "for i in range (0,91):\n",
    "    y[0,i]=data['prob'][i]\n",
    "y[0,91]=0.5\n",
    "y[0,92]=10\n",
    "\n",
    "w=np.zeros(N)\n",
    "kap=np.zeros(N)\n",
    "z=np.zeros(N)\n",
    "\n",
    "for n in tqdm(range(1, 1000)):\n",
    "    y[n] = metropolis_within_gibbs_bis(y[n-1],0.3,1)"
   ]
  },
  {
   "cell_type": "code",
   "execution_count": 138,
   "metadata": {},
   "outputs": [
    {
     "data": {
      "text/plain": [
       "[<matplotlib.lines.Line2D at 0x7f07b02f62e0>]"
      ]
     },
     "execution_count": 138,
     "metadata": {},
     "output_type": "execute_result"
    },
    {
     "data": {
      "image/png": "[encoded data removed]",
      "text/plain": [
       "<Figure size 432x288 with 1 Axes>"
      ]
     },
     "metadata": {
      "needs_background": "light"
     },
     "output_type": "display_data"
    }
   ],
   "source": [
    "plt.plot(y[:,92])\n",
    "\n",
    "# MCMC trace pour mu"
   ]
  }
 ],
 "metadata": {
  "kernelspec": {
   "display_name": "Python 3",
   "language": "python",
   "name": "python3"
  },
  "language_info": {
   "codemirror_mode": {
    "name": "ipython",
    "version": 3
   },
   "file_extension": ".py",
   "mimetype": "text/x-python",
   "name": "python",
   "nbconvert_exporter": "python",
   "pygments_lexer": "ipython3",
   "version": "3.8.5"
  }
 },
 "nbformat": 4,
 "nbformat_minor": 4
}
