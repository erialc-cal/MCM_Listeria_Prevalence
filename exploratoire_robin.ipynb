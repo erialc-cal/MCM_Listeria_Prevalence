{
 "cells": [
  {
   "cell_type": "markdown",
   "metadata": {},
   "source": [
    "# Prévalence du Listeria dans le lait cru"
   ]
  },
  {
   "cell_type": "code",
   "execution_count": 1,
   "metadata": {},
   "outputs": [
    {
     "name": "stdout",
     "output_type": "stream",
     "text": [
      "README.md                 listeria.txt              projets2021.pdf\r\n",
      "exploratoire_claire.ipynb mcmc.ipynb\r\n"
     ]
    }
   ],
   "source": [
    "!ls"
   ]
  },
  {
   "cell_type": "code",
   "execution_count": 172,
   "metadata": {},
   "outputs": [],
   "source": [
    "import numpy as np\n",
    "import matplotlib.pyplot as plt\n",
    "import seaborn as sns\n",
    "import pandas as pd\n",
    "import random as rd\n",
    "import statistics as stats\n",
    "import math\n",
    "from math import gamma\n",
    "from tqdm import tqdm"
   ]
  },
  {
   "cell_type": "markdown",
   "metadata": {},
   "source": [
    "# Exploration rapide des données"
   ]
  },
  {
   "cell_type": "code",
   "execution_count": 173,
   "metadata": {},
   "outputs": [],
   "source": [
    "data = pd.read_csv('listeria.txt', sep=',')\n",
    "data.columns = ['nb_pos', 'nb_test']\n",
    "new_row = {'nb_pos':0, 'nb_test':600}\n",
    "data = data.append(new_row, ignore_index=True)\n",
    "data['prob']=data[\"nb_pos\"]/data['nb_test']\n",
    "proba_constante = sum(data['nb_pos'])/sum(data['nb_test'])"
   ]
  },
  {
   "cell_type": "code",
   "execution_count": 3,
   "metadata": {},
   "outputs": [
    {
     "data": {
      "text/plain": [
       "86         14\n",
       "87         16\n",
       "83         16\n",
       "85         17\n",
       "17         20\n",
       "       ...   \n",
       "40       1720\n",
       "62       2009\n",
       "44       2511\n",
       "20       4046\n",
       "18    1227053\n",
       "Name: nb_test, Length: 91, dtype: int64"
      ]
     },
     "execution_count": 3,
     "metadata": {},
     "output_type": "execute_result"
    }
   ],
   "source": [
    "# distribution du nombre de testés dans chaque étude\n",
    "\n",
    "data['nb_test'].sort_values()"
   ]
  },
  {
   "cell_type": "code",
   "execution_count": 19,
   "metadata": {},
   "outputs": [
    {
     "data": {
      "image/png": "[encoded data removed]",
      "text/plain": [
       "<Figure size 432x432 with 1 Axes>"
      ]
     },
     "metadata": {
      "needs_background": "light"
     },
     "output_type": "display_data"
    }
   ],
   "source": [
    "dg=data['nb_test']\n",
    "plt.figure(figsize=(6,6))\n",
    "plt.hist(dg, density=False,color=\"red\")\n",
    "plt.title(\"Distribution empirique du nombre de testés dans chaque étude\")\n",
    "plt.show()"
   ]
  },
  {
   "cell_type": "markdown",
   "metadata": {},
   "source": [
    "On voit qu'une étude se distingue clairement des autres de par son ampleur. Il s'agit de l'étude 18 qui concerne 1 227 053 personnes !"
   ]
  },
  {
   "cell_type": "code",
   "execution_count": 20,
   "metadata": {},
   "outputs": [
    {
     "data": {
      "text/plain": [
       "0       0\n",
       "17      0\n",
       "16      0\n",
       "15      0\n",
       "14      0\n",
       "     ... \n",
       "44     79\n",
       "69     85\n",
       "79     90\n",
       "62    102\n",
       "18    278\n",
       "Name: nb_pos, Length: 91, dtype: int64"
      ]
     },
     "execution_count": 20,
     "metadata": {},
     "output_type": "execute_result"
    }
   ],
   "source": [
    "# distribution du nombre de positifs dans chaque étude\n",
    "\n",
    "data['nb_pos'].sort_values()"
   ]
  },
  {
   "cell_type": "markdown",
   "metadata": {},
   "source": [
    "Le nombre de positifs a l'air lui plus homogène entre chaque étude. Le plus grand nombre de positifs est pour l'étude 18 (assez cohérent car c'est elle qui a testé le plus de personnes). A priori donc, aucune raison d'enlever cette étude de nos données."
   ]
  },
  {
   "cell_type": "code",
   "execution_count": 9,
   "metadata": {},
   "outputs": [
    {
     "data": {
      "image/png": "[encoded data removed]",
      "text/plain": [
       "<Figure size 864x576 with 1 Axes>"
      ]
     },
     "metadata": {
      "needs_background": "light"
     },
     "output_type": "display_data"
    }
   ],
   "source": [
    "# distribution du nombre de positifs dans chaque étude\n",
    "\n",
    "dg=data['nb_pos']\n",
    "plt.figure(figsize=(12,8))\n",
    "plt.hist(dg, density=True,color=\"red\")\n",
    "plt.title(\"Distribution empirique du nombre de positifs dans chaque étude\")\n",
    "plt.show()"
   ]
  },
  {
   "cell_type": "code",
   "execution_count": 25,
   "metadata": {},
   "outputs": [
    {
     "data": {
      "text/plain": [
       "0     0.000000\n",
       "17    0.000000\n",
       "16    0.000000\n",
       "15    0.000000\n",
       "14    0.000000\n",
       "        ...   \n",
       "85    0.294118\n",
       "86    0.428571\n",
       "87    0.437500\n",
       "88    0.452632\n",
       "89    0.809524\n",
       "Name: prob, Length: 91, dtype: float64"
      ]
     },
     "execution_count": 25,
     "metadata": {},
     "output_type": "execute_result"
    }
   ],
   "source": [
    "# le plus important : distribution empirique de probabilité de positivité dans chaque étude\n",
    "\n",
    "data['prob'].sort_values()"
   ]
  },
  {
   "cell_type": "markdown",
   "metadata": {},
   "source": [
    "L'étude 89 affiche une probabilité empirique assez élevée, de presque $0.81$. On voit clairement que cette probabilité est supérieure à toutes les autres : "
   ]
  },
  {
   "cell_type": "code",
   "execution_count": 26,
   "metadata": {},
   "outputs": [
    {
     "data": {
      "text/plain": [
       "Text(0.5, 1.0, 'Distribution des probas a priori empiriques')"
      ]
     },
     "execution_count": 26,
     "metadata": {},
     "output_type": "execute_result"
    },
    {
     "data": {
      "image/png": "[encoded data removed]",
      "text/plain": [
       "<Figure size 432x288 with 1 Axes>"
      ]
     },
     "metadata": {
      "needs_background": "light"
     },
     "output_type": "display_data"
    }
   ],
   "source": [
    "sns.histplot(data['prob'])\n",
    "plt.title(\"Distribution des probas a priori empiriques\")"
   ]
  },
  {
   "cell_type": "markdown",
   "metadata": {},
   "source": [
    "Il faudra peut-être songer à l'enlever des données..."
   ]
  },
  {
   "cell_type": "code",
   "execution_count": 45,
   "metadata": {},
   "outputs": [
    {
     "data": {
      "text/plain": [
       "0.0010564383073439964"
      ]
     },
     "execution_count": 45,
     "metadata": {},
     "output_type": "execute_result"
    }
   ],
   "source": [
    "proba_constante"
   ]
  },
  {
   "cell_type": "markdown",
   "metadata": {},
   "source": [
    "# Question 1 : détermination de la loi a posteriori"
   ]
  },
  {
   "cell_type": "markdown",
   "metadata": {},
   "source": [
    "On suppose dans un premier temps que la probabilité de présence de listeria dans toutes les études est constante $p$.\n",
    "\n",
    "\n",
    "Modèle binomial : $r_i \\sim \\mathcal{B}(n_i,p)$, de fonction de masse $f(r_i, p) = \\binom{n_i}{r_i} p^{r_i} (1-p)^{n_i-r_i}$ \n",
    "\n",
    "Loi a priori : $p \\sim \\mathcal{B}eta(\\alpha,\\beta)$ avec $\\alpha, \\beta = 1$ ce qui revient à avoir $p \\propto \\mathcal{U}([0,1])$ donc de densité $\\mathbb{1}_{[0,1]}(p)$\n",
    "\n",
    "La densité de la loi a posteriori est alors ($n$=91 est le nombre d'études) : \n",
    "\n",
    "$\\pi(p|r_1,\\dots, r_n) \\propto \\prod_{i=1}^{n}f(r_i,p) \\mathbb{1}_{[0,1]}(p) \n",
    "\\\\  \\;\\;\\;\\;\\;\\;\\;\\;\\;\\;\\;\\;\\;\\;\\;\\;\\;\\,\\,  \\propto \\prod_{i=1}^{n} p^{r_i} (1-p)^{(n_i-r_i)}\\mathbb{1}_{[0,1]}(p)   \\\\  \\;\\;\\;\\;\\;\\;\\;\\;\\;\\;\\;\\;\\;\\;\\;\\;\\;\\,\\,  \\propto p^{\\sum_{i=1}^{n}r_i} (1-p)^{\\sum_{i=1}^{n}(n_i-r_i)}\\mathbb{1}_{[0,1]}(p)   \\sim \\mathcal{B}eta(\\sum_{i=1}^{n}r_i +1, \\sum_{i=1}^{n}(n_i-r_i)+1)$\n",
    "\n",
    "Les observations nous permettent alors de calculer les deux paramètres de cette loi Bêta :\n"
   ]
  },
  {
   "cell_type": "code",
   "execution_count": 4,
   "metadata": {},
   "outputs": [
    {
     "name": "stdout",
     "output_type": "stream",
     "text": [
      "premier paramètre = 1329\n",
      "deuxième paramètre = 1255727\n"
     ]
    }
   ],
   "source": [
    "print(\"premier paramètre =\",sum(data['nb_pos'])+1)\n",
    "print(\"deuxième paramètre =\",sum(data['nb_test'])-sum(data['nb_pos'])+1)"
   ]
  },
  {
   "cell_type": "markdown",
   "metadata": {},
   "source": [
    "Finalement, la loi a posteriori de $p$ est une $\\boxed{\\mathcal{B}eta(1329,1255727)}$"
   ]
  },
  {
   "cell_type": "markdown",
   "metadata": {},
   "source": [
    "On n'utilise pas directement la fonction beta disponible dans le module stats de Python. En effet, du fait de la grande valeur des paramètres, il est préférable de reprogrammer par nous même une fonction gen_beta qui permet de tirer une valeur selon une loi beta"
   ]
  },
  {
   "cell_type": "markdown",
   "metadata": {},
   "source": [
    "### Loi exponentielle \n",
    "\n"
   ]
  },
  {
   "cell_type": "code",
   "execution_count": 10,
   "metadata": {},
   "outputs": [],
   "source": [
    "def gen_exp(theta):\n",
    "    u = rd.random()\n",
    "    return -1/theta*np.log(1-u)"
   ]
  },
  {
   "cell_type": "markdown",
   "metadata": {},
   "source": [
    "### Loi gamma\n",
    "\n",
    "------------\n",
    "Soient $X$ et $Y$ deux variables independantes distribuees suivant des lois  $\\Gamma(a,1)$ et $\\Gamma(b,1)$\n",
    "\n",
    "Alors $U = X+Y$ et $V = X/(X+Y)$ sont deux variables independantes distribuees suivant des lois $\\Gamma(a+b,1)$ et $\\mathcal{B}eta(a,b)$.\n",
    "\n",
    "\n",
    "\n"
   ]
  },
  {
   "cell_type": "code",
   "execution_count": 28,
   "metadata": {},
   "outputs": [],
   "source": [
    "def gama(x):\n",
    "    l = [gen_exp(x) for i in range(10000)]\n",
    "    return mean(l)\n",
    "        \n",
    "def f(x, a, b):\n",
    "    return b**a*x**(a-1)*exp(-bx)/gamma(a)"
   ]
  },
  {
   "cell_type": "code",
   "execution_count": 77,
   "metadata": {},
   "outputs": [],
   "source": [
    "def gen_gamma(a,b):\n",
    "    # si alpha = 1, cela revient à avoir une loi exponentielle de paramètre beta\n",
    "    if a == 1:\n",
    "        return gen_exp(b)\n",
    "    # si alpha est un entier non nul, gamma coïncide avec une somme de alpha va exponentielles\n",
    "    # de paramètre beta indépendantes\n",
    "    elif a == int(a) and a > 1 : \n",
    "        return sum([gen_exp(b) for i in range(a)])\n",
    "    # sinon, on va utiliser une méthode de rejet \n",
    "    else : \n",
    "        while True : \n",
    "            # on va utiliser une loi de gamma de paramètres entiers pour g\n",
    "            x = gen_gamma(int(a), b+1)\n",
    "            # constante calculée dans la photo sur messenger\n",
    "            c = b**a/((b+1)**int(a))*gama(int(a))/gama(a)*(a-int(a))**(a-int(a))*exp(-int(a)+a)\n",
    "            u = rd.random()\n",
    "            if u <= c*f(x, a, b)/g(x, int(a), b+1):\n",
    "                return x \n",
    "        \n",
    "        "
   ]
  },
  {
   "cell_type": "markdown",
   "metadata": {},
   "source": [
    "### Loi Beta"
   ]
  },
  {
   "cell_type": "code",
   "execution_count": 78,
   "metadata": {},
   "outputs": [],
   "source": [
    "def gen_beta(alpha, beta):\n",
    "    X = gen_gamma(alpha, 1)\n",
    "    Y = gen_gamma(beta,1)\n",
    "    return X/(X+Y)"
   ]
  },
  {
   "cell_type": "code",
   "execution_count": 32,
   "metadata": {},
   "outputs": [],
   "source": [
    "# on génère désormais notre beta(1329,1255727)\n",
    "\n",
    "distr = [gen_beta(1329,1255727) for i in range(1000)]\n"
   ]
  },
  {
   "cell_type": "code",
   "execution_count": 27,
   "metadata": {},
   "outputs": [
    {
     "data": {
      "text/plain": [
       "0.0010564383073439964"
      ]
     },
     "execution_count": 27,
     "metadata": {},
     "output_type": "execute_result"
    }
   ],
   "source": [
    "# probabiliré agrégeé dans nos données, qu'on va comparer avec la distribution de notre loi a posteriori\n",
    "\n",
    "proba_constante = sum(data['nb_pos'])/sum(data['nb_test'])\n",
    "proba_constante"
   ]
  },
  {
   "cell_type": "code",
   "execution_count": 33,
   "metadata": {},
   "outputs": [
    {
     "name": "stderr",
     "output_type": "stream",
     "text": [
      "/home/guillot/anaconda3/lib/python3.8/site-packages/seaborn/distributions.py:305: UserWarning: Dataset has 0 variance; skipping density estimate.\n",
      "  warnings.warn(msg, UserWarning)\n"
     ]
    },
    {
     "data": {
      "text/plain": [
       "Text(0.5, 1.0, 'Distribution de la loi a posteriori')"
      ]
     },
     "execution_count": 33,
     "metadata": {},
     "output_type": "execute_result"
    },
    {
     "data": {
      "image/png": "[encoded data removed]",
      "text/plain": [
       "<Figure size 432x288 with 1 Axes>"
      ]
     },
     "metadata": {},
     "output_type": "display_data"
    }
   ],
   "source": [
    "sns.set(style=\"darkgrid\")\n",
    "sns.histplot(distr, kde=True)\n",
    "plt.axvline(proba_constante, color='red',label=\"probabilité agrégée trouvée dans les données\")\n",
    "p_esp = sum(distr)/len(distr)\n",
    "plt.axvline(p_esp, color=\"green\",label=\"probabilité agrégée trouvée dans la loi a posteriori\")\n",
    "plt.legend()\n",
    "plt.title(\"Distribution de la loi a posteriori\")"
   ]
  },
  {
   "cell_type": "markdown",
   "metadata": {},
   "source": [
    "Le modèle n'approche pas très bien la probabilité agrégée de la présence de listeria (c'est-à-dire celle prise en agrégant l'ensemble des études).\n",
    "De plus, on a vu que les études affichent des probabilités empiriques de présence de listeria assez variées. Il paraît donc plus judicieux de considérer des probabilités de présence de listeria $p_i$ qui varient avec l'étude $i$.$\\newline$C'est l'objet de la deuxième question."
   ]
  },
  {
   "cell_type": "markdown",
   "metadata": {},
   "source": [
    "## Question 2 : "
   ]
  },
  {
   "cell_type": "markdown",
   "metadata": {},
   "source": [
    "On suppose dans un second temps que la probabilité de présence de listeria est variable selon les études.  \n",
    "\n",
    "Modèle binomial : $r_i \\sim \\mathcal{B}(n_i,p_i)$, de fonction de masse $f(r_i, p_i) = \\binom{n_i}{r_i} p_i^{r_i} (1-p_i)^{n_i-r_i}$\n",
    "\n",
    "Loi a priori : $ \\forall i, p_i \\sim \\mathcal{B}eta(\\alpha,\\beta)$, de densité $\\displaystyle{\\frac{\\Gamma(\\alpha + \\beta)}{\\Gamma(\\alpha)\\Gamma(\\beta)}}p_i^{\\alpha-1}(1-p_i)^{\\beta-1}\\mathbb{1}_{[0,1]}(p_i)$\n",
    "\n",
    "L'énoncé propose la reparamétrisation suivante : $\\mu = \\alpha/(\\alpha+\\beta) \\sim \\mathcal{U}([0,1])$ et $\\kappa = \\alpha + \\beta \\sim \\mathcal{E}(0.1)$\n",
    "\n",
    "On supposera que : $\\textbf{$\\kappa$ et $\\mu$ sont indépendantes}$ \n",
    "\n",
    "Donc on aura la densité jointe de $(\\mu,\\kappa)$ suivante : $p(\\mu,\\kappa)$ = $0.1 e^{-0.1\\kappa}\\mathbb{1}_{[0 ; \\infty[}(\\kappa)\\mathbb{1}_{[0,1]}(\\mu)$\n",
    "     \n",
    "En inversant : $\\alpha = \\kappa \\mu $ et $\\beta = \\kappa (1-\\mu)$\n",
    "\n",
    "Et donc $p_i$ a pour densité (sachant $\\mu$ et $\\kappa$) : $p(p_i|\\mu,\\kappa)$  = $\\displaystyle{\\frac{\\Gamma(\\kappa)}{\\Gamma(\\kappa \\mu)\\Gamma(\\kappa (1-\\mu))}}p_i^{\\kappa \\mu-1}(1-p_i)^{\\kappa(1-\\mu)-1}\\mathbb{1}_{[0,1]}(p_i)$\n",
    "\n",
    "La densité de la loi a posteriori est alors : \n",
    "\n",
    "$\\pi(\\mu,\\kappa,p_1,...,p_n|r_1,\\dots, r_n) \\propto \\left(\\prod_{i=1}^{n}f(r_i,p_i)p(p_i|\\mu,\\kappa)\\right)p(\\mu,\\kappa)\n",
    "\\\\    \\;\\;\\;\\;\\;\\;\\;\\;\\;\\;\\;\\;\\;\\;\\;\\;\\;\\;\\;\\;\\;\\;\\;\\;\\;\\;\\;\\;\\;\\;\\;\\;\\;\\;\\;\\,\\,  \\propto \\left(\\prod_{i=1}^{n} p_i^{r_i} (1-p_i)^{(n_i-r_i)}\\displaystyle{\\frac{\\Gamma(\\kappa)}{\\Gamma(\\kappa \\mu)\\Gamma(\\kappa (1-\\mu))}}p_i^{\\kappa \\mu-1}(1-p_i)^{\\kappa(1-\\mu)-1}\\mathbb{1}_{[0,1]}(p_i)\\right)e^{-0.1\\kappa}\\mathbb{1}_{[0 ; \\infty[}(\\kappa)\\mathbb{1}_{[0,1]}(\\mu)  \n",
    "\\\\    \\;\\;\\;\\;\\;\\;\\;\\;\\;\\;\\;\\;\\;\\;\\;\\;\\;\\;\\;\\;\\;\\;\\;\\;\\;\\;\\;\\;\\;\\;\\;\\;\\;\\;\\;\\,\\,  \\propto e^{-0.1\\kappa}\\left(\\displaystyle{\\frac{\\Gamma(\\kappa)}{\\Gamma(\\kappa \\mu)\\Gamma(\\kappa (1-\\mu))}}\\right)^n\\left(\\prod_{i=1}^{n} p_i^{r_i+\\kappa \\mu -1} (1-p_i)^{(n_i-r_i)+\\kappa(1-\\mu)-1}\\mathbb{1}_{[0,1]}(p_i)\\right)\\mathbb{1}_{[0 ; \\infty[}(\\kappa)\\mathbb{1}_{[0,1]}(\\mu)$ \n",
    "\n",
    "Contrairement au cas précédent, la loi a posteriori ne correspond pas à une loi usuelle connue. \n",
    "On va alors mettre en oeuvre un algorithme de $\\textbf{Metropolis within Gibbs}$ pour simuler cette loi a posteriori, en s'appuyant sur les différentes lois (connues) de nos paramètres $(p_i)_i,\\kappa$ et $\\mu$."
   ]
  },
  {
   "cell_type": "code",
   "execution_count": 66,
   "metadata": {},
   "outputs": [],
   "source": [
    "def indicatrice1(x):\n",
    "    if x <1 and x>0:\n",
    "        return 1\n",
    "    else:\n",
    "        return 0\n",
    "\n",
    "def indicatrice2(x):\n",
    "    if x >=0:\n",
    "        return 1\n",
    "    else:\n",
    "        return 0\n"
   ]
  },
  {
   "cell_type": "code",
   "execution_count": 67,
   "metadata": {},
   "outputs": [],
   "source": [
    "def metropolis_within_gibbs(x,sigma_1,sigma_2):\n",
    "    mu=x[91]      # valeur précédente de mu\n",
    "    kap=x[92]     # valeur précédente de kappa\n",
    "    \n",
    "    y=np.zeros(93)  #initialisation d'un vecteur y qui contiendra les valeurs à l'étape suivante\n",
    "    \n",
    "    for i in range(0,91):\n",
    "        a = mu*kap+data['nb_pos'][i]\n",
    "        b = data['nb_test'][i]-data['nb_pos'][i]+kap*(1-mu)\n",
    "        y[i]=np.random.beta(a,b)\n",
    "    \n",
    "    z = mu + sigma_1 * np.random.randn()       # proposition pour la prochaine valeur de mu \n",
    "    \n",
    "    if indicatrice1(z)==0:\n",
    "        seuil=0\n",
    "    else:\n",
    "        quantite_1=((1/gamma(kap*z))*(1/gamma(kap*(1-z))))**91\n",
    "        quantite_2=((1/gamma(kap*mu))*(1/gamma(kap*(1-mu))))**91\n",
    "        quantite_3=(math.prod([y[i]/(1-y[i]) for i in range(0,91)]))**(kap*(z-mu))\n",
    "        seuil=min(1,(quantite_1*quantite_3)/quantite_2)\n",
    "                                                                   \n",
    "    if np.random.rand() < seuil:             # on accepte z comme nouvelle valeur de mu\n",
    "        y[91]=z\n",
    "    \n",
    "    else:\n",
    "        y[91]=mu                             # on garde l'ancienne valeur de mu\n",
    "    \n",
    "    \n",
    "    w = kap + sigma_2 * np.random.randn()         # proposition pour la prochaine valeur de kappa\n",
    "    \n",
    "    if indicatrice2(w)==0:\n",
    "        seuil=0\n",
    "    else:\n",
    "        quantite_1=np.exp(-0.1*(w-kap))\n",
    "        quantite_2=((gamma(w)/gamma(w*y[91]))*(1/gamma(w*(1-y[91]))))**91\n",
    "        quantite_3=((gamma(kap)/gamma(kap*y[91]))*(1/gamma(kap*(1-y[91]))))**91\n",
    "        quantite_4=(math.prod([y[i]/(1-y[i]) for i in range(0,91)]))**(y[91]*(w-kap))\n",
    "        quantite_5=(math.prod([(1-y[i]) for i in range(0,91)]))**(w-kap)\n",
    "        seuil=min(1,(quantite_1*quantite_2*quantite_4*quantite_5)/quantite_3)\n",
    "        \n",
    "    if np.random.rand() < seuil:             # on accepte w comme nouvelle valeur de kappa\n",
    "        y[92]=w\n",
    "    \n",
    "    else:\n",
    "        y[92]=kap                            # on garde l'ancienne valeur de kappa  \n",
    "\n",
    "    \n",
    "    return y      # on retourne le vecteur des nouvelles valeurs"
   ]
  },
  {
   "cell_type": "code",
   "execution_count": 68,
   "metadata": {},
   "outputs": [
    {
     "name": "stderr",
     "output_type": "stream",
     "text": [
      "  2%|▏         | 169/9999 [00:01<02:55, 56.10it/s]<ipython-input-67-c4e8369fe25e>:20: RuntimeWarning: invalid value encountered in double_scalars\n",
      "  seuil=min(1,(quantite_1*quantite_3)/quantite_2)\n",
      "  8%|▊         | 782/9999 [00:04<00:47, 195.34it/s]<ipython-input-67-c4e8369fe25e>:19: RuntimeWarning: overflow encountered in double_scalars\n",
      "  quantite_3=(math.prod([y[i]/(1-y[i]) for i in range(0,91)]))**(kap*(z-mu))\n",
      "<ipython-input-67-c4e8369fe25e>:37: RuntimeWarning: divide by zero encountered in double_scalars\n",
      "  quantite_4=(math.prod([y[i]/(1-y[i]) for i in range(0,91)]))**(y[91]*(w-kap))\n",
      " 21%|██▏       | 2131/9999 [00:11<00:37, 207.17it/s]<ipython-input-67-c4e8369fe25e>:20: RuntimeWarning: divide by zero encountered in double_scalars\n",
      "  seuil=min(1,(quantite_1*quantite_3)/quantite_2)\n",
      "100%|██████████| 9999/9999 [00:53<00:00, 186.96it/s]\n"
     ]
    }
   ],
   "source": [
    "# initialisation de notre vecteur y qui contiendra les valeurs successives de nos 93 paramètres (les 91 p_i + mu + kappa)\n",
    "\n",
    "N = 10000\n",
    "y = np.zeros((N, 93))\n",
    "\n",
    "for i in range (0,91):\n",
    "    y[0,i]=data['prob'][i]           # on prend les probas empiriques comme probas initiales\n",
    "    \n",
    "y[0,91]=0.5         # valeur initiale pour mu car mu suit une uniforme sur [0,1]\n",
    "y[0,92]=10          # valeur initiale pour kappa car kappa suit une exp(0.1) donc est de moyenne 10\n",
    "\n",
    "\n",
    "# generate chain\n",
    "\n",
    "for n in tqdm(range(1, 10000)):\n",
    "    y[n] = metropolis_within_gibbs(y[n-1],sigma_1=0.3,sigma_2=0.5)"
   ]
  },
  {
   "cell_type": "code",
   "execution_count": 203,
   "metadata": {},
   "outputs": [
    {
     "data": {
      "text/plain": [
       "[<matplotlib.lines.Line2D at 0x7fb5458f15e0>]"
      ]
     },
     "execution_count": 203,
     "metadata": {},
     "output_type": "execute_result"
    },
    {
     "data": {
      "image/png": "[encoded data removed]",
      "text/plain": [
       "<Figure size 432x288 with 1 Axes>"
      ]
     },
     "metadata": {
      "needs_background": "light"
     },
     "output_type": "display_data"
    }
   ],
   "source": [
    "plt.plot(y[:,91])\n",
    "\n",
    "# MCMC trace pour mu"
   ]
  },
  {
   "cell_type": "code",
   "execution_count": 204,
   "metadata": {},
   "outputs": [
    {
     "data": {
      "text/plain": [
       "[<matplotlib.lines.Line2D at 0x7fb5451b1070>]"
      ]
     },
     "execution_count": 204,
     "metadata": {},
     "output_type": "execute_result"
    },
    {
     "data": {
      "image/png": "[encoded data removed]",
      "text/plain": [
       "<Figure size 432x288 with 1 Axes>"
      ]
     },
     "metadata": {
      "needs_background": "light"
     },
     "output_type": "display_data"
    }
   ],
   "source": [
    "plt.plot(y[:,92])\n",
    "\n",
    "# MCMC trace pour kappa"
   ]
  },
  {
   "cell_type": "markdown",
   "metadata": {},
   "source": [
    "Problème : on souhaite augmenter les valeurs de sigma_1 et sigma_2 (par exemple à 0.3 et 10) mais quand on le fait, il y a une erreur numérique (le calcul d'une quantité mobilise trop de place). Illustration : "
   ]
  },
  {
   "cell_type": "code",
   "execution_count": 205,
   "metadata": {},
   "outputs": [
    {
     "name": "stderr",
     "output_type": "stream",
     "text": [
      "  0%|          | 0/999 [00:00<?, ?it/s]<ipython-input-201-fbf65cd40e52>:39: RuntimeWarning: overflow encountered in double_scalars\n",
      "  seuil=min(1,(quantite_1*quantite_2*quantite_4*quantite_5)/quantite_3)\n",
      "<ipython-input-201-fbf65cd40e52>:37: RuntimeWarning: overflow encountered in double_scalars\n",
      "  quantite_4=(math.prod([y[i]/(1-y[i]) for i in range(0,91)]))**(y[91]*(w-kap))\n",
      "  0%|          | 3/999 [00:00<00:05, 175.02it/s]\n"
     ]
    },
    {
     "ename": "OverflowError",
     "evalue": "(34, 'Numerical result out of range')",
     "output_type": "error",
     "traceback": [
      "\u001b[0;31m---------------------------------------------------------------------------\u001b[0m",
      "\u001b[0;31mOverflowError\u001b[0m                             Traceback (most recent call last)",
      "\u001b[0;32m<ipython-input-205-ca8044c6e893>\u001b[0m in \u001b[0;36m<module>\u001b[0;34m\u001b[0m\n\u001b[1;32m     11\u001b[0m \u001b[0;34m\u001b[0m\u001b[0m\n\u001b[1;32m     12\u001b[0m \u001b[0;32mfor\u001b[0m \u001b[0mn\u001b[0m \u001b[0;32min\u001b[0m \u001b[0mtqdm\u001b[0m\u001b[0;34m(\u001b[0m\u001b[0mrange\u001b[0m\u001b[0;34m(\u001b[0m\u001b[0;36m1\u001b[0m\u001b[0;34m,\u001b[0m \u001b[0;36m1000\u001b[0m\u001b[0;34m)\u001b[0m\u001b[0;34m)\u001b[0m\u001b[0;34m:\u001b[0m\u001b[0;34m\u001b[0m\u001b[0;34m\u001b[0m\u001b[0m\n\u001b[0;32m---> 13\u001b[0;31m     \u001b[0my\u001b[0m\u001b[0;34m[\u001b[0m\u001b[0mn\u001b[0m\u001b[0;34m]\u001b[0m \u001b[0;34m=\u001b[0m \u001b[0mmetropolis_within_gibbs\u001b[0m\u001b[0;34m(\u001b[0m\u001b[0my\u001b[0m\u001b[0;34m[\u001b[0m\u001b[0mn\u001b[0m\u001b[0;34m-\u001b[0m\u001b[0;36m1\u001b[0m\u001b[0;34m]\u001b[0m\u001b[0;34m,\u001b[0m\u001b[0msigma_1\u001b[0m\u001b[0;34m=\u001b[0m\u001b[0;36m0.3\u001b[0m\u001b[0;34m,\u001b[0m\u001b[0msigma_2\u001b[0m\u001b[0;34m=\u001b[0m\u001b[0;36m10\u001b[0m\u001b[0;34m)\u001b[0m\u001b[0;34m\u001b[0m\u001b[0;34m\u001b[0m\u001b[0m\n\u001b[0m",
      "\u001b[0;32m<ipython-input-201-fbf65cd40e52>\u001b[0m in \u001b[0;36mmetropolis_within_gibbs\u001b[0;34m(x, sigma_1, sigma_2)\u001b[0m\n\u001b[1;32m     33\u001b[0m     \u001b[0;32melse\u001b[0m\u001b[0;34m:\u001b[0m\u001b[0;34m\u001b[0m\u001b[0;34m\u001b[0m\u001b[0m\n\u001b[1;32m     34\u001b[0m         \u001b[0mquantite_1\u001b[0m\u001b[0;34m=\u001b[0m\u001b[0mnp\u001b[0m\u001b[0;34m.\u001b[0m\u001b[0mexp\u001b[0m\u001b[0;34m(\u001b[0m\u001b[0;34m-\u001b[0m\u001b[0;36m0.1\u001b[0m\u001b[0;34m*\u001b[0m\u001b[0;36m91\u001b[0m\u001b[0;34m*\u001b[0m\u001b[0;34m(\u001b[0m\u001b[0mw\u001b[0m\u001b[0;34m-\u001b[0m\u001b[0mkap\u001b[0m\u001b[0;34m)\u001b[0m\u001b[0;34m)\u001b[0m\u001b[0;34m\u001b[0m\u001b[0;34m\u001b[0m\u001b[0m\n\u001b[0;32m---> 35\u001b[0;31m         \u001b[0mquantite_2\u001b[0m\u001b[0;34m=\u001b[0m\u001b[0;34m(\u001b[0m\u001b[0;34m(\u001b[0m\u001b[0mgamma\u001b[0m\u001b[0;34m(\u001b[0m\u001b[0mw\u001b[0m\u001b[0;34m)\u001b[0m\u001b[0;34m/\u001b[0m\u001b[0mgamma\u001b[0m\u001b[0;34m(\u001b[0m\u001b[0mw\u001b[0m\u001b[0;34m*\u001b[0m\u001b[0my\u001b[0m\u001b[0;34m[\u001b[0m\u001b[0;36m91\u001b[0m\u001b[0;34m]\u001b[0m\u001b[0;34m)\u001b[0m\u001b[0;34m)\u001b[0m\u001b[0;34m*\u001b[0m\u001b[0;34m(\u001b[0m\u001b[0;36m1\u001b[0m\u001b[0;34m/\u001b[0m\u001b[0mgamma\u001b[0m\u001b[0;34m(\u001b[0m\u001b[0mw\u001b[0m\u001b[0;34m*\u001b[0m\u001b[0;34m(\u001b[0m\u001b[0;36m1\u001b[0m\u001b[0;34m-\u001b[0m\u001b[0my\u001b[0m\u001b[0;34m[\u001b[0m\u001b[0;36m91\u001b[0m\u001b[0;34m]\u001b[0m\u001b[0;34m)\u001b[0m\u001b[0;34m)\u001b[0m\u001b[0;34m)\u001b[0m\u001b[0;34m)\u001b[0m\u001b[0;34m**\u001b[0m\u001b[0;36m91\u001b[0m\u001b[0;34m\u001b[0m\u001b[0;34m\u001b[0m\u001b[0m\n\u001b[0m\u001b[1;32m     36\u001b[0m         \u001b[0mquantite_3\u001b[0m\u001b[0;34m=\u001b[0m\u001b[0;34m(\u001b[0m\u001b[0;34m(\u001b[0m\u001b[0mgamma\u001b[0m\u001b[0;34m(\u001b[0m\u001b[0mkap\u001b[0m\u001b[0;34m)\u001b[0m\u001b[0;34m/\u001b[0m\u001b[0mgamma\u001b[0m\u001b[0;34m(\u001b[0m\u001b[0mkap\u001b[0m\u001b[0;34m*\u001b[0m\u001b[0my\u001b[0m\u001b[0;34m[\u001b[0m\u001b[0;36m91\u001b[0m\u001b[0;34m]\u001b[0m\u001b[0;34m)\u001b[0m\u001b[0;34m)\u001b[0m\u001b[0;34m*\u001b[0m\u001b[0;34m(\u001b[0m\u001b[0;36m1\u001b[0m\u001b[0;34m/\u001b[0m\u001b[0mgamma\u001b[0m\u001b[0;34m(\u001b[0m\u001b[0mkap\u001b[0m\u001b[0;34m*\u001b[0m\u001b[0;34m(\u001b[0m\u001b[0;36m1\u001b[0m\u001b[0;34m-\u001b[0m\u001b[0my\u001b[0m\u001b[0;34m[\u001b[0m\u001b[0;36m91\u001b[0m\u001b[0;34m]\u001b[0m\u001b[0;34m)\u001b[0m\u001b[0;34m)\u001b[0m\u001b[0;34m)\u001b[0m\u001b[0;34m)\u001b[0m\u001b[0;34m**\u001b[0m\u001b[0;36m91\u001b[0m\u001b[0;34m\u001b[0m\u001b[0;34m\u001b[0m\u001b[0m\n\u001b[1;32m     37\u001b[0m         \u001b[0mquantite_4\u001b[0m\u001b[0;34m=\u001b[0m\u001b[0;34m(\u001b[0m\u001b[0mmath\u001b[0m\u001b[0;34m.\u001b[0m\u001b[0mprod\u001b[0m\u001b[0;34m(\u001b[0m\u001b[0;34m[\u001b[0m\u001b[0my\u001b[0m\u001b[0;34m[\u001b[0m\u001b[0mi\u001b[0m\u001b[0;34m]\u001b[0m\u001b[0;34m/\u001b[0m\u001b[0;34m(\u001b[0m\u001b[0;36m1\u001b[0m\u001b[0;34m-\u001b[0m\u001b[0my\u001b[0m\u001b[0;34m[\u001b[0m\u001b[0mi\u001b[0m\u001b[0;34m]\u001b[0m\u001b[0;34m)\u001b[0m \u001b[0;32mfor\u001b[0m \u001b[0mi\u001b[0m \u001b[0;32min\u001b[0m \u001b[0mrange\u001b[0m\u001b[0;34m(\u001b[0m\u001b[0;36m0\u001b[0m\u001b[0;34m,\u001b[0m\u001b[0;36m91\u001b[0m\u001b[0;34m)\u001b[0m\u001b[0;34m]\u001b[0m\u001b[0;34m)\u001b[0m\u001b[0;34m)\u001b[0m\u001b[0;34m**\u001b[0m\u001b[0;34m(\u001b[0m\u001b[0my\u001b[0m\u001b[0;34m[\u001b[0m\u001b[0;36m91\u001b[0m\u001b[0;34m]\u001b[0m\u001b[0;34m*\u001b[0m\u001b[0;34m(\u001b[0m\u001b[0mw\u001b[0m\u001b[0;34m-\u001b[0m\u001b[0mkap\u001b[0m\u001b[0;34m)\u001b[0m\u001b[0;34m)\u001b[0m\u001b[0;34m\u001b[0m\u001b[0;34m\u001b[0m\u001b[0m\n",
      "\u001b[0;31mOverflowError\u001b[0m: (34, 'Numerical result out of range')"
     ]
    }
   ],
   "source": [
    "# réinitialisation de y\n",
    "\n",
    "N = 1000\n",
    "y = np.empty((N, 93))\n",
    "\n",
    "for i in range (0,91):\n",
    "    y[0,i]=data['prob'][i]\n",
    "y[0,91]=0.5\n",
    "y[0,92]=10\n",
    "\n",
    "\n",
    "for n in tqdm(range(1, 1000)):\n",
    "    y[n] = metropolis_within_gibbs(y[n-1],sigma_1=0.3,sigma_2=10)"
   ]
  },
  {
   "cell_type": "markdown",
   "metadata": {},
   "source": [
    "Solution : reprogrammer la fonction gamma de Python car celle-ci tient trop de place + passer l'évaluation des seuils en log. De cette façon, il n'y a plus d'erreurs générées par notre code, et on peut faire varier à souhait les varianes"
   ]
  },
  {
   "cell_type": "code",
   "execution_count": 174,
   "metadata": {},
   "outputs": [],
   "source": [
    "def gammar(x):\n",
    "    if x>1:\n",
    "        return (x-1)*gammar(x-1)\n",
    "    else:\n",
    "        return gamma(x)"
   ]
  },
  {
   "cell_type": "code",
   "execution_count": 175,
   "metadata": {},
   "outputs": [],
   "source": [
    "def metropolis_within_gibbs_bis(x,sigma_1,sigma_2):\n",
    "    mu=x[91]      # valeur précédente de mu\n",
    "    kap=x[92]     # valeur précédente de kappa\n",
    "    \n",
    "    y=np.zeros(93)  #initialisation d'un vecteur y qui contiendra les valeurs à l'étape suivante\n",
    "    \n",
    "    for i in range(0,91):\n",
    "        a = mu*kap+data['nb_pos'][i]\n",
    "        b = data['nb_test'][i]-data['nb_pos'][i]+kap*(1-mu)\n",
    "        y[i]=np.random.beta(a,b)\n",
    "    \n",
    "    z = mu + sigma_1 * np.random.randn()       # proposition pour la prochaine valeur de mu \n",
    "    \n",
    "    if indicatrice1(z)==0:\n",
    "        seuil=-np.inf\n",
    "    else:\n",
    "        quantite_1=-91*np.log(gammar(kap*z)*gammar(kap*(1-z)))\n",
    "        quantite_2=-91*np.log(gammar(kap*mu)*gammar(kap*(1-mu)))\n",
    "        quantite_3=(kap*(z-mu))*(sum([np.log(y[i]/(1-y[i])) for i in range(0,91)]))\n",
    "        seuil=min(0,quantite_1+quantite_3-quantite_2)\n",
    "                                                                   \n",
    "    if np.log(np.random.rand()) < seuil:             # on accepte z comme nouvelle valeur de mu\n",
    "        y[91]=z\n",
    "    \n",
    "    else:\n",
    "        y[91]=mu                             # on garde l'ancienne valeur de mu\n",
    "    \n",
    "    \n",
    "    w = kap + sigma_2 * np.random.randn()         # proposition pour la prochaine valeur de kappa\n",
    "    \n",
    "    if indicatrice2(w)==0:\n",
    "        seuil=-np.inf\n",
    "    else:\n",
    "        quantite_1=-0.1*(w-kap)\n",
    "        quantite_2=91*np.log(gammar(w)/(gammar(w*y[91])*gammar(w*(1-y[91]))))\n",
    "        quantite_3=91*np.log(gammar(kap)/(gammar(kap*y[91])*gammar(kap*(1-y[91]))))\n",
    "        quantite_4=(y[91]*(w-kap))*(sum([np.log(y[i]/(1-y[i])) for i in range(0,91)]))\n",
    "        quantite_5=(w-kap)*(sum([np.log(1-y[i]) for i in range(0,91)]))\n",
    "        seuil=min(0,(quantite_1+quantite_2+quantite_4+quantite_5)-quantite_3)\n",
    "        \n",
    "    if np.log(np.random.rand()) < seuil:             # on accepte w comme nouvelle valeur de kappa\n",
    "        y[92]=w\n",
    "    \n",
    "    else:\n",
    "        y[92]=kap                            # on garde l'ancienne valeur de kappa  \n",
    "\n",
    "    \n",
    "    return y      # on retourne le vecteur des nouvelles valeurs"
   ]
  },
  {
   "cell_type": "code",
   "execution_count": 61,
   "metadata": {},
   "outputs": [
    {
     "name": "stderr",
     "output_type": "stream",
     "text": [
      "100%|██████████| 9999/9999 [01:01<00:00, 161.82it/s]\n"
     ]
    }
   ],
   "source": [
    "# réinitialisation de notre vecteur y \n",
    "\n",
    "N = 10000\n",
    "y = np.zeros((N, 93))\n",
    "\n",
    "for i in range (0,91):\n",
    "    y[0,i]=data['prob'][i]\n",
    "y[0,91]=0.5\n",
    "y[0,92]=10\n",
    "\n",
    "\n",
    "for n in tqdm(range(1, 10000)):\n",
    "    y[n] = metropolis_within_gibbs_bis(y[n-1],sigma_1=0.5,sigma_2=2)"
   ]
  },
  {
   "cell_type": "code",
   "execution_count": 62,
   "metadata": {},
   "outputs": [
    {
     "data": {
      "text/plain": [
       "[<matplotlib.lines.Line2D at 0x7fa65394e8b0>]"
      ]
     },
     "execution_count": 62,
     "metadata": {},
     "output_type": "execute_result"
    },
    {
     "data": {
      "image/png": "[encoded data removed]",
      "text/plain": [
       "<Figure size 432x288 with 1 Axes>"
      ]
     },
     "metadata": {
      "needs_background": "light"
     },
     "output_type": "display_data"
    }
   ],
   "source": [
    "plt.plot(y[:,91])\n",
    "\n",
    "# MCMC trace pour mu"
   ]
  },
  {
   "cell_type": "code",
   "execution_count": 63,
   "metadata": {},
   "outputs": [
    {
     "data": {
      "text/plain": [
       "[<matplotlib.lines.Line2D at 0x7fa653cdd400>]"
      ]
     },
     "execution_count": 63,
     "metadata": {},
     "output_type": "execute_result"
    },
    {
     "data": {
      "image/png": "[encoded data removed]",
      "text/plain": [
       "<Figure size 432x288 with 1 Axes>"
      ]
     },
     "metadata": {
      "needs_background": "light"
     },
     "output_type": "display_data"
    }
   ],
   "source": [
    "plt.plot(y[:,92])\n",
    "\n",
    "# MCMC trace pour kappa"
   ]
  },
  {
   "cell_type": "markdown",
   "metadata": {},
   "source": [
    "Résultats : à partir de la 50ème itération, l'algo semble converger.\n",
    "Vérifions-le en \"zoomant\" : \n"
   ]
  },
  {
   "cell_type": "markdown",
   "metadata": {},
   "source": [
    "Pour être sûr de se situer dans la zone de convergence, on va considérer que la zone de burn-in est la plage [0;2000]"
   ]
  },
  {
   "cell_type": "markdown",
   "metadata": {},
   "source": [
    "### Caractérisation des lois a posteriori de mu et kappa"
   ]
  },
  {
   "cell_type": "code",
   "execution_count": 98,
   "metadata": {},
   "outputs": [
    {
     "data": {
      "text/plain": [
       "<AxesSubplot:ylabel='Count'>"
      ]
     },
     "execution_count": 98,
     "metadata": {},
     "output_type": "execute_result"
    },
    {
     "data": {
      "image/png": "[encoded data removed]",
      "text/plain": [
       "<Figure size 432x288 with 1 Axes>"
      ]
     },
     "metadata": {
      "needs_background": "light"
     },
     "output_type": "display_data"
    }
   ],
   "source": [
    "# mu\n",
    "\n",
    "sns.histplot((y[2000:,91]))"
   ]
  },
  {
   "cell_type": "markdown",
   "metadata": {},
   "source": [
    "On obtient une distribution symétrique autour de la moyenne, qui peut ressembler à la distribution d'une loi normale, avec cependant un pic important à la moyenne\n",
    "\n",
    "Si c'était une loi normale, quels en seraient les paramètres ?"
   ]
  },
  {
   "cell_type": "code",
   "execution_count": 114,
   "metadata": {},
   "outputs": [
    {
     "name": "stdout",
     "output_type": "stream",
     "text": [
      "moyenne= 0.09574601832482028\n",
      "écart-type= 0.06945272228164598\n"
     ]
    }
   ],
   "source": [
    "moy=np.mean(y[2000:,91])\n",
    "e_type=np.std(y[2000:,91])\n",
    "\n",
    "print(\"moyenne=\",moy)\n",
    "print(\"écart-type=\",e_type)"
   ]
  },
  {
   "cell_type": "markdown",
   "metadata": {},
   "source": [
    "Est-ce vraisemblable de penser que la loi de $\\mu$ est une $\\mathcal{N}(0.096,0.069²)$ ?"
   ]
  },
  {
   "cell_type": "code",
   "execution_count": 103,
   "metadata": {},
   "outputs": [
    {
     "data": {
      "image/png": "[encoded data removed]",
      "text/plain": [
       "<Figure size 432x288 with 1 Axes>"
      ]
     },
     "metadata": {
      "needs_background": "light"
     },
     "output_type": "display_data"
    },
    {
     "data": {
      "image/png": "[encoded data removed]",
      "text/plain": [
       "<Figure size 432x288 with 1 Axes>"
      ]
     },
     "metadata": {
      "needs_background": "light"
     },
     "output_type": "display_data"
    }
   ],
   "source": [
    "# Visualisation de l'adéquation à la loi normale :\n",
    "\n",
    "X=y[2000:,91]\n",
    "plt.hist(X, bins = 100, color = 'red',edgecolor = 'black')\n",
    "plt.xlabel('Valeurs')\n",
    "plt.ylabel('Effectifs par tranches')\n",
    "plt.title('Histogramme pour échantillon obtenu par notre algo')\n",
    "plt.show()\n",
    "\n",
    "Y=[np.random.normal(moy,e_type) for i in range(2000,10000)]\n",
    "plt.hist(Y, bins = 100, color = 'red',edgecolor = 'black')\n",
    "plt.xlabel('Valeurs')\n",
    "plt.ylabel('Effectifs par tranches')\n",
    "plt.title(\"Histogramme pour un échantillon tiré selon le générateur Python\")\n",
    "plt.show()"
   ]
  },
  {
   "cell_type": "markdown",
   "metadata": {},
   "source": [
    "Il ne s'agit pas d'une loi normale. Les distributions entre les deux échantillons diffèrent"
   ]
  },
  {
   "cell_type": "code",
   "execution_count": 106,
   "metadata": {},
   "outputs": [
    {
     "name": "stdout",
     "output_type": "stream",
     "text": [
      "D1= 0.2959104108726288\n",
      "p-valeur_1= 0.0\n",
      "D2= 0.006517738803456852\n",
      "p-valeur_2= 0.8837291642661295\n"
     ]
    }
   ],
   "source": [
    "# Test de Kolmogorov-Smirnov\n",
    "\n",
    "import scipy.stats as statis\n",
    "\n",
    "X=y[2000:,91]\n",
    "Y=[np.random.normal(moy,e_type) for i in range(2000,10000)]\n",
    "D1,p1=statis.kstest(X, 'norm', (moy,e_type))\n",
    "D2,p2=statis.kstest(Y, 'norm', (moy,e_type))\n",
    "\n",
    "print(\"D1=\",D1)\n",
    "print(\"p-valeur_1=\",p1)\n",
    "print(\"D2=\",D2)\n",
    "print(\"p-valeur_2=\",p2)"
   ]
  },
  {
   "cell_type": "markdown",
   "metadata": {},
   "source": [
    "Le test de KS rejette bien l'hypothèse selon laquelle mu suit une loi normale"
   ]
  },
  {
   "cell_type": "markdown",
   "metadata": {},
   "source": [
    "Et une loi beta ?"
   ]
  },
  {
   "cell_type": "code",
   "execution_count": 135,
   "metadata": {},
   "outputs": [
    {
     "name": "stdout",
     "output_type": "stream",
     "text": [
      "alpha= 1.622768987272054\n",
      "beta= 15.325914787407514\n"
     ]
    }
   ],
   "source": [
    "moy1=np.mean(y[2000:,91])\n",
    "e_type1=np.std(y[2000:,91])\n",
    "var1=np.var(y[2000:,91])\n",
    "\n",
    "#estimation des paramètres par la méthode des moments\n",
    "\n",
    "a=moy1*(moy1-moy1**2-var1)/var1\n",
    "b=(moy1-2*(moy1**2)+moy1**3-var1+moy1*var1)/var1\n",
    "\n",
    "print(\"alpha=\",a)\n",
    "print(\"beta=\",b)"
   ]
  },
  {
   "cell_type": "code",
   "execution_count": 116,
   "metadata": {},
   "outputs": [
    {
     "data": {
      "image/png": "[encoded data removed]",
      "text/plain": [
       "<Figure size 432x288 with 1 Axes>"
      ]
     },
     "metadata": {
      "needs_background": "light"
     },
     "output_type": "display_data"
    },
    {
     "data": {
      "image/png": "[encoded data removed]",
      "text/plain": [
       "<Figure size 432x288 with 1 Axes>"
      ]
     },
     "metadata": {
      "needs_background": "light"
     },
     "output_type": "display_data"
    }
   ],
   "source": [
    "# Visualisation de l'adéquation à la loi beta :\n",
    "\n",
    "X=y[2000:,91]\n",
    "plt.hist(X, bins = 100, color = 'red',edgecolor = 'black')\n",
    "plt.xlabel('Valeurs')\n",
    "plt.ylabel('Effectifs par tranches')\n",
    "plt.title('Histogramme pour échantillon obtenu par notre algo')\n",
    "plt.show()\n",
    "\n",
    "Y=[np.random.beta(a,b) for i in range(2000,10000)]\n",
    "plt.hist(Y, bins = 100, color = 'red',edgecolor = 'black')\n",
    "plt.xlabel('Valeurs')\n",
    "plt.ylabel('Effectifs par tranches')\n",
    "plt.title(\"Histogramme pour un échantillon tiré selon le générateur Python\")\n",
    "plt.show()"
   ]
  },
  {
   "cell_type": "markdown",
   "metadata": {},
   "source": [
    "Ce n'est pas non plus une loi beta "
   ]
  },
  {
   "cell_type": "code",
   "execution_count": 99,
   "metadata": {},
   "outputs": [
    {
     "data": {
      "text/plain": [
       "<AxesSubplot:ylabel='Count'>"
      ]
     },
     "execution_count": 99,
     "metadata": {},
     "output_type": "execute_result"
    },
    {
     "data": {
      "image/png": "[encoded data removed]",
      "text/plain": [
       "<Figure size 432x288 with 1 Axes>"
      ]
     },
     "metadata": {
      "needs_background": "light"
     },
     "output_type": "display_data"
    }
   ],
   "source": [
    "# kappa\n",
    "\n",
    "sns.histplot((y[2000:,92]))"
   ]
  },
  {
   "cell_type": "markdown",
   "metadata": {},
   "source": [
    "On obtient aussi une distribution symétrique "
   ]
  },
  {
   "cell_type": "code",
   "execution_count": 134,
   "metadata": {},
   "outputs": [
    {
     "name": "stdout",
     "output_type": "stream",
     "text": [
      "moyenne= 6.2398632958848586\n",
      "écart-type= 1.242295553882723\n"
     ]
    }
   ],
   "source": [
    "moy2=np.mean(y[2000:,92])\n",
    "e_type2=np.std(y[2000:,92])\n",
    "\n",
    "print(\"moyenne=\",moy2)\n",
    "print(\"écart-type=\",e_type2)"
   ]
  },
  {
   "cell_type": "markdown",
   "metadata": {},
   "source": [
    "Est-ce vraisemblable de penser que la loi de $\\mu$ est une $\\mathcal{N}(6.24,1.24)$ ?"
   ]
  },
  {
   "cell_type": "code",
   "execution_count": 108,
   "metadata": {},
   "outputs": [
    {
     "data": {
      "image/png": "[encoded data removed]",
      "text/plain": [
       "<Figure size 432x288 with 1 Axes>"
      ]
     },
     "metadata": {
      "needs_background": "light"
     },
     "output_type": "display_data"
    },
    {
     "data": {
      "image/png": "[encoded data removed]",
      "text/plain": [
       "<Figure size 432x288 with 1 Axes>"
      ]
     },
     "metadata": {
      "needs_background": "light"
     },
     "output_type": "display_data"
    }
   ],
   "source": [
    "# Visualisation de l'adéquation à la loi normale :\n",
    "\n",
    "X=y[2000:,92]\n",
    "plt.hist(X, bins = 100, color = 'red',edgecolor = 'black')\n",
    "plt.xlabel('Valeurs')\n",
    "plt.ylabel('Effectifs par tranches')\n",
    "plt.title('Histogramme pour échantillon obtenu par notre algo')\n",
    "plt.show()\n",
    "\n",
    "Y=[np.random.normal(moy,e_type) for i in range(2000,10000)]\n",
    "plt.hist(Y, bins = 100, color = 'red',edgecolor = 'black')\n",
    "plt.xlabel('Valeurs')\n",
    "plt.ylabel('Effectifs par tranches')\n",
    "plt.title(\"Histogramme pour un échantillon tiré selon le générateur Python\")\n",
    "plt.show()"
   ]
  },
  {
   "cell_type": "markdown",
   "metadata": {},
   "source": [
    "Ici, les deux distributions semblent assez identiques !"
   ]
  },
  {
   "cell_type": "code",
   "execution_count": 113,
   "metadata": {},
   "outputs": [
    {
     "name": "stdout",
     "output_type": "stream",
     "text": [
      "D1= 0.024557603157111862\n",
      "p-valeur_1= 0.0001267280763942905\n",
      "D2= 0.0066340672337293904\n",
      "p-valeur_2= 0.8705492335766366\n"
     ]
    }
   ],
   "source": [
    "# Test de Kolmogorov-Smirnov\n",
    "\n",
    "import scipy.stats as statis\n",
    "\n",
    "X=y[2000:,92]\n",
    "Y=[np.random.normal(moy,e_type) for i in range(2000,10000)]\n",
    "D1,p1=statis.kstest(X, 'norm', (moy,e_type))\n",
    "D2,p2=statis.kstest(Y, 'norm', (moy,e_type))\n",
    "\n",
    "print(\"D1=\",D1)\n",
    "print(\"p-valeur_1=\",p1)\n",
    "print(\"D2=\",D2)\n",
    "print(\"p-valeur_2=\",p2)"
   ]
  },
  {
   "cell_type": "markdown",
   "metadata": {},
   "source": [
    "Le test de KS rejette aussi l'hypothèse selon laquelle kappa suit une loi normale"
   ]
  },
  {
   "cell_type": "markdown",
   "metadata": {},
   "source": [
    "### Bilan : \n",
    "$\\mu$ et $\\kappa$ suivaient comme loi a priori une uniforme et une exponentielle respectivement.\n",
    "\n",
    "Leurs distributions a posteriori apparaissent symétriques autour de leur moyenne"
   ]
  },
  {
   "cell_type": "markdown",
   "metadata": {},
   "source": [
    "### Caractérisation des lois a posteriori des $(p_i)_i$"
   ]
  },
  {
   "cell_type": "markdown",
   "metadata": {},
   "source": [
    "On a vu que $p_i \\sim \\mathcal{B}(\\kappa \\mu + r_i,\\kappa(1-\\mu)+n_i-r_i)$\n"
   ]
  },
  {
   "cell_type": "code",
   "execution_count": 117,
   "metadata": {},
   "outputs": [
    {
     "data": {
      "text/plain": [
       "[<matplotlib.lines.Line2D at 0x7fa649017370>]"
      ]
     },
     "execution_count": 117,
     "metadata": {},
     "output_type": "execute_result"
    },
    {
     "data": {
      "image/png": "[encoded data removed]",
      "text/plain": [
       "<Figure size 432x288 with 1 Axes>"
      ]
     },
     "metadata": {
      "needs_background": "light"
     },
     "output_type": "display_data"
    }
   ],
   "source": [
    "# ex pour l'étude 1\n",
    "\n",
    "plt.plot(y[:,0])\n",
    "\n",
    "# MCMC trace "
   ]
  },
  {
   "cell_type": "code",
   "execution_count": 164,
   "metadata": {},
   "outputs": [
    {
     "data": {
      "text/plain": [
       "<matplotlib.legend.Legend at 0x7fa63fd940a0>"
      ]
     },
     "execution_count": 164,
     "metadata": {},
     "output_type": "execute_result"
    },
    {
     "data": {
      "image/png": "[encoded data removed]",
      "text/plain": [
       "<Figure size 432x288 with 1 Axes>"
      ]
     },
     "metadata": {
      "needs_background": "light"
     },
     "output_type": "display_data"
    }
   ],
   "source": [
    "# etude 1\n",
    "\n",
    "alpha=data['nb_pos'][0]+moy1*moy2\n",
    "beta=data['nb_test'][0]-data['nb_pos'][0]+moy2*(1-moy1)\n",
    "\n",
    "X=[np.random.beta(alpha,beta) for i in range(2000,10000)]\n",
    "\n",
    "sns.histplot(y[2000:,0],color='black')\n",
    "plt.axvline(data['prob'][0], color='red')\n",
    "sns.histplot(X, color=\"green\", kde=True)\n",
    "plt.legend([\"probabilité empirique de l'étude \",'loi beta','loi a posteriori'],loc=(0.3,0.5))"
   ]
  },
  {
   "cell_type": "code",
   "execution_count": 170,
   "metadata": {},
   "outputs": [
    {
     "name": "stderr",
     "output_type": "stream",
     "text": [
      "/home/guillot/anaconda3/lib/python3.8/site-packages/seaborn/distributions.py:305: UserWarning: Dataset has 0 variance; skipping density estimate.\n",
      "  warnings.warn(msg, UserWarning)\n"
     ]
    },
    {
     "data": {
      "text/plain": [
       "<matplotlib.legend.Legend at 0x7fa63f32c790>"
      ]
     },
     "execution_count": 170,
     "metadata": {},
     "output_type": "execute_result"
    },
    {
     "data": {
      "image/png": "[encoded data removed]",
      "text/plain": [
       "<Figure size 432x288 with 1 Axes>"
      ]
     },
     "metadata": {
      "needs_background": "light"
     },
     "output_type": "display_data"
    }
   ],
   "source": [
    "# etude 18 (celle où il y avait beaucoup de gens testés)\n",
    "\n",
    "alpha=data['nb_pos'][18]+moy1*moy2\n",
    "beta=data['nb_test'][18]-data['nb_pos'][18]+moy2*(1-moy1)\n",
    "\n",
    "X=[np.random.beta(alpha,beta) for i in range(2000,10000)]\n",
    "\n",
    "sns.histplot(y[2000:,18])\n",
    "plt.axvline(data['prob'][18], color='red')\n",
    "sns.histplot(X, color=\"green\", kde=True)\n",
    "plt.legend([\"probabilité empirique de l'étude\",'loi beta','loi a posteriori'],loc=(1.1,0.5))"
   ]
  },
  {
   "cell_type": "code",
   "execution_count": 171,
   "metadata": {},
   "outputs": [
    {
     "data": {
      "text/plain": [
       "<matplotlib.legend.Legend at 0x7fa63eea4220>"
      ]
     },
     "execution_count": 171,
     "metadata": {},
     "output_type": "execute_result"
    },
    {
     "data": {
      "image/png": "[encoded data removed]",
      "text/plain": [
       "<Figure size 432x288 with 1 Axes>"
      ]
     },
     "metadata": {
      "needs_background": "light"
     },
     "output_type": "display_data"
    }
   ],
   "source": [
    "# etude 89 (celle où il y avait une grande part de positifs)\n",
    "\n",
    "alpha=data['nb_pos'][89]+moy1*moy2\n",
    "beta=data['nb_test'][89]-data['nb_pos'][89]+moy2*(1-moy1)\n",
    "\n",
    "X=[np.random.beta(alpha,beta) for i in range(2000,10000)]\n",
    "\n",
    "sns.histplot(y[2000:,89])\n",
    "plt.axvline(data['prob'][89], color='red')\n",
    "sns.histplot(X, color=\"green\", kde=True)\n",
    "plt.legend([\"probabilité empirique de l'étude trouvée dans les données\",'loi beta','loi a posteriori'],loc=(1.1,0.5))"
   ]
  },
  {
   "cell_type": "markdown",
   "metadata": {},
   "source": [
    "Maintenant qu'on a simuler nos lois a posteriori, on peut faire varier sigma_1 et sigma_2 et analyser certains critères de convergence : \n",
    "\n",
    "1) trace du paramètre d'intérêt : le paramètre doit fluctuer aléatoirement ; OK, les traces ont été vues\n",
    "\n",
    "2) histogramme des valeurs générées ne dépend pas des valeurs initiales : à examiner\n",
    "\n",
    "3) taux d'acceptation pas trop élevés ni trop faibles\n",
    "\n",
    "4) tracer les fonctions d'autocorrélation : celles-ci doivent décroître rapidement\n",
    "\n",
    "5) utiliser le DSCM"
   ]
  },
  {
   "cell_type": "markdown",
   "metadata": {},
   "source": [
    "### critère 2"
   ]
  },
  {
   "cell_type": "code",
   "execution_count": 192,
   "metadata": {},
   "outputs": [
    {
     "name": "stderr",
     "output_type": "stream",
     "text": [
      "100%|██████████| 9999/9999 [01:03<00:00, 156.70it/s]\n"
     ]
    }
   ],
   "source": [
    "N = 10000\n",
    "y1 = np.zeros((N, 93))\n",
    "\n",
    "for i in range (0,91):\n",
    "    y1[0,i]=data['prob'][i]\n",
    "y1[0,91]=0.1                        # valeur initiale de mu = 0.1\n",
    "y1[0,92]=10\n",
    "\n",
    "\n",
    "for n in tqdm(range(1, 10000)):\n",
    "    y1[n] = metropolis_within_gibbs_bis(y1[n-1],sigma_1=0.5,sigma_2=2)"
   ]
  },
  {
   "cell_type": "code",
   "execution_count": 195,
   "metadata": {},
   "outputs": [
    {
     "name": "stderr",
     "output_type": "stream",
     "text": [
      "100%|██████████| 9999/9999 [01:04<00:00, 154.71it/s]\n"
     ]
    }
   ],
   "source": [
    "N = 10000\n",
    "y2 = np.zeros((N, 93))\n",
    "\n",
    "for i in range (0,91):\n",
    "    y2[0,i]=data['prob'][i]\n",
    "y2[0,91]=0.1                        # valeur initiale de mu = 0.9 \n",
    "y2[0,92]=10\n",
    "\n",
    "\n",
    "for n in tqdm(range(1, 10000)):\n",
    "    y2[n] = metropolis_within_gibbs_bis(y2[n-1],sigma_1=0.5,sigma_2=2)"
   ]
  },
  {
   "cell_type": "code",
   "execution_count": 198,
   "metadata": {},
   "outputs": [
    {
     "data": {
      "text/plain": [
       "Text(0.5, 1.0, 'Distribution de la loi a posteriori de mu pour des valeurs initiales de mu différentes')"
      ]
     },
     "execution_count": 198,
     "metadata": {},
     "output_type": "execute_result"
    },
    {
     "data": {
      "image/png": "[encoded data removed]",
      "text/plain": [
       "<Figure size 432x288 with 1 Axes>"
      ]
     },
     "metadata": {
      "needs_background": "light"
     },
     "output_type": "display_data"
    }
   ],
   "source": [
    "sns.histplot((y1[2000:,91]),color='red')\n",
    "sns.histplot((y2[2000:,91]),color='green')\n",
    "plt.legend(['mu=0.1','mu=0.9'])\n",
    "plt.title(\"Distribution de la loi a posteriori de mu pour des valeurs initiales de mu différentes\")"
   ]
  },
  {
   "cell_type": "code",
   "execution_count": 199,
   "metadata": {},
   "outputs": [
    {
     "name": "stderr",
     "output_type": "stream",
     "text": [
      "100%|██████████| 9999/9999 [01:00<00:00, 165.28it/s]\n"
     ]
    }
   ],
   "source": [
    "N = 10000\n",
    "y3 = np.zeros((N, 93))\n",
    "\n",
    "for i in range (0,91):\n",
    "    y3[0,i]=data['prob'][i]\n",
    "y3[0,91]=0.5                        \n",
    "y3[0,92]=1                           # valeur initiale de kappa=1\n",
    "\n",
    "\n",
    "for n in tqdm(range(1, 10000)):\n",
    "    y3[n] = metropolis_within_gibbs_bis(y3[n-1],sigma_1=0.5,sigma_2=2)"
   ]
  },
  {
   "cell_type": "code",
   "execution_count": 200,
   "metadata": {},
   "outputs": [
    {
     "name": "stderr",
     "output_type": "stream",
     "text": [
      "100%|██████████| 9999/9999 [00:57<00:00, 173.74it/s]\n"
     ]
    }
   ],
   "source": [
    "N = 10000\n",
    "y4 = np.zeros((N, 93))\n",
    "\n",
    "for i in range (0,91):\n",
    "    y4[0,i]=data['prob'][i]\n",
    "y4[0,91]=0.5                        \n",
    "y4[0,92]=10                           # valeur initiale de kappa=10\n",
    "\n",
    "\n",
    "for n in tqdm(range(1, 10000)):\n",
    "    y4[n] = metropolis_within_gibbs_bis(y4[n-1],sigma_1=0.5,sigma_2=2)"
   ]
  },
  {
   "cell_type": "code",
   "execution_count": 201,
   "metadata": {},
   "outputs": [
    {
     "data": {
      "text/plain": [
       "Text(0.5, 1.0, 'Distribution de la loi a posteriori de kappa pour des valeurs initiales de kappa différentes')"
      ]
     },
     "execution_count": 201,
     "metadata": {},
     "output_type": "execute_result"
    },
    {
     "data": {
      "image/png": "[encoded data removed]",
      "text/plain": [
       "<Figure size 432x288 with 1 Axes>"
      ]
     },
     "metadata": {
      "needs_background": "light"
     },
     "output_type": "display_data"
    }
   ],
   "source": [
    "sns.histplot((y3[2000:,92]),color='red')\n",
    "sns.histplot((y4[2000:,92]),color='green')\n",
    "plt.legend(['kappa=1','kappa=10'])\n",
    "plt.title(\"Distribution de la loi a posteriori de kappa pour des valeurs initiales de kappa différentes\")"
   ]
  },
  {
   "cell_type": "markdown",
   "metadata": {},
   "source": [
    "#### Bilan : critère 2 validé  globalement"
   ]
  },
  {
   "cell_type": "markdown",
   "metadata": {},
   "source": [
    "### critère 3"
   ]
  },
  {
   "cell_type": "markdown",
   "metadata": {},
   "source": [
    "Faisons varier sigma_1 et sigma_2 et examinons comment se comporte le taux d'acceptation : "
   ]
  },
  {
   "cell_type": "code",
   "execution_count": 207,
   "metadata": {},
   "outputs": [],
   "source": [
    "def metropolis_taux(x,sigma_1,sigma_2):\n",
    "    accept_mu=0                              # à la fin, vaudra 1 si on a modifié mu à l'issue du prog, 0 sinon                         # 10 000 itérations  \n",
    "    accept_kappa=0                           # idem\n",
    "    \n",
    "    mu=x[91]      \n",
    "    kap=x[92]\n",
    "    y=np.zeros(93) \n",
    "    \n",
    "    for i in range(0,91):\n",
    "        a = mu*kap+data['nb_pos'][i]\n",
    "        b = data['nb_test'][i]-data['nb_pos'][i]+kap*(1-mu)\n",
    "        y[i]=np.random.beta(a,b)\n",
    "    \n",
    "    z = mu + sigma_1 * np.random.randn()      \n",
    "    \n",
    "    if indicatrice1(z)==0:\n",
    "        seuil=-np.inf\n",
    "    else:\n",
    "        quantite_1=-91*np.log(gammar(kap*z)*gammar(kap*(1-z)))\n",
    "        quantite_2=-91*np.log(gammar(kap*mu)*gammar(kap*(1-mu)))\n",
    "        quantite_3=(kap*(z-mu))*(sum([np.log(y[i]/(1-y[i])) for i in range(0,91)]))\n",
    "        seuil=min(0,quantite_1+quantite_3-quantite_2)\n",
    "                                                                   \n",
    "    if np.log(np.random.rand()) < seuil:            \n",
    "        y[91]=z\n",
    "        accept_mu+=1                    # on accepte mucomme nouvelle valeur de kappa donc on ajoute 1 à accepts\n",
    "    \n",
    "    else:\n",
    "        y[91]=mu                             \n",
    "    \n",
    "    \n",
    "    w = kap + sigma_2 * np.random.randn()         \n",
    "    \n",
    "    if indicatrice2(w)==0:\n",
    "        seuil=-np.inf\n",
    "    else:\n",
    "        quantite_1=-0.1*(w-kap)\n",
    "        quantite_2=91*np.log(gammar(w)/(gammar(w*y[91])*gammar(w*(1-y[91]))))\n",
    "        quantite_3=91*np.log(gammar(kap)/(gammar(kap*y[91])*gammar(kap*(1-y[91]))))\n",
    "        quantite_4=(y[91]*(w-kap))*(sum([np.log(y[i]/(1-y[i])) for i in range(0,91)]))\n",
    "        quantite_5=(w-kap)*(sum([np.log(1-y[i]) for i in range(0,91)]))\n",
    "        seuil=min(0,(quantite_1+quantite_2+quantite_4+quantite_5)-quantite_3)\n",
    "        \n",
    "    if np.log(np.random.rand()) < seuil:             \n",
    "        y[92]=w\n",
    "        accept_kappa+=1                 # on accepte w comme nouvelle valeur de kappa donc on ajoute 1 à accepts\n",
    "    \n",
    "    else:\n",
    "        y[92]=kap                            \n",
    "\n",
    "    \n",
    "    return y,accept_mu,accept_kappa     # on retourne les accepts en plus de y"
   ]
  },
  {
   "cell_type": "code",
   "execution_count": 230,
   "metadata": {},
   "outputs": [],
   "source": [
    "def taux_acceptation(sigma_1,sigma_2):    # fonction qui évalue nos taux d'acceptation en fonction des varianes\n",
    "    N = 1000                           \n",
    "    y = np.zeros((N, 93))\n",
    "\n",
    "    for i in range (0,91):\n",
    "        y[0,i]=data['prob'][i]\n",
    "    y[0,91]=0.5\n",
    "    y[0,92]=10\n",
    "    \n",
    "    nb_accepts_mu=0\n",
    "    nb_accepts_kappa=0\n",
    "\n",
    "    for n in tqdm(range(1, 1000)):\n",
    "        r=metropolis_taux(y[n-1],sigma_1,sigma_2)\n",
    "        y[n]=r[0]\n",
    "        nb_accepts_mu+=r[1]\n",
    "        nb_accepts_kappa+=r[2]\n",
    "    \n",
    "    return (nb_accepts_mu/999)*100,(nb_accepts_kappa/999)*100\n",
    "\n"
   ]
  },
  {
   "cell_type": "code",
   "execution_count": 231,
   "metadata": {},
   "outputs": [
    {
     "name": "stderr",
     "output_type": "stream",
     "text": [
      "100%|██████████| 999/999 [00:06<00:00, 161.70it/s]\n"
     ]
    },
    {
     "data": {
      "text/plain": [
       "(2.1021021021021022, 44.54454454454454)"
      ]
     },
     "execution_count": 231,
     "metadata": {},
     "output_type": "execute_result"
    }
   ],
   "source": [
    "taux_acceptation(0.3,2)  # un petit ex pour les écarts-types \n",
    "                         # qu'on a utilisés jusqu'à présent : sigma_1 = 0.3 et sigma_2 = 2"
   ]
  },
  {
   "cell_type": "markdown",
   "metadata": {},
   "source": [
    "Pour ces écarts-types (utilisés jusqu'à présent), le taux d'acceptation pour mu est de 2.1% et pour kappa, il est de 44.54%"
   ]
  },
  {
   "cell_type": "code",
   "execution_count": 339,
   "metadata": {},
   "outputs": [
    {
     "name": "stderr",
     "output_type": "stream",
     "text": [
      "100%|██████████| 999/999 [00:06<00:00, 158.77it/s]\n",
      "100%|██████████| 999/999 [00:06<00:00, 159.03it/s]\n",
      "100%|██████████| 999/999 [00:06<00:00, 152.88it/s]\n",
      "100%|██████████| 999/999 [00:06<00:00, 158.22it/s]\n",
      "100%|██████████| 999/999 [00:06<00:00, 156.49it/s]\n",
      "100%|██████████| 999/999 [00:06<00:00, 162.63it/s]\n",
      "100%|██████████| 999/999 [00:06<00:00, 154.94it/s]\n",
      "100%|██████████| 999/999 [00:05<00:00, 167.87it/s]\n",
      "100%|██████████| 999/999 [00:06<00:00, 165.62it/s]\n",
      "100%|██████████| 999/999 [00:05<00:00, 172.30it/s]\n",
      "100%|██████████| 999/999 [00:05<00:00, 180.35it/s]\n",
      "100%|██████████| 999/999 [00:06<00:00, 161.01it/s]\n",
      "100%|██████████| 999/999 [00:06<00:00, 159.87it/s]\n",
      "100%|██████████| 999/999 [00:06<00:00, 165.57it/s]\n",
      "100%|██████████| 999/999 [00:06<00:00, 159.33it/s]\n",
      "100%|██████████| 999/999 [00:06<00:00, 156.85it/s]\n",
      "100%|██████████| 999/999 [00:06<00:00, 158.92it/s]\n",
      "100%|██████████| 999/999 [00:06<00:00, 152.25it/s]\n",
      "100%|██████████| 999/999 [00:06<00:00, 164.53it/s]\n",
      "100%|██████████| 999/999 [00:05<00:00, 175.07it/s]\n",
      "100%|██████████| 999/999 [00:05<00:00, 174.67it/s]\n",
      "100%|██████████| 999/999 [00:05<00:00, 183.69it/s]\n",
      "100%|██████████| 999/999 [00:05<00:00, 166.99it/s]\n",
      "100%|██████████| 999/999 [00:06<00:00, 166.11it/s]\n",
      "100%|██████████| 999/999 [00:06<00:00, 165.19it/s]\n",
      "100%|██████████| 999/999 [00:05<00:00, 178.59it/s]\n",
      "100%|██████████| 999/999 [00:06<00:00, 164.84it/s]\n",
      "100%|██████████| 999/999 [00:06<00:00, 161.76it/s]\n",
      "100%|██████████| 999/999 [00:05<00:00, 175.45it/s]\n",
      "100%|██████████| 999/999 [00:05<00:00, 171.08it/s]\n",
      "100%|██████████| 999/999 [00:05<00:00, 176.18it/s]\n",
      "100%|██████████| 999/999 [00:05<00:00, 187.74it/s]\n",
      "100%|██████████| 999/999 [00:06<00:00, 166.42it/s]\n",
      "100%|██████████| 999/999 [00:06<00:00, 147.76it/s]\n",
      "100%|██████████| 999/999 [00:06<00:00, 148.02it/s]\n",
      "100%|██████████| 999/999 [00:06<00:00, 156.46it/s]\n",
      "100%|██████████| 999/999 [00:06<00:00, 158.34it/s]\n",
      "100%|██████████| 999/999 [00:06<00:00, 150.78it/s]\n",
      "100%|██████████| 999/999 [00:06<00:00, 154.50it/s]\n",
      "100%|██████████| 999/999 [00:06<00:00, 155.59it/s]\n",
      "100%|██████████| 999/999 [00:06<00:00, 158.29it/s]\n",
      "100%|██████████| 999/999 [00:06<00:00, 146.19it/s]\n",
      "100%|██████████| 999/999 [00:06<00:00, 158.24it/s]\n",
      "100%|██████████| 999/999 [00:06<00:00, 162.93it/s]\n",
      "100%|██████████| 999/999 [00:06<00:00, 160.30it/s]\n",
      "100%|██████████| 999/999 [00:06<00:00, 145.63it/s]\n",
      "100%|██████████| 999/999 [00:06<00:00, 145.99it/s]\n",
      "100%|██████████| 999/999 [00:06<00:00, 147.83it/s]\n",
      "100%|██████████| 999/999 [00:06<00:00, 151.52it/s]\n",
      "100%|██████████| 999/999 [00:06<00:00, 150.01it/s]\n",
      "100%|██████████| 999/999 [00:06<00:00, 147.60it/s]\n",
      "100%|██████████| 999/999 [00:07<00:00, 142.62it/s]\n",
      "100%|██████████| 999/999 [00:06<00:00, 150.94it/s]\n",
      "100%|██████████| 999/999 [00:06<00:00, 157.38it/s]\n",
      "100%|██████████| 999/999 [00:06<00:00, 164.44it/s]\n",
      "100%|██████████| 999/999 [00:07<00:00, 141.05it/s]\n",
      "100%|██████████| 999/999 [00:07<00:00, 138.16it/s]\n",
      "100%|██████████| 999/999 [00:06<00:00, 148.68it/s]\n",
      "100%|██████████| 999/999 [00:06<00:00, 145.85it/s]\n",
      "100%|██████████| 999/999 [00:06<00:00, 143.62it/s]\n",
      "100%|██████████| 999/999 [00:07<00:00, 141.00it/s]\n",
      "100%|██████████| 999/999 [00:06<00:00, 156.99it/s]\n",
      "100%|██████████| 999/999 [00:06<00:00, 153.60it/s]\n",
      "100%|██████████| 999/999 [00:05<00:00, 171.51it/s]\n",
      "100%|██████████| 999/999 [00:06<00:00, 159.33it/s]\n",
      "100%|██████████| 999/999 [00:06<00:00, 145.09it/s]\n",
      "100%|██████████| 999/999 [00:06<00:00, 148.41it/s]\n",
      "100%|██████████| 999/999 [00:06<00:00, 164.08it/s]\n",
      "100%|██████████| 999/999 [00:06<00:00, 153.60it/s]\n",
      "100%|██████████| 999/999 [00:05<00:00, 168.14it/s]\n",
      "100%|██████████| 999/999 [00:06<00:00, 159.80it/s]\n",
      "100%|██████████| 999/999 [00:06<00:00, 166.31it/s]\n",
      "100%|██████████| 999/999 [00:06<00:00, 149.15it/s]\n",
      "100%|██████████| 999/999 [00:07<00:00, 142.24it/s]\n",
      "100%|██████████| 999/999 [00:06<00:00, 149.29it/s]\n",
      "100%|██████████| 999/999 [00:07<00:00, 141.05it/s]\n",
      "100%|██████████| 999/999 [00:07<00:00, 127.07it/s]\n",
      "100%|██████████| 999/999 [00:08<00:00, 121.72it/s]\n",
      "100%|██████████| 999/999 [00:07<00:00, 138.47it/s]\n",
      "100%|██████████| 999/999 [00:07<00:00, 140.18it/s]\n",
      "100%|██████████| 999/999 [00:07<00:00, 125.41it/s]\n",
      "100%|██████████| 999/999 [00:06<00:00, 150.70it/s]\n",
      "100%|██████████| 999/999 [00:06<00:00, 152.11it/s]\n",
      "100%|██████████| 999/999 [00:07<00:00, 139.89it/s]\n",
      "100%|██████████| 999/999 [00:05<00:00, 177.22it/s]\n",
      "100%|██████████| 999/999 [00:05<00:00, 185.54it/s]\n",
      "100%|██████████| 999/999 [00:05<00:00, 182.74it/s]\n",
      "100%|██████████| 999/999 [00:05<00:00, 191.56it/s]\n",
      "100%|██████████| 999/999 [00:05<00:00, 189.98it/s]\n",
      "100%|██████████| 999/999 [00:05<00:00, 190.91it/s]\n",
      "100%|██████████| 999/999 [00:05<00:00, 185.96it/s]\n",
      "100%|██████████| 999/999 [00:06<00:00, 151.48it/s]\n",
      "100%|██████████| 999/999 [00:07<00:00, 129.96it/s]\n",
      "100%|██████████| 999/999 [00:06<00:00, 149.87it/s]\n",
      "100%|██████████| 999/999 [00:08<00:00, 124.29it/s]\n",
      "100%|██████████| 999/999 [00:06<00:00, 154.75it/s]\n",
      "100%|██████████| 999/999 [00:06<00:00, 149.76it/s]\n",
      "100%|██████████| 999/999 [00:06<00:00, 161.47it/s]\n",
      "100%|██████████| 999/999 [00:05<00:00, 169.88it/s]\n",
      "100%|██████████| 999/999 [00:06<00:00, 154.61it/s]\n",
      "100%|██████████| 999/999 [00:07<00:00, 133.71it/s]\n",
      "100%|██████████| 999/999 [00:07<00:00, 142.57it/s]\n",
      "100%|██████████| 999/999 [00:06<00:00, 148.26it/s]\n",
      "100%|██████████| 999/999 [00:07<00:00, 136.28it/s]\n",
      "100%|██████████| 999/999 [00:06<00:00, 150.88it/s]\n",
      "100%|██████████| 999/999 [00:07<00:00, 129.40it/s]\n",
      "100%|██████████| 999/999 [00:07<00:00, 130.61it/s]\n",
      "100%|██████████| 999/999 [00:05<00:00, 182.07it/s]\n",
      "100%|██████████| 999/999 [00:05<00:00, 179.13it/s]\n",
      "100%|██████████| 999/999 [00:05<00:00, 182.86it/s]\n",
      "100%|██████████| 999/999 [00:05<00:00, 185.85it/s]\n",
      "100%|██████████| 999/999 [00:06<00:00, 166.28it/s]\n",
      "100%|██████████| 999/999 [00:07<00:00, 130.50it/s]\n",
      "100%|██████████| 999/999 [00:05<00:00, 169.75it/s]\n",
      "100%|██████████| 999/999 [00:06<00:00, 155.13it/s]\n",
      "100%|██████████| 999/999 [00:07<00:00, 131.04it/s]\n",
      "100%|██████████| 999/999 [00:06<00:00, 149.67it/s]\n",
      "100%|██████████| 999/999 [00:06<00:00, 148.03it/s]\n",
      "100%|██████████| 999/999 [00:05<00:00, 173.21it/s]\n",
      "100%|██████████| 999/999 [00:06<00:00, 165.11it/s]\n",
      "100%|██████████| 999/999 [00:05<00:00, 172.70it/s]\n",
      "100%|██████████| 999/999 [00:05<00:00, 167.40it/s]\n",
      "100%|██████████| 999/999 [00:05<00:00, 180.35it/s]\n",
      "100%|██████████| 999/999 [00:05<00:00, 168.54it/s]\n",
      "100%|██████████| 999/999 [00:06<00:00, 165.13it/s]\n",
      "100%|██████████| 999/999 [00:05<00:00, 171.77it/s]\n",
      "100%|██████████| 999/999 [00:07<00:00, 135.80it/s]\n",
      "100%|██████████| 999/999 [00:06<00:00, 152.29it/s]\n",
      "100%|██████████| 999/999 [00:06<00:00, 147.20it/s]\n",
      "100%|██████████| 999/999 [00:06<00:00, 154.05it/s]\n",
      "100%|██████████| 999/999 [00:06<00:00, 159.42it/s]\n",
      "100%|██████████| 999/999 [00:06<00:00, 151.39it/s]\n",
      "100%|██████████| 999/999 [00:06<00:00, 152.72it/s]\n",
      "100%|██████████| 999/999 [00:07<00:00, 133.42it/s]\n",
      "100%|██████████| 999/999 [00:06<00:00, 158.13it/s]\n",
      "100%|██████████| 999/999 [00:05<00:00, 172.74it/s]\n",
      "100%|██████████| 999/999 [00:06<00:00, 165.57it/s]\n",
      "100%|██████████| 999/999 [00:05<00:00, 167.64it/s]\n",
      "100%|██████████| 999/999 [00:07<00:00, 141.55it/s]\n",
      "100%|██████████| 999/999 [00:05<00:00, 173.69it/s]\n",
      "100%|██████████| 999/999 [00:05<00:00, 171.25it/s]\n",
      "100%|██████████| 999/999 [00:06<00:00, 163.14it/s]\n",
      "100%|██████████| 999/999 [00:06<00:00, 164.82it/s]\n",
      "100%|██████████| 999/999 [00:06<00:00, 165.69it/s]\n",
      "100%|██████████| 999/999 [00:06<00:00, 165.60it/s]\n",
      "100%|██████████| 999/999 [00:06<00:00, 162.50it/s]\n",
      "100%|██████████| 999/999 [00:05<00:00, 169.88it/s]\n",
      "100%|██████████| 999/999 [00:06<00:00, 144.86it/s]\n",
      "100%|██████████| 999/999 [00:07<00:00, 139.03it/s]\n",
      "100%|██████████| 999/999 [00:06<00:00, 150.23it/s]\n",
      "100%|██████████| 999/999 [00:06<00:00, 149.34it/s]\n",
      "100%|██████████| 999/999 [00:06<00:00, 156.15it/s]\n",
      "100%|██████████| 999/999 [00:06<00:00, 152.73it/s]\n",
      "100%|██████████| 999/999 [00:06<00:00, 154.85it/s]\n",
      "100%|██████████| 999/999 [00:06<00:00, 154.08it/s]\n",
      "100%|██████████| 999/999 [00:06<00:00, 151.30it/s]\n",
      "100%|██████████| 999/999 [00:06<00:00, 156.65it/s]\n",
      "100%|██████████| 999/999 [00:06<00:00, 165.21it/s]\n",
      "100%|██████████| 999/999 [00:06<00:00, 153.90it/s]\n",
      "100%|██████████| 999/999 [00:06<00:00, 156.32it/s]\n"
     ]
    },
    {
     "name": "stderr",
     "output_type": "stream",
     "text": [
      "100%|██████████| 999/999 [00:06<00:00, 151.72it/s]\n",
      "100%|██████████| 999/999 [00:06<00:00, 150.20it/s]\n",
      "100%|██████████| 999/999 [00:06<00:00, 164.17it/s]\n",
      "100%|██████████| 999/999 [00:05<00:00, 168.42it/s]\n",
      "100%|██████████| 999/999 [00:06<00:00, 151.70it/s]\n",
      "100%|██████████| 999/999 [00:06<00:00, 156.68it/s]\n",
      "100%|██████████| 999/999 [00:05<00:00, 169.97it/s]\n",
      "100%|██████████| 999/999 [00:05<00:00, 189.60it/s]\n",
      "100%|██████████| 999/999 [00:05<00:00, 183.80it/s]\n",
      "100%|██████████| 999/999 [00:05<00:00, 169.78it/s]\n",
      "100%|██████████| 999/999 [00:05<00:00, 187.02it/s]\n",
      "100%|██████████| 999/999 [00:05<00:00, 182.01it/s]\n",
      "100%|██████████| 999/999 [00:05<00:00, 176.54it/s]\n",
      "100%|██████████| 999/999 [00:05<00:00, 185.04it/s]\n",
      "100%|██████████| 999/999 [00:05<00:00, 178.27it/s]\n",
      "100%|██████████| 999/999 [00:05<00:00, 184.55it/s]\n",
      "100%|██████████| 999/999 [00:05<00:00, 182.34it/s]\n",
      "100%|██████████| 999/999 [00:05<00:00, 179.28it/s]\n",
      "100%|██████████| 999/999 [00:05<00:00, 184.34it/s]\n",
      "100%|██████████| 999/999 [00:05<00:00, 179.54it/s]\n",
      "100%|██████████| 999/999 [00:05<00:00, 181.04it/s]\n",
      "100%|██████████| 999/999 [00:05<00:00, 184.62it/s]\n",
      "100%|██████████| 999/999 [00:05<00:00, 170.16it/s]\n",
      "100%|██████████| 999/999 [00:06<00:00, 149.57it/s]\n",
      "100%|██████████| 999/999 [00:05<00:00, 184.48it/s]\n",
      "100%|██████████| 999/999 [00:05<00:00, 186.19it/s]\n",
      "100%|██████████| 999/999 [00:05<00:00, 191.48it/s]\n",
      "100%|██████████| 999/999 [00:05<00:00, 185.88it/s]\n",
      "100%|██████████| 999/999 [00:05<00:00, 178.45it/s]\n",
      "100%|██████████| 999/999 [00:05<00:00, 180.40it/s]\n",
      "100%|██████████| 999/999 [00:05<00:00, 168.93it/s]\n",
      "100%|██████████| 999/999 [00:05<00:00, 184.00it/s]\n",
      "100%|██████████| 999/999 [00:05<00:00, 181.37it/s]\n",
      "100%|██████████| 999/999 [00:05<00:00, 187.12it/s]\n",
      "100%|██████████| 999/999 [00:05<00:00, 173.33it/s]\n",
      "100%|██████████| 999/999 [00:05<00:00, 187.04it/s]\n",
      "100%|██████████| 999/999 [00:05<00:00, 167.30it/s]\n",
      "100%|██████████| 999/999 [00:06<00:00, 151.79it/s]\n",
      "100%|██████████| 999/999 [00:05<00:00, 169.78it/s]\n",
      "100%|██████████| 999/999 [00:05<00:00, 174.07it/s]\n",
      "100%|██████████| 999/999 [00:05<00:00, 183.92it/s]\n",
      "100%|██████████| 999/999 [00:05<00:00, 187.02it/s]\n",
      "100%|██████████| 999/999 [00:05<00:00, 185.62it/s]\n",
      "100%|██████████| 999/999 [00:05<00:00, 175.77it/s]\n",
      "100%|██████████| 999/999 [00:05<00:00, 183.55it/s]\n",
      "100%|██████████| 999/999 [00:05<00:00, 184.49it/s]\n",
      "100%|██████████| 999/999 [00:05<00:00, 184.38it/s]\n",
      "100%|██████████| 999/999 [00:05<00:00, 184.00it/s]\n",
      "100%|██████████| 999/999 [00:05<00:00, 187.34it/s]\n",
      "100%|██████████| 999/999 [00:05<00:00, 183.38it/s]\n",
      "100%|██████████| 999/999 [00:05<00:00, 181.89it/s]\n",
      "100%|██████████| 999/999 [00:05<00:00, 186.88it/s]\n",
      "100%|██████████| 999/999 [00:05<00:00, 188.13it/s]\n",
      "100%|██████████| 999/999 [00:05<00:00, 186.86it/s]\n",
      "100%|██████████| 999/999 [00:05<00:00, 185.58it/s]\n",
      "100%|██████████| 999/999 [00:05<00:00, 169.19it/s]\n",
      "100%|██████████| 999/999 [00:05<00:00, 184.16it/s]\n",
      "100%|██████████| 999/999 [00:05<00:00, 187.21it/s]\n",
      "100%|██████████| 999/999 [00:05<00:00, 188.90it/s]\n",
      "100%|██████████| 999/999 [00:06<00:00, 163.03it/s]\n",
      "100%|██████████| 999/999 [00:06<00:00, 166.41it/s]\n",
      "100%|██████████| 999/999 [00:05<00:00, 184.69it/s]\n",
      "100%|██████████| 999/999 [00:05<00:00, 180.96it/s]\n",
      "100%|██████████| 999/999 [00:05<00:00, 186.34it/s]\n",
      "100%|██████████| 999/999 [00:05<00:00, 184.64it/s]\n",
      "100%|██████████| 999/999 [00:05<00:00, 184.01it/s]\n",
      "100%|██████████| 999/999 [00:05<00:00, 184.95it/s]\n",
      "100%|██████████| 999/999 [00:05<00:00, 192.44it/s]\n",
      "100%|██████████| 999/999 [00:05<00:00, 190.76it/s]\n",
      "100%|██████████| 999/999 [00:05<00:00, 189.92it/s]\n",
      "100%|██████████| 999/999 [00:05<00:00, 186.55it/s]\n",
      "100%|██████████| 999/999 [00:05<00:00, 185.23it/s]\n",
      "100%|██████████| 999/999 [00:05<00:00, 193.45it/s]\n",
      "100%|██████████| 999/999 [00:05<00:00, 195.68it/s]\n",
      "100%|██████████| 999/999 [00:05<00:00, 190.77it/s]\n",
      "100%|██████████| 999/999 [00:06<00:00, 156.42it/s]\n",
      "100%|██████████| 999/999 [00:06<00:00, 161.27it/s]\n",
      "100%|██████████| 999/999 [00:06<00:00, 166.41it/s]\n",
      "100%|██████████| 999/999 [00:05<00:00, 174.43it/s]\n",
      "100%|██████████| 999/999 [00:05<00:00, 169.98it/s]\n",
      "100%|██████████| 999/999 [00:05<00:00, 172.63it/s]\n",
      "100%|██████████| 999/999 [00:06<00:00, 164.61it/s]\n",
      "100%|██████████| 999/999 [00:05<00:00, 180.43it/s]\n",
      "100%|██████████| 999/999 [00:05<00:00, 181.40it/s]\n",
      "100%|██████████| 999/999 [00:05<00:00, 180.55it/s]\n",
      "100%|██████████| 999/999 [00:05<00:00, 177.91it/s]\n",
      "100%|██████████| 999/999 [00:06<00:00, 165.29it/s]\n",
      "100%|██████████| 999/999 [00:05<00:00, 172.64it/s]\n",
      "100%|██████████| 999/999 [00:05<00:00, 184.90it/s]\n",
      "100%|██████████| 999/999 [00:06<00:00, 166.43it/s]\n",
      "100%|██████████| 999/999 [00:05<00:00, 180.80it/s]\n",
      "100%|██████████| 999/999 [00:05<00:00, 182.09it/s]\n",
      "100%|██████████| 999/999 [00:05<00:00, 183.31it/s]\n",
      "100%|██████████| 999/999 [00:05<00:00, 181.88it/s]\n",
      "100%|██████████| 999/999 [00:05<00:00, 189.92it/s]\n",
      "100%|██████████| 999/999 [00:05<00:00, 185.56it/s]\n",
      "100%|██████████| 999/999 [00:05<00:00, 185.25it/s]\n",
      "100%|██████████| 999/999 [00:05<00:00, 191.40it/s]\n",
      "100%|██████████| 999/999 [00:05<00:00, 183.96it/s]\n",
      "100%|██████████| 999/999 [00:05<00:00, 178.59it/s]\n",
      "100%|██████████| 999/999 [00:05<00:00, 185.31it/s]\n",
      "100%|██████████| 999/999 [00:05<00:00, 187.81it/s]\n",
      "100%|██████████| 999/999 [00:05<00:00, 196.42it/s]\n",
      "100%|██████████| 999/999 [00:05<00:00, 181.66it/s]\n",
      "100%|██████████| 999/999 [00:05<00:00, 190.56it/s]\n",
      "100%|██████████| 999/999 [00:05<00:00, 196.48it/s]\n",
      "100%|██████████| 999/999 [00:05<00:00, 171.02it/s]\n",
      "100%|██████████| 999/999 [00:05<00:00, 192.73it/s]\n",
      "100%|██████████| 999/999 [00:05<00:00, 193.87it/s]\n",
      "100%|██████████| 999/999 [00:06<00:00, 159.71it/s]\n",
      "100%|██████████| 999/999 [00:06<00:00, 149.40it/s]\n",
      "100%|██████████| 999/999 [00:06<00:00, 165.51it/s]\n",
      "100%|██████████| 999/999 [00:06<00:00, 163.51it/s]\n",
      "100%|██████████| 999/999 [00:06<00:00, 161.96it/s]\n",
      "100%|██████████| 999/999 [00:06<00:00, 153.03it/s]\n",
      "100%|██████████| 999/999 [00:06<00:00, 164.27it/s]\n",
      "100%|██████████| 999/999 [00:06<00:00, 163.77it/s]\n",
      "100%|██████████| 999/999 [00:06<00:00, 165.98it/s]\n",
      "100%|██████████| 999/999 [00:06<00:00, 161.63it/s]\n",
      "100%|██████████| 999/999 [00:06<00:00, 152.67it/s]\n",
      "100%|██████████| 999/999 [00:06<00:00, 156.13it/s]\n",
      "100%|██████████| 999/999 [00:06<00:00, 154.24it/s]\n",
      "100%|██████████| 999/999 [00:06<00:00, 154.61it/s]\n",
      "100%|██████████| 999/999 [00:06<00:00, 161.96it/s]\n",
      "100%|██████████| 999/999 [00:06<00:00, 161.17it/s]\n",
      "100%|██████████| 999/999 [00:06<00:00, 156.48it/s]\n",
      "100%|██████████| 999/999 [00:06<00:00, 150.16it/s]\n",
      "100%|██████████| 999/999 [00:06<00:00, 143.96it/s]\n",
      "100%|██████████| 999/999 [00:06<00:00, 147.45it/s]\n",
      "100%|██████████| 999/999 [00:06<00:00, 151.23it/s]\n",
      "100%|██████████| 999/999 [00:06<00:00, 154.71it/s]\n",
      "100%|██████████| 999/999 [00:06<00:00, 149.48it/s]\n",
      "100%|██████████| 999/999 [00:07<00:00, 136.07it/s]\n",
      "100%|██████████| 999/999 [00:06<00:00, 157.03it/s]\n",
      "100%|██████████| 999/999 [00:05<00:00, 167.70it/s]\n",
      "100%|██████████| 999/999 [00:06<00:00, 165.77it/s]\n",
      "100%|██████████| 999/999 [00:06<00:00, 152.51it/s]\n",
      "100%|██████████| 999/999 [00:06<00:00, 155.23it/s]\n",
      "100%|██████████| 999/999 [00:06<00:00, 153.42it/s]\n",
      "100%|██████████| 999/999 [00:05<00:00, 166.58it/s]\n"
     ]
    }
   ],
   "source": [
    "# faisons maintenant varier sigma_1 et sigma_2 \n",
    "\n",
    "l_mu, l_kappa = [],[]\n",
    "for sigma_1 in np.linspace(0.01,0.1,10):                # sigma_1 va de 0,01 ; 0,02 ;... jusqu'à 0.1\n",
    "    for sigma_2 in np.linspace(0.1,3,30):               # sigma_2 va de 0,1 ; 0,2 ;... jusqu'à 3\n",
    "        r=taux_acceptation(sigma_1,sigma_2)\n",
    "        l_mu.append(r[0])\n",
    "        l_kappa.append(r[1])"
   ]
  },
  {
   "cell_type": "markdown",
   "metadata": {},
   "source": [
    "On a ainsi 300 couples différents de ($\\sigma_1$,$\\sigma_2$)"
   ]
  },
  {
   "cell_type": "code",
   "execution_count": 366,
   "metadata": {},
   "outputs": [],
   "source": [
    "# dataframe regroupant les résultats\n",
    "\n",
    "# liste pour sigma_1\n",
    "\n",
    "sigma_1=[]\n",
    "for k in np.linspace(0.01,0.1,10):\n",
    "    sigma_1+=30*[k]\n",
    "    \n",
    "\n",
    "# liste pour sigma_2\n",
    "\n",
    "sigma_2=[]\n",
    "for k in range(0,10):\n",
    "    sigma_2=np.hstack((sigma_2,np.linspace(0.1,3,30)))\n",
    "    \n",
    "df = pd.DataFrame({'sigma_1':sigma_1, 'sigma_2':sigma_2, 'taux_mu':l_mu, 'taux_kappa':l_kappa})\n",
    "df['sigma_1']=df['sigma_1'].apply(lambda s: np.round(s,2))"
   ]
  },
  {
   "cell_type": "code",
   "execution_count": 367,
   "metadata": {},
   "outputs": [
    {
     "data": {
      "text/html": [
       "<div>\n",
       "<style scoped>\n",
       "    .dataframe tbody tr th:only-of-type {\n",
       "        vertical-align: middle;\n",
       "    }\n",
       "\n",
       "    .dataframe tbody tr th {\n",
       "        vertical-align: top;\n",
       "    }\n",
       "\n",
       "    .dataframe thead th {\n",
       "        text-align: right;\n",
       "    }\n",
       "</style>\n",
       "<table border=\"1\" class=\"dataframe\">\n",
       "  <thead>\n",
       "    <tr style=\"text-align: right;\">\n",
       "      <th></th>\n",
       "      <th>sigma_1</th>\n",
       "      <th>sigma_2</th>\n",
       "      <th>taux_mu</th>\n",
       "      <th>taux_kappa</th>\n",
       "    </tr>\n",
       "  </thead>\n",
       "  <tbody>\n",
       "    <tr>\n",
       "      <th>0</th>\n",
       "      <td>0.01</td>\n",
       "      <td>0.1</td>\n",
       "      <td>56.056056</td>\n",
       "      <td>93.793794</td>\n",
       "    </tr>\n",
       "    <tr>\n",
       "      <th>1</th>\n",
       "      <td>0.01</td>\n",
       "      <td>0.2</td>\n",
       "      <td>60.860861</td>\n",
       "      <td>90.290290</td>\n",
       "    </tr>\n",
       "    <tr>\n",
       "      <th>2</th>\n",
       "      <td>0.01</td>\n",
       "      <td>0.3</td>\n",
       "      <td>58.858859</td>\n",
       "      <td>83.283283</td>\n",
       "    </tr>\n",
       "    <tr>\n",
       "      <th>3</th>\n",
       "      <td>0.01</td>\n",
       "      <td>0.4</td>\n",
       "      <td>57.957958</td>\n",
       "      <td>81.181181</td>\n",
       "    </tr>\n",
       "    <tr>\n",
       "      <th>4</th>\n",
       "      <td>0.01</td>\n",
       "      <td>0.5</td>\n",
       "      <td>56.556557</td>\n",
       "      <td>80.280280</td>\n",
       "    </tr>\n",
       "    <tr>\n",
       "      <th>...</th>\n",
       "      <td>...</td>\n",
       "      <td>...</td>\n",
       "      <td>...</td>\n",
       "      <td>...</td>\n",
       "    </tr>\n",
       "    <tr>\n",
       "      <th>295</th>\n",
       "      <td>0.10</td>\n",
       "      <td>2.6</td>\n",
       "      <td>8.608609</td>\n",
       "      <td>40.240240</td>\n",
       "    </tr>\n",
       "    <tr>\n",
       "      <th>296</th>\n",
       "      <td>0.10</td>\n",
       "      <td>2.7</td>\n",
       "      <td>7.607608</td>\n",
       "      <td>39.939940</td>\n",
       "    </tr>\n",
       "    <tr>\n",
       "      <th>297</th>\n",
       "      <td>0.10</td>\n",
       "      <td>2.8</td>\n",
       "      <td>8.808809</td>\n",
       "      <td>39.339339</td>\n",
       "    </tr>\n",
       "    <tr>\n",
       "      <th>298</th>\n",
       "      <td>0.10</td>\n",
       "      <td>2.9</td>\n",
       "      <td>7.907908</td>\n",
       "      <td>39.939940</td>\n",
       "    </tr>\n",
       "    <tr>\n",
       "      <th>299</th>\n",
       "      <td>0.10</td>\n",
       "      <td>3.0</td>\n",
       "      <td>8.708709</td>\n",
       "      <td>36.736737</td>\n",
       "    </tr>\n",
       "  </tbody>\n",
       "</table>\n",
       "<p>300 rows × 4 columns</p>\n",
       "</div>"
      ],
      "text/plain": [
       "     sigma_1  sigma_2    taux_mu  taux_kappa\n",
       "0       0.01      0.1  56.056056   93.793794\n",
       "1       0.01      0.2  60.860861   90.290290\n",
       "2       0.01      0.3  58.858859   83.283283\n",
       "3       0.01      0.4  57.957958   81.181181\n",
       "4       0.01      0.5  56.556557   80.280280\n",
       "..       ...      ...        ...         ...\n",
       "295     0.10      2.6   8.608609   40.240240\n",
       "296     0.10      2.7   7.607608   39.939940\n",
       "297     0.10      2.8   8.808809   39.339339\n",
       "298     0.10      2.9   7.907908   39.939940\n",
       "299     0.10      3.0   8.708709   36.736737\n",
       "\n",
       "[300 rows x 4 columns]"
      ]
     },
     "execution_count": 367,
     "metadata": {},
     "output_type": "execute_result"
    }
   ],
   "source": [
    "df   # de longueur 300 pour nos 300 couples différents"
   ]
  },
  {
   "cell_type": "code",
   "execution_count": 368,
   "metadata": {},
   "outputs": [],
   "source": [
    "# export au format csv\n",
    "\n",
    "df.to_csv(\"/home/guillot/Documents/Robin Ensae/Matières/Simulation et Monte Carlo/tableau_var.csv\",index=False)\n",
    "df=pd.read_csv(\"/home/guillot/Documents/Robin Ensae/Matières/Simulation et Monte Carlo/tableau_var.csv\")"
   ]
  },
  {
   "cell_type": "code",
   "execution_count": 369,
   "metadata": {},
   "outputs": [
    {
     "data": {
      "text/plain": [
       "[<matplotlib.lines.Line2D at 0x7fa63d14ac70>]"
      ]
     },
     "execution_count": 369,
     "metadata": {},
     "output_type": "execute_result"
    },
    {
     "data": {
      "image/png": "[encoded data removed]",
      "text/plain": [
       "<Figure size 432x288 with 1 Axes>"
      ]
     },
     "metadata": {
      "needs_background": "light"
     },
     "output_type": "display_data"
    }
   ],
   "source": [
    "# taux d'acceptation pour mu selon les 300 couples\n",
    "\n",
    "\n",
    "plt.title('Taux acceptation pour $\\mu$ en fonction de nos 300 couples générés')\n",
    "plt.plot(l_mu)"
   ]
  },
  {
   "cell_type": "markdown",
   "metadata": {},
   "source": [
    "Le taux d'acceptation est très variable, mais doit être choisi plutot de l'ordre de 40/50 \\%"
   ]
  },
  {
   "cell_type": "code",
   "execution_count": 370,
   "metadata": {},
   "outputs": [
    {
     "data": {
      "text/plain": [
       "[<matplotlib.lines.Line2D at 0x7fa63d12cdf0>]"
      ]
     },
     "execution_count": 370,
     "metadata": {},
     "output_type": "execute_result"
    },
    {
     "data": {
      "image/png": "[encoded data removed]",
      "text/plain": [
       "<Figure size 432x288 with 1 Axes>"
      ]
     },
     "metadata": {
      "needs_background": "light"
     },
     "output_type": "display_data"
    }
   ],
   "source": [
    "# taux d'acceptation pour kappa selon les 300 couples\n",
    "\n",
    "\n",
    "plt.title('Taux acceptation pour $\\kappa$ en fonction de nos 300 couples générés')\n",
    "plt.plot(l_kappa)"
   ]
  },
  {
   "cell_type": "markdown",
   "metadata": {},
   "source": [
    "De cette forme périodique, on déduit que le taux d'acceptation pour $\\kappa$ varie peu avec la première variance $\\sigma_1$.\n",
    "Fixons $\\sigma_1$(par exemple =0.05 mais cela n'a pas d'importance) : "
   ]
  },
  {
   "cell_type": "code",
   "execution_count": 371,
   "metadata": {},
   "outputs": [
    {
     "data": {
      "text/plain": [
       "[<matplotlib.lines.Line2D at 0x7fa63d0901f0>]"
      ]
     },
     "execution_count": 371,
     "metadata": {},
     "output_type": "execute_result"
    },
    {
     "data": {
      "image/png": "[encoded data removed]",
      "text/plain": [
       "<Figure size 432x288 with 1 Axes>"
      ]
     },
     "metadata": {
      "needs_background": "light"
     },
     "output_type": "display_data"
    }
   ],
   "source": [
    "plt.title('Taux acceptation pour $\\kappa$ en fonction de $\\sigma_2$')\n",
    "\n",
    "plt.plot(np.linspace(0.1,3,30),df[df['sigma_1']==0.05]['taux_kappa'])   \n"
   ]
  },
  {
   "cell_type": "markdown",
   "metadata": {},
   "source": [
    "Un taux d'acceptation de l'ordre de 40 à 50 \\% est bien"
   ]
  },
  {
   "cell_type": "code",
   "execution_count": 373,
   "metadata": {},
   "outputs": [
    {
     "data": {
      "text/plain": [
       "<matplotlib.lines.Line2D at 0x7fa63f3781f0>"
      ]
     },
     "execution_count": 373,
     "metadata": {},
     "output_type": "execute_result"
    },
    {
     "data": {
      "image/png": "[encoded data removed]",
      "text/plain": [
       "<Figure size 432x288 with 1 Axes>"
      ]
     },
     "metadata": {
      "needs_background": "light"
     },
     "output_type": "display_data"
    }
   ],
   "source": [
    "plt.title('Taux acceptation pour $\\kappa$ en fonction de $\\sigma_2$')\n",
    "\n",
    "plt.plot(np.linspace(0.1,3,30),df[df['sigma_1']==0.05]['taux_kappa'])\n",
    "plt.axhline(40, color='red',linestyle='--')\n",
    "plt.axhline(50, color='red',linestyle='--')\n",
    "plt.axvline(1.8, color='green',linestyle='--')\n",
    "plt.axvline(2.7, color='green',linestyle='--')"
   ]
  },
  {
   "cell_type": "markdown",
   "metadata": {},
   "source": [
    "On voit que pour $\\sigma_2 \\in [1,8;2,7]$, on a un bon taux d'acceptation. La valeur de $\\sigma_2 = 2$ qu'on a choisi depuis le début est donc adaptée.\n",
    "\n",
    "Une fois $\\sigma_2$ choisie, quelle valeur prendre pour $\\sigma_1$ ?\n",
    "Représentons le taux d'acceptation en fonction de $\\sigma_1$ (cette fois on a fixé l'autre variance à 2) :"
   ]
  },
  {
   "cell_type": "code",
   "execution_count": 374,
   "metadata": {},
   "outputs": [
    {
     "data": {
      "text/plain": [
       "[<matplotlib.lines.Line2D at 0x7fa63d1c53a0>]"
      ]
     },
     "execution_count": 374,
     "metadata": {},
     "output_type": "execute_result"
    },
    {
     "data": {
      "image/png": "[encoded data removed]",
      "text/plain": [
       "<Figure size 432x288 with 1 Axes>"
      ]
     },
     "metadata": {
      "needs_background": "light"
     },
     "output_type": "display_data"
    }
   ],
   "source": [
    "plt.title('Taux acceptation pour $\\mu$ en fonction de $\\sigma_1$')\n",
    "\n",
    "plt.plot(np.linspace(0.01,0.1,10),df[df['sigma_2']==2]['taux_mu'])"
   ]
  },
  {
   "cell_type": "code",
   "execution_count": 380,
   "metadata": {},
   "outputs": [
    {
     "data": {
      "text/plain": [
       "<matplotlib.lines.Line2D at 0x7fa63e84da60>"
      ]
     },
     "execution_count": 380,
     "metadata": {},
     "output_type": "execute_result"
    },
    {
     "data": {
      "image/png": "[encoded data removed]",
      "text/plain": [
       "<Figure size 432x288 with 1 Axes>"
      ]
     },
     "metadata": {
      "needs_background": "light"
     },
     "output_type": "display_data"
    }
   ],
   "source": [
    "plt.title('Taux acceptation pour $\\kappa$ en fonction de $\\sigma_2$')\n",
    "\n",
    "plt.plot(np.linspace(0.01,0.1,10),df[df['sigma_2']==2]['taux_mu'])\n",
    "plt.axhline(40, color='red',linestyle='--')\n",
    "plt.axhline(50, color='red',linestyle='--')\n",
    "plt.axvline(0.012, color='green',linestyle='--')\n",
    "plt.axvline(0.017, color='green',linestyle='--')"
   ]
  },
  {
   "cell_type": "markdown",
   "metadata": {},
   "source": [
    "On voit que pour $\\sigma_1 \\in [0.012;0.017]$, on a un bon taux d'acceptation."
   ]
  },
  {
   "cell_type": "markdown",
   "metadata": {},
   "source": [
    "Bilan : critère 3 ok ! \n",
    "\n",
    "$\\sigma_2 \\in [1,8;2,7]$ et $\\sigma_1 \\in [0.012;0.017]$ sont de bons paramètres"
   ]
  },
  {
   "cell_type": "markdown",
   "metadata": {},
   "source": [
    "### critère 4"
   ]
  },
  {
   "cell_type": "markdown",
   "metadata": {},
   "source": [
    "Tracons les fonction d'autocorrélations pour $\\mu$ et $\\kappa$ et vérifions qu'elles décroissent rapidement : "
   ]
  },
  {
   "cell_type": "code",
   "execution_count": 382,
   "metadata": {},
   "outputs": [
    {
     "name": "stderr",
     "output_type": "stream",
     "text": [
      "100%|██████████| 9999/9999 [01:05<00:00, 152.52it/s]\n"
     ]
    }
   ],
   "source": [
    "N = 10000\n",
    "y = np.zeros((N, 93))\n",
    "\n",
    "for i in range (0,91):\n",
    "    y[0,i]=data['prob'][i]\n",
    "y[0,91]=0.5                        \n",
    "y[0,92]=10                           \n",
    "\n",
    "\n",
    "for n in tqdm(range(1, 10000)):\n",
    "    y3[n] = metropolis_within_gibbs_bis(y3[n-1],sigma_1=0.015,sigma_2=2)    # bons paramètres comme vu au-dessus"
   ]
  },
  {
   "cell_type": "code",
   "execution_count": 392,
   "metadata": {},
   "outputs": [
    {
     "data": {
      "text/plain": [
       "Text(0.5, 1.0, 'Autocorrélation pour $\\\\kappa$')"
      ]
     },
     "execution_count": 392,
     "metadata": {},
     "output_type": "execute_result"
    },
    {
     "data": {
      "image/png": "[encoded data removed]",
      "text/plain": [
       "<Figure size 432x288 with 1 Axes>"
      ]
     },
     "metadata": {
      "needs_background": "light"
     },
     "output_type": "display_data"
    },
    {
     "data": {
      "image/png": "[encoded data removed]",
      "text/plain": [
       "<Figure size 432x288 with 1 Axes>"
      ]
     },
     "metadata": {
      "needs_background": "light"
     },
     "output_type": "display_data"
    }
   ],
   "source": [
    "plot_acf(y[:,91])\n",
    "plt.title(\"Autocorrélation pour $\\mu$\")\n",
    "\n",
    "plot_acf(y[:,92])\n",
    "plt.title(\"Autocorrélation pour $\\kappa$\")"
   ]
  },
  {
   "cell_type": "markdown",
   "metadata": {},
   "source": [
    "Bilan : critère 4 ok ! Les autocorrélations décroissent très rapidement !"
   ]
  },
  {
   "cell_type": "markdown",
   "metadata": {},
   "source": [
    "### critère 5"
   ]
  },
  {
   "cell_type": "markdown",
   "metadata": {},
   "source": [
    "DSCM = $\\frac{1}{N}\\sum_{j=0}^{N-1}(x_j-x_{j+1})^2$\n",
    "\n",
    "Il faut maximiser cette quantité ; on va voir pour quel couple de variances cette quantité est la plus élevée"
   ]
  },
  {
   "cell_type": "code",
   "execution_count": 393,
   "metadata": {},
   "outputs": [],
   "source": [
    "def metropolis_DSCM(x,sigma_1,sigma_2):\n",
    "    DSCM_mu=0                                     # initialisation des DSCM à 0                                                     \n",
    "    DSCM_kappa=0                           \n",
    "    \n",
    "    mu=x[91]      \n",
    "    kap=x[92]\n",
    "    y=np.zeros(93) \n",
    "    \n",
    "    for i in range(0,91):\n",
    "        a = mu*kap+data['nb_pos'][i]\n",
    "        b = data['nb_test'][i]-data['nb_pos'][i]+kap*(1-mu)\n",
    "        y[i]=np.random.beta(a,b)\n",
    "    \n",
    "    z = mu + sigma_1 * np.random.randn()      \n",
    "    \n",
    "    if indicatrice1(z)==0:\n",
    "        seuil=-np.inf\n",
    "    else:\n",
    "        quantite_1=-91*np.log(gammar(kap*z)*gammar(kap*(1-z)))\n",
    "        quantite_2=-91*np.log(gammar(kap*mu)*gammar(kap*(1-mu)))\n",
    "        quantite_3=(kap*(z-mu))*(sum([np.log(y[i]/(1-y[i])) for i in range(0,91)]))\n",
    "        seuil=min(0,quantite_1+quantite_3-quantite_2)\n",
    "                                                                   \n",
    "    if np.log(np.random.rand()) < seuil:            \n",
    "        y[91]=z\n",
    "        DSCM_mu+=(y[91]-mu)**2         # si on a une nouvelle valeur, la DSCM augmente, sinon elle reste à 0\n",
    "    \n",
    "    else:\n",
    "        y[91]=mu                             \n",
    "    \n",
    "    \n",
    "    w = kap + sigma_2 * np.random.randn()         \n",
    "    \n",
    "    if indicatrice2(w)==0:\n",
    "        seuil=-np.inf\n",
    "    else:\n",
    "        quantite_1=-0.1*(w-kap)\n",
    "        quantite_2=91*np.log(gammar(w)/(gammar(w*y[91])*gammar(w*(1-y[91]))))\n",
    "        quantite_3=91*np.log(gammar(kap)/(gammar(kap*y[91])*gammar(kap*(1-y[91]))))\n",
    "        quantite_4=(y[91]*(w-kap))*(sum([np.log(y[i]/(1-y[i])) for i in range(0,91)]))\n",
    "        quantite_5=(w-kap)*(sum([np.log(1-y[i]) for i in range(0,91)]))\n",
    "        seuil=min(0,(quantite_1+quantite_2+quantite_4+quantite_5)-quantite_3)\n",
    "        \n",
    "    if np.log(np.random.rand()) < seuil:             \n",
    "        y[92]=w\n",
    "        DSCM_kappa+=(y[92]-kap)**2          # si on a une nouvelle valeur, la DSCM augmente, sinon elle reste à 0 \n",
    "    \n",
    "    else:\n",
    "        y[92]=kap                            \n",
    "\n",
    "    \n",
    "    return y,DSCM_mu,DSCM_kappa     # on retourne les DSCM en plus de y"
   ]
  },
  {
   "cell_type": "code",
   "execution_count": 395,
   "metadata": {},
   "outputs": [],
   "source": [
    "def DSCM(sigma_1,sigma_2):    # fonction qui évalue nos DSCM en fonction des variances\n",
    "    N = 1000                           \n",
    "    y = np.zeros((N, 93))\n",
    "\n",
    "    for i in range (0,91):\n",
    "        y[0,i]=data['prob'][i]\n",
    "    y[0,91]=0.5\n",
    "    y[0,92]=10\n",
    "    \n",
    "    DSCM_mu=0\n",
    "    DSCM_kappa=0\n",
    "\n",
    "    for n in tqdm(range(1, 1000)):\n",
    "        r=metropolis_taux(y[n-1],sigma_1,sigma_2)\n",
    "        y[n]=r[0]\n",
    "        DSCM_mu+=r[1]\n",
    "        DSCM_kappa+=r[2]\n",
    "    \n",
    "    return DSCM_mu/1000,DSCM_kappa/1000"
   ]
  },
  {
   "cell_type": "code",
   "execution_count": 396,
   "metadata": {},
   "outputs": [
    {
     "name": "stderr",
     "output_type": "stream",
     "text": [
      "100%|██████████| 999/999 [00:06<00:00, 160.91it/s]\n",
      "100%|██████████| 999/999 [00:06<00:00, 158.70it/s]\n",
      "100%|██████████| 999/999 [00:07<00:00, 128.06it/s]\n",
      "100%|██████████| 999/999 [00:06<00:00, 147.99it/s]\n",
      "100%|██████████| 999/999 [00:06<00:00, 143.00it/s]\n",
      "100%|██████████| 999/999 [00:06<00:00, 146.69it/s]\n",
      "100%|██████████| 999/999 [00:06<00:00, 156.93it/s]\n",
      "100%|██████████| 999/999 [00:06<00:00, 154.01it/s]\n",
      "100%|██████████| 999/999 [00:06<00:00, 144.00it/s]\n",
      "100%|██████████| 999/999 [00:06<00:00, 150.96it/s]\n",
      "100%|██████████| 999/999 [00:06<00:00, 158.79it/s]\n",
      "100%|██████████| 999/999 [00:06<00:00, 158.73it/s]\n",
      "100%|██████████| 999/999 [00:06<00:00, 161.08it/s]\n",
      "100%|██████████| 999/999 [00:06<00:00, 160.91it/s]\n",
      "100%|██████████| 999/999 [00:06<00:00, 163.54it/s]\n",
      "100%|██████████| 999/999 [00:05<00:00, 166.67it/s]\n",
      "100%|██████████| 999/999 [00:06<00:00, 161.31it/s]\n",
      "100%|██████████| 999/999 [00:05<00:00, 167.97it/s]\n",
      "100%|██████████| 999/999 [00:05<00:00, 168.05it/s]\n",
      "100%|██████████| 999/999 [00:06<00:00, 161.17it/s]\n",
      "100%|██████████| 999/999 [00:06<00:00, 162.13it/s]\n",
      "100%|██████████| 999/999 [00:06<00:00, 157.45it/s]\n",
      "100%|██████████| 999/999 [00:06<00:00, 164.42it/s]\n",
      "100%|██████████| 999/999 [00:06<00:00, 161.62it/s]\n",
      "100%|██████████| 999/999 [00:06<00:00, 161.41it/s]\n",
      "100%|██████████| 999/999 [00:06<00:00, 158.67it/s]\n",
      "100%|██████████| 999/999 [00:05<00:00, 173.04it/s]\n",
      "100%|██████████| 999/999 [00:06<00:00, 160.00it/s]\n",
      "100%|██████████| 999/999 [00:06<00:00, 154.12it/s]\n",
      "100%|██████████| 999/999 [00:06<00:00, 161.64it/s]\n",
      "100%|██████████| 999/999 [00:06<00:00, 162.57it/s]\n",
      "100%|██████████| 999/999 [00:06<00:00, 165.73it/s]\n",
      "100%|██████████| 999/999 [00:06<00:00, 161.23it/s]\n",
      "100%|██████████| 999/999 [00:06<00:00, 164.16it/s]\n",
      "100%|██████████| 999/999 [00:06<00:00, 161.02it/s]\n",
      "100%|██████████| 999/999 [00:06<00:00, 158.10it/s]\n",
      "100%|██████████| 999/999 [00:05<00:00, 169.20it/s]\n",
      "100%|██████████| 999/999 [00:05<00:00, 169.07it/s]\n",
      "100%|██████████| 999/999 [00:06<00:00, 154.65it/s]\n",
      "100%|██████████| 999/999 [00:06<00:00, 154.36it/s]\n",
      "100%|██████████| 999/999 [00:06<00:00, 162.43it/s]\n",
      "100%|██████████| 999/999 [00:06<00:00, 156.13it/s]\n",
      "100%|██████████| 999/999 [00:06<00:00, 164.22it/s]\n",
      "100%|██████████| 999/999 [00:06<00:00, 156.11it/s]\n",
      "100%|██████████| 999/999 [00:06<00:00, 155.13it/s]\n",
      "100%|██████████| 999/999 [00:06<00:00, 162.03it/s]\n",
      "100%|██████████| 999/999 [00:06<00:00, 155.81it/s]\n",
      "100%|██████████| 999/999 [00:06<00:00, 163.43it/s]\n",
      "100%|██████████| 999/999 [00:06<00:00, 159.40it/s]\n",
      "100%|██████████| 999/999 [00:06<00:00, 158.31it/s]\n",
      "100%|██████████| 999/999 [00:06<00:00, 162.65it/s]\n",
      "100%|██████████| 999/999 [00:06<00:00, 155.69it/s]\n",
      "100%|██████████| 999/999 [00:05<00:00, 172.66it/s]\n",
      "100%|██████████| 999/999 [00:06<00:00, 162.37it/s]\n",
      "100%|██████████| 999/999 [00:06<00:00, 159.92it/s]\n",
      "100%|██████████| 999/999 [00:06<00:00, 162.42it/s]\n",
      "100%|██████████| 999/999 [00:06<00:00, 159.33it/s]\n",
      "100%|██████████| 999/999 [00:05<00:00, 169.85it/s]\n",
      "100%|██████████| 999/999 [00:05<00:00, 170.62it/s]\n",
      "100%|██████████| 999/999 [00:05<00:00, 173.72it/s]\n",
      "100%|██████████| 999/999 [00:06<00:00, 146.49it/s]\n",
      "100%|██████████| 999/999 [00:06<00:00, 162.12it/s]\n",
      "100%|██████████| 999/999 [00:06<00:00, 161.83it/s]\n",
      "100%|██████████| 999/999 [00:06<00:00, 163.07it/s]\n",
      "100%|██████████| 999/999 [00:06<00:00, 160.20it/s]\n",
      "100%|██████████| 999/999 [00:06<00:00, 155.99it/s]\n",
      "100%|██████████| 999/999 [00:05<00:00, 166.55it/s]\n",
      "100%|██████████| 999/999 [00:06<00:00, 156.87it/s]\n",
      "100%|██████████| 999/999 [00:05<00:00, 168.11it/s]\n",
      "100%|██████████| 999/999 [00:06<00:00, 159.50it/s]\n",
      "100%|██████████| 999/999 [00:06<00:00, 166.31it/s]\n",
      "100%|██████████| 999/999 [00:06<00:00, 164.41it/s]\n",
      "100%|██████████| 999/999 [00:06<00:00, 158.65it/s]\n",
      "100%|██████████| 999/999 [00:06<00:00, 165.79it/s]\n",
      "100%|██████████| 999/999 [00:06<00:00, 165.88it/s]\n",
      "100%|██████████| 999/999 [00:06<00:00, 160.16it/s]\n",
      "100%|██████████| 999/999 [00:05<00:00, 166.93it/s]\n",
      "100%|██████████| 999/999 [00:06<00:00, 165.27it/s]\n",
      "100%|██████████| 999/999 [00:06<00:00, 163.38it/s]\n",
      "100%|██████████| 999/999 [00:06<00:00, 156.44it/s]\n",
      "100%|██████████| 999/999 [00:05<00:00, 166.95it/s]\n",
      "100%|██████████| 999/999 [00:05<00:00, 172.26it/s]\n",
      "100%|██████████| 999/999 [00:06<00:00, 159.06it/s]\n",
      "100%|██████████| 999/999 [00:05<00:00, 172.71it/s]\n",
      "100%|██████████| 999/999 [00:05<00:00, 168.74it/s]\n",
      "100%|██████████| 999/999 [00:05<00:00, 167.75it/s]\n",
      "100%|██████████| 999/999 [00:05<00:00, 168.44it/s]\n",
      "100%|██████████| 999/999 [00:05<00:00, 166.85it/s]\n",
      "100%|██████████| 999/999 [00:05<00:00, 172.84it/s]\n",
      "100%|██████████| 999/999 [00:05<00:00, 169.38it/s]\n",
      "100%|██████████| 999/999 [00:05<00:00, 173.64it/s]\n",
      "100%|██████████| 999/999 [00:05<00:00, 170.67it/s]\n",
      "100%|██████████| 999/999 [00:05<00:00, 166.89it/s]\n",
      "100%|██████████| 999/999 [00:06<00:00, 164.38it/s]\n",
      "100%|██████████| 999/999 [00:05<00:00, 172.35it/s]\n",
      "100%|██████████| 999/999 [00:06<00:00, 166.31it/s]\n",
      "100%|██████████| 999/999 [00:06<00:00, 164.73it/s]\n",
      "100%|██████████| 999/999 [00:06<00:00, 162.13it/s]\n",
      "100%|██████████| 999/999 [00:05<00:00, 168.34it/s]\n",
      "100%|██████████| 999/999 [00:06<00:00, 157.59it/s]\n",
      "100%|██████████| 999/999 [00:06<00:00, 157.36it/s]\n",
      "100%|██████████| 999/999 [00:05<00:00, 172.68it/s]\n",
      "100%|██████████| 999/999 [00:06<00:00, 160.63it/s]\n",
      "100%|██████████| 999/999 [00:06<00:00, 159.03it/s]\n",
      "100%|██████████| 999/999 [00:06<00:00, 159.23it/s]\n",
      "100%|██████████| 999/999 [00:06<00:00, 155.17it/s]\n",
      "100%|██████████| 999/999 [00:06<00:00, 162.11it/s]\n",
      "100%|██████████| 999/999 [00:06<00:00, 156.91it/s]\n",
      "100%|██████████| 999/999 [00:06<00:00, 166.02it/s]\n",
      "100%|██████████| 999/999 [00:06<00:00, 166.01it/s]\n",
      "100%|██████████| 999/999 [00:06<00:00, 161.67it/s]\n",
      "100%|██████████| 999/999 [00:06<00:00, 161.61it/s]\n",
      "100%|██████████| 999/999 [00:06<00:00, 152.07it/s]\n",
      "100%|██████████| 999/999 [00:06<00:00, 144.81it/s]\n",
      "100%|██████████| 999/999 [00:06<00:00, 164.81it/s]\n",
      "100%|██████████| 999/999 [00:05<00:00, 171.24it/s]\n",
      "100%|██████████| 999/999 [00:06<00:00, 163.08it/s]\n",
      "100%|██████████| 999/999 [00:05<00:00, 172.27it/s]\n",
      "100%|██████████| 999/999 [00:05<00:00, 167.02it/s]\n",
      "100%|██████████| 999/999 [00:06<00:00, 150.35it/s]\n",
      "100%|██████████| 999/999 [00:06<00:00, 162.79it/s]\n",
      "100%|██████████| 999/999 [00:06<00:00, 162.79it/s]\n",
      "100%|██████████| 999/999 [00:05<00:00, 166.82it/s]\n",
      "100%|██████████| 999/999 [00:06<00:00, 163.35it/s]\n",
      "100%|██████████| 999/999 [00:06<00:00, 159.32it/s]\n",
      "100%|██████████| 999/999 [00:06<00:00, 165.26it/s]\n",
      "100%|██████████| 999/999 [00:06<00:00, 160.32it/s]\n",
      "100%|██████████| 999/999 [00:06<00:00, 160.76it/s]\n",
      "100%|██████████| 999/999 [00:06<00:00, 165.67it/s]\n",
      "100%|██████████| 999/999 [00:05<00:00, 168.65it/s]\n",
      "100%|██████████| 999/999 [00:05<00:00, 171.96it/s]\n",
      "100%|██████████| 999/999 [00:06<00:00, 164.33it/s]\n",
      "100%|██████████| 999/999 [00:05<00:00, 172.04it/s]\n",
      "100%|██████████| 999/999 [00:05<00:00, 167.72it/s]\n",
      "100%|██████████| 999/999 [00:05<00:00, 173.43it/s]\n",
      "100%|██████████| 999/999 [00:06<00:00, 163.73it/s]\n",
      "100%|██████████| 999/999 [00:05<00:00, 170.41it/s]\n",
      "100%|██████████| 999/999 [00:05<00:00, 177.60it/s]\n",
      "100%|██████████| 999/999 [00:06<00:00, 162.56it/s]\n",
      "100%|██████████| 999/999 [00:05<00:00, 168.01it/s]\n",
      "100%|██████████| 999/999 [00:06<00:00, 164.97it/s]\n",
      "100%|██████████| 999/999 [00:06<00:00, 161.38it/s]\n",
      "100%|██████████| 999/999 [00:05<00:00, 175.33it/s]\n",
      "100%|██████████| 999/999 [00:05<00:00, 166.97it/s]\n",
      "100%|██████████| 999/999 [00:05<00:00, 176.28it/s]\n",
      "100%|██████████| 999/999 [00:05<00:00, 167.59it/s]\n",
      "100%|██████████| 999/999 [00:06<00:00, 163.65it/s]\n",
      "100%|██████████| 999/999 [00:06<00:00, 162.84it/s]\n",
      "100%|██████████| 999/999 [00:05<00:00, 169.30it/s]\n",
      "100%|██████████| 999/999 [00:05<00:00, 176.77it/s]\n",
      "100%|██████████| 999/999 [00:05<00:00, 167.21it/s]\n",
      "100%|██████████| 999/999 [00:05<00:00, 166.89it/s]\n",
      "100%|██████████| 999/999 [00:05<00:00, 167.35it/s]\n",
      "100%|██████████| 999/999 [00:06<00:00, 166.00it/s]\n",
      "100%|██████████| 999/999 [00:06<00:00, 163.01it/s]\n",
      "100%|██████████| 999/999 [00:05<00:00, 167.66it/s]\n",
      "100%|██████████| 999/999 [00:05<00:00, 172.26it/s]\n",
      "100%|██████████| 999/999 [00:05<00:00, 170.95it/s]\n",
      "100%|██████████| 999/999 [00:05<00:00, 167.12it/s]\n",
      "100%|██████████| 999/999 [00:06<00:00, 162.71it/s]\n"
     ]
    },
    {
     "name": "stderr",
     "output_type": "stream",
     "text": [
      "100%|██████████| 999/999 [00:06<00:00, 164.17it/s]\n",
      "100%|██████████| 999/999 [00:05<00:00, 169.83it/s]\n",
      "100%|██████████| 999/999 [00:05<00:00, 167.06it/s]\n",
      "100%|██████████| 999/999 [00:05<00:00, 169.90it/s]\n",
      "100%|██████████| 999/999 [00:05<00:00, 172.02it/s]\n",
      "100%|██████████| 999/999 [00:05<00:00, 168.46it/s]\n",
      "100%|██████████| 999/999 [00:06<00:00, 164.87it/s]\n",
      "100%|██████████| 999/999 [00:05<00:00, 173.70it/s]\n",
      "100%|██████████| 999/999 [00:05<00:00, 176.02it/s]\n",
      "100%|██████████| 999/999 [00:05<00:00, 169.81it/s]\n",
      "100%|██████████| 999/999 [00:05<00:00, 169.75it/s]\n",
      "100%|██████████| 999/999 [00:06<00:00, 148.58it/s]\n",
      "100%|██████████| 999/999 [00:05<00:00, 167.25it/s]\n",
      "100%|██████████| 999/999 [00:05<00:00, 174.26it/s]\n",
      "100%|██████████| 999/999 [00:05<00:00, 169.64it/s]\n",
      "100%|██████████| 999/999 [00:06<00:00, 165.41it/s]\n",
      "100%|██████████| 999/999 [00:06<00:00, 165.86it/s]\n",
      "100%|██████████| 999/999 [00:06<00:00, 160.62it/s]\n",
      "100%|██████████| 999/999 [00:05<00:00, 172.62it/s]\n",
      "100%|██████████| 999/999 [00:06<00:00, 158.40it/s]\n",
      "100%|██████████| 999/999 [00:05<00:00, 167.38it/s]\n",
      "100%|██████████| 999/999 [00:06<00:00, 162.73it/s]\n",
      "100%|██████████| 999/999 [00:06<00:00, 155.22it/s]\n",
      "100%|██████████| 999/999 [00:06<00:00, 163.33it/s]\n",
      "100%|██████████| 999/999 [00:05<00:00, 177.83it/s]\n",
      "100%|██████████| 999/999 [00:05<00:00, 177.80it/s]\n",
      "100%|██████████| 999/999 [00:06<00:00, 163.35it/s]\n",
      "100%|██████████| 999/999 [00:06<00:00, 159.31it/s]\n",
      "100%|██████████| 999/999 [00:05<00:00, 170.25it/s]\n",
      "100%|██████████| 999/999 [00:05<00:00, 171.49it/s]\n",
      "100%|██████████| 999/999 [00:05<00:00, 171.48it/s]\n",
      "100%|██████████| 999/999 [00:06<00:00, 163.96it/s]\n",
      "100%|██████████| 999/999 [00:05<00:00, 166.57it/s]\n",
      "100%|██████████| 999/999 [00:05<00:00, 166.63it/s]\n",
      "100%|██████████| 999/999 [00:05<00:00, 175.07it/s]\n",
      "100%|██████████| 999/999 [00:05<00:00, 167.37it/s]\n",
      "100%|██████████| 999/999 [00:06<00:00, 162.57it/s]\n",
      "100%|██████████| 999/999 [00:05<00:00, 175.93it/s]\n",
      "100%|██████████| 999/999 [00:05<00:00, 175.73it/s]\n",
      "100%|██████████| 999/999 [00:05<00:00, 169.11it/s]\n",
      "100%|██████████| 999/999 [00:05<00:00, 170.34it/s]\n",
      "100%|██████████| 999/999 [00:06<00:00, 165.43it/s]\n",
      "100%|██████████| 999/999 [00:06<00:00, 164.07it/s]\n",
      "100%|██████████| 999/999 [00:05<00:00, 172.89it/s]\n",
      "100%|██████████| 999/999 [00:05<00:00, 170.34it/s]\n",
      "100%|██████████| 999/999 [00:05<00:00, 177.64it/s]\n",
      "100%|██████████| 999/999 [00:06<00:00, 165.72it/s]\n",
      "100%|██████████| 999/999 [00:05<00:00, 170.28it/s]\n",
      "100%|██████████| 999/999 [00:05<00:00, 176.87it/s]\n",
      "100%|██████████| 999/999 [00:06<00:00, 164.59it/s]\n",
      "100%|██████████| 999/999 [00:06<00:00, 164.75it/s]\n",
      "100%|██████████| 999/999 [00:05<00:00, 176.64it/s]\n",
      "100%|██████████| 999/999 [00:05<00:00, 170.43it/s]\n",
      "100%|██████████| 999/999 [00:05<00:00, 168.30it/s]\n",
      "100%|██████████| 999/999 [00:05<00:00, 176.93it/s]\n",
      "100%|██████████| 999/999 [00:05<00:00, 167.50it/s]\n",
      "100%|██████████| 999/999 [00:05<00:00, 169.77it/s]\n",
      "100%|██████████| 999/999 [00:05<00:00, 177.70it/s]\n",
      "100%|██████████| 999/999 [00:05<00:00, 179.62it/s]\n",
      "100%|██████████| 999/999 [00:05<00:00, 175.34it/s]\n",
      "100%|██████████| 999/999 [00:06<00:00, 151.02it/s]\n",
      "100%|██████████| 999/999 [00:05<00:00, 167.52it/s]\n",
      "100%|██████████| 999/999 [00:06<00:00, 160.12it/s]\n",
      "100%|██████████| 999/999 [00:06<00:00, 162.63it/s]\n",
      "100%|██████████| 999/999 [00:06<00:00, 158.82it/s]\n",
      "100%|██████████| 999/999 [00:06<00:00, 151.42it/s]\n",
      "100%|██████████| 999/999 [00:06<00:00, 162.87it/s]\n",
      "100%|██████████| 999/999 [00:06<00:00, 156.86it/s]\n",
      "100%|██████████| 999/999 [00:06<00:00, 163.26it/s]\n",
      "100%|██████████| 999/999 [00:06<00:00, 160.39it/s]\n",
      "100%|██████████| 999/999 [00:06<00:00, 165.19it/s]\n",
      "100%|██████████| 999/999 [00:06<00:00, 163.46it/s]\n",
      "100%|██████████| 999/999 [00:06<00:00, 162.85it/s]\n",
      "100%|██████████| 999/999 [00:05<00:00, 168.28it/s]\n",
      "100%|██████████| 999/999 [00:06<00:00, 153.41it/s]\n",
      "100%|██████████| 999/999 [00:06<00:00, 157.41it/s]\n",
      "100%|██████████| 999/999 [00:05<00:00, 171.76it/s]\n",
      "100%|██████████| 999/999 [00:06<00:00, 151.48it/s]\n",
      "100%|██████████| 999/999 [00:06<00:00, 165.95it/s]\n",
      "100%|██████████| 999/999 [00:06<00:00, 160.31it/s]\n",
      "100%|██████████| 999/999 [00:06<00:00, 142.76it/s]\n",
      "100%|██████████| 999/999 [00:06<00:00, 144.50it/s]\n",
      "100%|██████████| 999/999 [00:06<00:00, 162.60it/s]\n",
      "100%|██████████| 999/999 [00:06<00:00, 156.46it/s]\n",
      "100%|██████████| 999/999 [00:06<00:00, 164.39it/s]\n",
      "100%|██████████| 999/999 [00:05<00:00, 168.83it/s]\n",
      "100%|██████████| 999/999 [00:06<00:00, 153.86it/s]\n",
      "100%|██████████| 999/999 [00:06<00:00, 152.40it/s]\n",
      "100%|██████████| 999/999 [00:06<00:00, 159.16it/s]\n",
      "100%|██████████| 999/999 [00:06<00:00, 164.30it/s]\n",
      "100%|██████████| 999/999 [00:06<00:00, 165.94it/s]\n",
      "100%|██████████| 999/999 [00:05<00:00, 171.09it/s]\n",
      "100%|██████████| 999/999 [00:06<00:00, 163.81it/s]\n",
      "100%|██████████| 999/999 [00:05<00:00, 168.63it/s]\n",
      "100%|██████████| 999/999 [00:06<00:00, 159.16it/s]\n",
      "100%|██████████| 999/999 [00:06<00:00, 148.07it/s]\n",
      "100%|██████████| 999/999 [00:06<00:00, 156.97it/s]\n",
      "100%|██████████| 999/999 [00:07<00:00, 141.76it/s]\n",
      "100%|██████████| 999/999 [00:06<00:00, 144.67it/s]\n",
      "100%|██████████| 999/999 [00:06<00:00, 154.38it/s]\n",
      "100%|██████████| 999/999 [00:06<00:00, 152.48it/s]\n",
      "100%|██████████| 999/999 [00:06<00:00, 149.96it/s]\n",
      "100%|██████████| 999/999 [00:06<00:00, 154.49it/s]\n",
      "100%|██████████| 999/999 [00:06<00:00, 155.97it/s]\n",
      "100%|██████████| 999/999 [00:06<00:00, 149.38it/s]\n",
      "100%|██████████| 999/999 [00:06<00:00, 143.18it/s]\n",
      "100%|██████████| 999/999 [00:06<00:00, 146.64it/s]\n",
      "100%|██████████| 999/999 [00:06<00:00, 149.41it/s]\n",
      "100%|██████████| 999/999 [00:06<00:00, 166.21it/s]\n",
      "100%|██████████| 999/999 [00:06<00:00, 148.31it/s]\n",
      "100%|██████████| 999/999 [00:06<00:00, 144.10it/s]\n",
      "100%|██████████| 999/999 [00:06<00:00, 151.29it/s]\n",
      "100%|██████████| 999/999 [00:06<00:00, 156.31it/s]\n",
      "100%|██████████| 999/999 [00:06<00:00, 158.98it/s]\n",
      "100%|██████████| 999/999 [00:06<00:00, 144.68it/s]\n",
      "100%|██████████| 999/999 [00:06<00:00, 151.61it/s]\n",
      "100%|██████████| 999/999 [00:06<00:00, 152.45it/s]\n",
      "100%|██████████| 999/999 [00:06<00:00, 154.35it/s]\n",
      "100%|██████████| 999/999 [00:06<00:00, 142.88it/s]\n",
      "100%|██████████| 999/999 [00:06<00:00, 152.29it/s]\n",
      "100%|██████████| 999/999 [00:06<00:00, 152.96it/s]\n",
      "100%|██████████| 999/999 [00:06<00:00, 153.22it/s]\n",
      "100%|██████████| 999/999 [00:06<00:00, 153.21it/s]\n",
      "100%|██████████| 999/999 [00:06<00:00, 154.48it/s]\n",
      "100%|██████████| 999/999 [00:06<00:00, 160.00it/s]\n",
      "100%|██████████| 999/999 [00:06<00:00, 163.11it/s]\n",
      "100%|██████████| 999/999 [00:06<00:00, 157.38it/s]\n",
      "100%|██████████| 999/999 [00:06<00:00, 160.42it/s]\n",
      "100%|██████████| 999/999 [00:06<00:00, 153.75it/s]\n",
      "100%|██████████| 999/999 [00:06<00:00, 158.26it/s]\n",
      "100%|██████████| 999/999 [00:05<00:00, 167.44it/s]\n",
      "100%|██████████| 999/999 [00:06<00:00, 148.75it/s]\n",
      "100%|██████████| 999/999 [00:06<00:00, 154.72it/s]\n",
      "100%|██████████| 999/999 [00:06<00:00, 157.26it/s]\n",
      "100%|██████████| 999/999 [00:06<00:00, 147.31it/s]\n",
      "100%|██████████| 999/999 [00:07<00:00, 131.35it/s]\n",
      "100%|██████████| 999/999 [00:07<00:00, 127.94it/s]\n",
      "100%|██████████| 999/999 [00:06<00:00, 150.89it/s]\n",
      "100%|██████████| 999/999 [00:07<00:00, 139.54it/s]\n",
      "100%|██████████| 999/999 [00:07<00:00, 142.19it/s]\n"
     ]
    }
   ],
   "source": [
    "# faisons maintenant varier sigma_1 et sigma_2 \n",
    "\n",
    "l_mu, l_kappa = [],[]\n",
    "for sigma_1 in np.linspace(0.01,0.1,10):                # sigma_1 va de 0,01 ; 0,02 ;... jusqu'à 0.1\n",
    "    for sigma_2 in np.linspace(0.1,3,30):               # sigma_2 va de 0,1 ; 0,2 ;... jusqu'à 3\n",
    "        r=DSCM(sigma_1,sigma_2)\n",
    "        l_mu.append(r[0])\n",
    "        l_kappa.append(r[1])"
   ]
  },
  {
   "cell_type": "code",
   "execution_count": 397,
   "metadata": {},
   "outputs": [],
   "source": [
    "# dataframe regroupant les résultats\n",
    "\n",
    "# liste pour sigma_1\n",
    "\n",
    "sigma_1=[]\n",
    "for k in np.linspace(0.01,0.1,10):\n",
    "    sigma_1+=30*[k]\n",
    "    \n",
    "\n",
    "# liste pour sigma_2\n",
    "\n",
    "sigma_2=[]\n",
    "for k in range(0,10):\n",
    "    sigma_2=np.hstack((sigma_2,np.linspace(0.1,3,30)))\n",
    "    \n",
    "dg = pd.DataFrame({'sigma_1':sigma_1, 'sigma_2':sigma_2, 'DSCM_mu':l_mu, 'DSCM_kappa':l_kappa})\n",
    "dg['sigma_1']=dg['sigma_1'].apply(lambda s: np.round(s,2))"
   ]
  },
  {
   "cell_type": "code",
   "execution_count": 398,
   "metadata": {},
   "outputs": [
    {
     "data": {
      "text/html": [
       "<div>\n",
       "<style scoped>\n",
       "    .dataframe tbody tr th:only-of-type {\n",
       "        vertical-align: middle;\n",
       "    }\n",
       "\n",
       "    .dataframe tbody tr th {\n",
       "        vertical-align: top;\n",
       "    }\n",
       "\n",
       "    .dataframe thead th {\n",
       "        text-align: right;\n",
       "    }\n",
       "</style>\n",
       "<table border=\"1\" class=\"dataframe\">\n",
       "  <thead>\n",
       "    <tr style=\"text-align: right;\">\n",
       "      <th></th>\n",
       "      <th>sigma_1</th>\n",
       "      <th>sigma_2</th>\n",
       "      <th>DSCM_mu</th>\n",
       "      <th>DSCM_kappa</th>\n",
       "    </tr>\n",
       "  </thead>\n",
       "  <tbody>\n",
       "    <tr>\n",
       "      <th>0</th>\n",
       "      <td>0.01</td>\n",
       "      <td>0.1</td>\n",
       "      <td>0.587</td>\n",
       "      <td>0.914</td>\n",
       "    </tr>\n",
       "    <tr>\n",
       "      <th>1</th>\n",
       "      <td>0.01</td>\n",
       "      <td>0.2</td>\n",
       "      <td>0.529</td>\n",
       "      <td>0.908</td>\n",
       "    </tr>\n",
       "    <tr>\n",
       "      <th>2</th>\n",
       "      <td>0.01</td>\n",
       "      <td>0.3</td>\n",
       "      <td>0.539</td>\n",
       "      <td>0.856</td>\n",
       "    </tr>\n",
       "    <tr>\n",
       "      <th>3</th>\n",
       "      <td>0.01</td>\n",
       "      <td>0.4</td>\n",
       "      <td>0.565</td>\n",
       "      <td>0.777</td>\n",
       "    </tr>\n",
       "    <tr>\n",
       "      <th>4</th>\n",
       "      <td>0.01</td>\n",
       "      <td>0.5</td>\n",
       "      <td>0.561</td>\n",
       "      <td>0.759</td>\n",
       "    </tr>\n",
       "    <tr>\n",
       "      <th>...</th>\n",
       "      <td>...</td>\n",
       "      <td>...</td>\n",
       "      <td>...</td>\n",
       "      <td>...</td>\n",
       "    </tr>\n",
       "    <tr>\n",
       "      <th>295</th>\n",
       "      <td>0.10</td>\n",
       "      <td>2.6</td>\n",
       "      <td>0.083</td>\n",
       "      <td>0.373</td>\n",
       "    </tr>\n",
       "    <tr>\n",
       "      <th>296</th>\n",
       "      <td>0.10</td>\n",
       "      <td>2.7</td>\n",
       "      <td>0.083</td>\n",
       "      <td>0.398</td>\n",
       "    </tr>\n",
       "    <tr>\n",
       "      <th>297</th>\n",
       "      <td>0.10</td>\n",
       "      <td>2.8</td>\n",
       "      <td>0.085</td>\n",
       "      <td>0.383</td>\n",
       "    </tr>\n",
       "    <tr>\n",
       "      <th>298</th>\n",
       "      <td>0.10</td>\n",
       "      <td>2.9</td>\n",
       "      <td>0.066</td>\n",
       "      <td>0.386</td>\n",
       "    </tr>\n",
       "    <tr>\n",
       "      <th>299</th>\n",
       "      <td>0.10</td>\n",
       "      <td>3.0</td>\n",
       "      <td>0.073</td>\n",
       "      <td>0.385</td>\n",
       "    </tr>\n",
       "  </tbody>\n",
       "</table>\n",
       "<p>300 rows × 4 columns</p>\n",
       "</div>"
      ],
      "text/plain": [
       "     sigma_1  sigma_2  DSCM_mu  DSCM_kappa\n",
       "0       0.01      0.1    0.587       0.914\n",
       "1       0.01      0.2    0.529       0.908\n",
       "2       0.01      0.3    0.539       0.856\n",
       "3       0.01      0.4    0.565       0.777\n",
       "4       0.01      0.5    0.561       0.759\n",
       "..       ...      ...      ...         ...\n",
       "295     0.10      2.6    0.083       0.373\n",
       "296     0.10      2.7    0.083       0.398\n",
       "297     0.10      2.8    0.085       0.383\n",
       "298     0.10      2.9    0.066       0.386\n",
       "299     0.10      3.0    0.073       0.385\n",
       "\n",
       "[300 rows x 4 columns]"
      ]
     },
     "execution_count": 398,
     "metadata": {},
     "output_type": "execute_result"
    }
   ],
   "source": [
    "dg"
   ]
  },
  {
   "cell_type": "code",
   "execution_count": 399,
   "metadata": {},
   "outputs": [],
   "source": [
    "# export au format csv\n",
    "\n",
    "dg.to_csv(\"/home/guillot/Documents/Robin Ensae/Matières/Simulation et Monte Carlo/tableau_DSCM.csv\",index=False)\n",
    "dg=pd.read_csv(\"/home/guillot/Documents/Robin Ensae/Matières/Simulation et Monte Carlo/tableau_DSCM.csv\")"
   ]
  },
  {
   "cell_type": "code",
   "execution_count": 400,
   "metadata": {},
   "outputs": [
    {
     "data": {
      "text/plain": [
       "[<matplotlib.lines.Line2D at 0x7fa63c6ce280>]"
      ]
     },
     "execution_count": 400,
     "metadata": {},
     "output_type": "execute_result"
    },
    {
     "data": {
      "image/png": "[encoded data removed]",
      "text/plain": [
       "<Figure size 432x288 with 1 Axes>"
      ]
     },
     "metadata": {
      "needs_background": "light"
     },
     "output_type": "display_data"
    }
   ],
   "source": [
    "# DSCM pour mu selon les 300 couples\n",
    "\n",
    "\n",
    "plt.title('DSCM pour $\\mu$ en fonction de nos 300 couples générés')\n",
    "plt.plot(l_mu)"
   ]
  },
  {
   "cell_type": "code",
   "execution_count": 401,
   "metadata": {},
   "outputs": [
    {
     "data": {
      "text/plain": [
       "[<matplotlib.lines.Line2D at 0x7fa63c62c160>]"
      ]
     },
     "execution_count": 401,
     "metadata": {},
     "output_type": "execute_result"
    },
    {
     "data": {
      "image/png": "[encoded data removed]",
      "text/plain": [
       "<Figure size 432x288 with 1 Axes>"
      ]
     },
     "metadata": {
      "needs_background": "light"
     },
     "output_type": "display_data"
    }
   ],
   "source": [
    "# DSCM pour kappa selon les 300 couples\n",
    "\n",
    "\n",
    "plt.title('DSCM pour $\\kappa$ en fonction de nos 300 couples générés')\n",
    "plt.plot(l_kappa)"
   ]
  },
  {
   "cell_type": "markdown",
   "metadata": {},
   "source": [
    "On obtient des graphes assez identiques aux taux d'acceptation.\n",
    "\n",
    "En pratique, on utilise plutôt le critère DSCM que le taux d'acceptation"
   ]
  },
  {
   "cell_type": "markdown",
   "metadata": {},
   "source": [
    "#### Rq générale : on peut utiliser aussi une loi uniforme dans le Metropolis : "
   ]
  },
  {
   "cell_type": "code",
   "execution_count": 176,
   "metadata": {},
   "outputs": [],
   "source": [
    "def uniforme(a,b):\n",
    "    return(a+(b-a)*rd.random())"
   ]
  },
  {
   "cell_type": "code",
   "execution_count": 177,
   "metadata": {},
   "outputs": [],
   "source": [
    "def metropolis_within_gibbs_ter(x,eps1,eps2):\n",
    "    mu=x[91]      \n",
    "    kap=x[92]\n",
    "    y=np.zeros(93)  \n",
    "    \n",
    "    for i in range(0,91):\n",
    "        a = mu*kap+data['nb_pos'][i]\n",
    "        b = data['nb_test'][i]-data['nb_pos'][i]+kap*(1-mu)\n",
    "        y[i]=np.random.beta(a,b)\n",
    "    \n",
    "    z = uniforme(mu-eps1,mu+eps1)      # proposition pour la prochaine valeur de mu : loi uniforme centrée sur  \n",
    "                                       # la valeur précédente et de support dépendant de eps1\n",
    "    if indicatrice1(z)==0:\n",
    "        seuil=-np.inf\n",
    "    else:\n",
    "        quantite_1=-91*np.log(gammar(kap*z)*gammar(kap*(1-z)))\n",
    "        quantite_2=-91*np.log(gammar(kap*mu)*gammar(kap*(1-mu)))\n",
    "        quantite_3=(kap*(z-mu))*(sum([np.log(y[i]/(1-y[i])) for i in range(0,91)]))\n",
    "        seuil=min(0,quantite_1+quantite_3-quantite_2)\n",
    "                                                                   \n",
    "    if np.log(np.random.rand()) < seuil:             \n",
    "        y[91]=z\n",
    "    \n",
    "    else:\n",
    "        y[91]=mu                            \n",
    "    \n",
    "    \n",
    "    w = uniforme(kap-eps2,kap+eps2)        # proposition pour la prochaine valeur de kappa : loi unifrome centrée\n",
    "                                           # sur la valeur précédente et de support dépendant de eps2\n",
    "    if indicatrice2(w)==0:\n",
    "        seuil=-np.inf\n",
    "    else:\n",
    "        quantite_1=-0.1*(w-kap)\n",
    "        quantite_2=91*np.log(gammar(w)/(gammar(w*y[91])*gammar(w*(1-y[91]))))\n",
    "        quantite_3=91*np.log(gammar(kap)/(gammar(kap*y[91])*gammar(kap*(1-y[91]))))\n",
    "        quantite_4=(y[91]*(w-kap))*(sum([np.log(y[i]/(1-y[i])) for i in range(0,91)]))\n",
    "        quantite_5=(w-kap)*(sum([np.log(1-y[i]) for i in range(0,91)]))\n",
    "        seuil=min(0,(quantite_1+quantite_2+quantite_4+quantite_5)-quantite_3)\n",
    "        \n",
    "    if np.log(np.random.rand()) < seuil:             \n",
    "        y[92]=w\n",
    "    \n",
    "    else:\n",
    "        y[92]=kap                            \n",
    "\n",
    "    \n",
    "    return y      "
   ]
  },
  {
   "cell_type": "code",
   "execution_count": 181,
   "metadata": {},
   "outputs": [
    {
     "name": "stderr",
     "output_type": "stream",
     "text": [
      "100%|██████████| 9999/9999 [01:03<00:00, 157.25it/s]\n"
     ]
    }
   ],
   "source": [
    "N = 10000                          # 10 000 itérations \n",
    "y = np.zeros((N, 93))\n",
    "\n",
    "for i in range (0,91):\n",
    "    y[0,i]=data['prob'][i]\n",
    "y[0,91]=0.5\n",
    "y[0,92]=10\n",
    "\n",
    "for n in tqdm(range(1, 10000)):\n",
    "    y[n] = metropolis_within_gibbs_ter(y[n-1],eps1=0.3,eps2=1)"
   ]
  },
  {
   "cell_type": "code",
   "execution_count": 182,
   "metadata": {},
   "outputs": [
    {
     "data": {
      "text/plain": [
       "[<matplotlib.lines.Line2D at 0x7fa63ed51880>]"
      ]
     },
     "execution_count": 182,
     "metadata": {},
     "output_type": "execute_result"
    },
    {
     "data": {
      "image/png": "[encoded data removed]",
      "text/plain": [
       "<Figure size 432x288 with 1 Axes>"
      ]
     },
     "metadata": {
      "needs_background": "light"
     },
     "output_type": "display_data"
    }
   ],
   "source": [
    "plt.plot(y[:,91])\n",
    "\n",
    "# MCMC trace pour mu"
   ]
  },
  {
   "cell_type": "code",
   "execution_count": 183,
   "metadata": {},
   "outputs": [
    {
     "data": {
      "text/plain": [
       "[<matplotlib.lines.Line2D at 0x7fa63ed262b0>]"
      ]
     },
     "execution_count": 183,
     "metadata": {},
     "output_type": "execute_result"
    },
    {
     "data": {
      "image/png": "[encoded data removed]",
      "text/plain": [
       "<Figure size 432x288 with 1 Axes>"
      ]
     },
     "metadata": {
      "needs_background": "light"
     },
     "output_type": "display_data"
    }
   ],
   "source": [
    "plt.plot(y[:,92])\n",
    "\n",
    "# MCMC trace pour kappa"
   ]
  },
  {
   "cell_type": "code",
   "execution_count": 185,
   "metadata": {},
   "outputs": [
    {
     "data": {
      "text/plain": [
       "<AxesSubplot:ylabel='Count'>"
      ]
     },
     "execution_count": 185,
     "metadata": {},
     "output_type": "execute_result"
    },
    {
     "data": {
      "image/png": "[encoded data removed]",
      "text/plain": [
       "<Figure size 432x288 with 1 Axes>"
      ]
     },
     "metadata": {
      "needs_background": "light"
     },
     "output_type": "display_data"
    }
   ],
   "source": [
    "sns.histplot(y[2000:,18])\n",
    "\n",
    "# MCMC trace pour probabilité de l'étude 18"
   ]
  },
  {
   "cell_type": "markdown",
   "metadata": {},
   "source": [
    "On obtient les mêmes résultats"
   ]
  },
  {
   "cell_type": "markdown",
   "metadata": {},
   "source": [
    "## Question 3 : "
   ]
  }
 ],
 "metadata": {
  "kernelspec": {
   "display_name": "Python 3",
   "language": "python",
   "name": "python3"
  },
  "language_info": {
   "codemirror_mode": {
    "name": "ipython",
    "version": 3
   },
   "file_extension": ".py",
   "mimetype": "text/x-python",
   "name": "python",
   "nbconvert_exporter": "python",
   "pygments_lexer": "ipython3",
   "version": "3.8.5"
  }
 },
 "nbformat": 4,
 "nbformat_minor": 4
}
